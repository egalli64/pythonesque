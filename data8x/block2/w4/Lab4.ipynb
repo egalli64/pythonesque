{
 "cells": [
  {
   "cell_type": "markdown",
   "metadata": {},
   "source": [
    "BerkeleyX: Data8.2x\n",
    "\n",
    "Foundations of Data Science: Inferential Thinking by Resampling"
   ]
  },
  {
   "cell_type": "code",
   "execution_count": null,
   "metadata": {},
   "outputs": [],
   "source": [
    "from datascience import *\n",
    "import numpy as np\n",
    "import matplotlib.pyplot as plt\n",
    "%matplotlib inline"
   ]
  },
  {
   "cell_type": "markdown",
   "metadata": {},
   "source": [
    "Lab 4: Inference and Capital Punishment, Part 2\n",
    "\n",
    "Does instituting a death penalty for murder actually reduce the number of murders?\n",
    "\n",
    "$$\\text{murder rate for state X in year Y} = \\frac{\\text{number of murders in state X in year Y}}{\\text{population in state X in year Y}}*100000$$"
   ]
  },
  {
   "cell_type": "code",
   "execution_count": null,
   "metadata": {},
   "outputs": [],
   "source": [
    "# as seen in part 1:\n",
    "\n",
    "murder_rates = Table.read_table('../../data/crime_rates.csv').select(\n",
    "    'State', 'Year', 'Population', 'Murder Rate')\n",
    "murder_rates.set_format(\"Population\", NumberFormatter)\n",
    "\n",
    "def diff_n(values, n):\n",
    "    return np.array(values)[n:] - np.array(values)[:-n]\n",
    "\n",
    "def two_year_changes(rates):\n",
    "    \"Return the number of increases minus the number of decreases after two years.\"\n",
    "    return np.count_nonzero(diff_n(rates, 2) > 0) - np.count_nonzero(diff_n(rates, 2) < 0)"
   ]
  },
  {
   "cell_type": "markdown",
   "metadata": {},
   "source": [
    "**Null Hypothesis**: State murder rates increase and decrease over two-year periods as if \n",
    "\"increase\" or \"decrease\" were sampled at random from a uniform distribution, like a fair coin flip.\n",
    "\n",
    "**Alternative Hypothesis**: State murder rates are more likely to increase over two-year periods.\n",
    "\n",
    "**Test Statistic**: The number of increases minus the number of decreases"
   ]
  },
  {
   "cell_type": "markdown",
   "metadata": {},
   "source": [
    "1: The death penalty"
   ]
  },
  {
   "cell_type": "markdown",
   "metadata": {},
   "source": [
    "A Natural Experiment\n",
    "\n",
    "**Population:** All the states that had the death penalty before the 1972 abolition. This includes all US states **except** Alaska, Hawaii, Maine, Michigan, Wisconsin, and Minnesota.\n",
    "\n",
    "**Treatment group:** The states in that population, in the year after 1972.\n",
    "\n",
    "**Control group:** The states in that population, in the year before 1972.\n",
    "\n",
    "**Null hypothesis:** Each state's murder rate was equally likely to be higher or lower in the treatment period than in the control period.  (Whether the murder rate increased or decreased in each state was like the flip of a fair coin.)\n",
    "\n",
    "**Alternative hypothesis:** The murder rate was more likely to increase."
   ]
  },
  {
   "cell_type": "code",
   "execution_count": null,
   "metadata": {},
   "outputs": [],
   "source": [
    "non_death_penalty_states = np.array(['Alaska', 'Hawaii', 'Maine', 'Michigan', 'Wisconsin', 'Minnesota'])\n",
    "\n",
    "def had_death_penalty_in_1971(state):\n",
    "    \"\"\"True if the state had the death penalty in 1971.\"\"\"\n",
    "    return state not in non_death_penalty_states\n",
    "\n",
    "states = murder_rates.group('State').select('State')\n",
    "death_penalty = states.with_column('Death Penalty', states.apply(had_death_penalty_in_1971, 0))\n",
    "print(death_penalty)"
   ]
  },
  {
   "cell_type": "code",
   "execution_count": null,
   "metadata": {},
   "outputs": [],
   "source": [
    "num_death_penalty_states = death_penalty.where(\"Death Penalty\", are.equal_to(True)).num_rows\n",
    "num_death_penalty_states"
   ]
  },
  {
   "cell_type": "code",
   "execution_count": null,
   "metadata": {},
   "outputs": [],
   "source": [
    "# Question 1.3\n",
    "# Assign death_penalty_murder_rates to a table with the same columns and data as murder_rates,\n",
    "# but that has only the rows for states that had the death penalty in 1971\n",
    "death_penalty_murder_rates = murder_rates.where(\n",
    "    'State', are.not_contained_in(non_death_penalty_states))\n",
    "death_penalty_murder_rates"
   ]
  },
  {
   "cell_type": "code",
   "execution_count": null,
   "metadata": {},
   "outputs": [],
   "source": [
    "# Question 1.4. \n",
    "# Assign test_stat_72 to the value of the test statistic for the years 1971 to 1973\n",
    "# using the states in death_penalty_murder_rates\n",
    "good_years = death_penalty_murder_rates.where('Year', are.between_or_equal_to(1971, 1973))\n",
    "up_or_down = good_years.group('State', two_year_changes).column(3)\n",
    "test_stat_72 = np.count_nonzero(up_or_down > 0)- np.count_nonzero(up_or_down < 0)\n",
    "print('Test statistic from 1971 to 1973:', test_stat_72)"
   ]
  },
  {
   "cell_type": "code",
   "execution_count": null,
   "metadata": {},
   "outputs": [],
   "source": [
    "# Question 1.5. \n",
    "# Draw an empirical histogram of the statistic under the null hypothesis\n",
    "# by simulating the test statistic 10,000 times\n",
    "def simulate_under_null(num_chances_to_change):\n",
    "    \"\"\"Simulates some number changing several times, with an equal\n",
    "    chance to increase or decrease.  Returns the value of your\n",
    "    test statistic for these simulated changes.\n",
    "    \n",
    "    num_chances_to_change is the number of times the number changes.\n",
    "    \"\"\"\n",
    "    uniform = Table().with_columns(\n",
    "        \"Change\", make_array('Increase', 'Decrease'),\n",
    "        \"Chance\", make_array(0.5,        0.5))\n",
    "    sample = uniform.sample_from_distribution('Chance', num_chances_to_change)\n",
    "    return sample.column(2).item(0) - sample.column(2).item(1)\n",
    "\n",
    "iterations = 10_000\n",
    "\n",
    "samples = np.empty(iterations, np.int16)\n",
    "for i in range(iterations):\n",
    "    samples[i] = simulate_under_null(num_death_penalty_states)\n",
    "\n",
    "samples"
   ]
  },
  {
   "cell_type": "code",
   "execution_count": null,
   "metadata": {},
   "outputs": [],
   "source": [
    "Table().with_column('Test statistic under null', samples).hist(\n",
    "    bins=np.arange(-4, 28+2, 2), normed=None, density=True)\n",
    "plt.scatter(test_stat_72, 0, color='red', s=40);\n",
    "print('P-value:', np.count_nonzero(samples>=test_stat_72)/iterations)"
   ]
  },
  {
   "cell_type": "markdown",
   "metadata": {},
   "source": [
    "2: Further evidence\n",
    "\n",
    "- Select a table containing murder rates for certain states and all years,\n",
    "- Choose two years and compute the observed value of the test statistic,\n",
    "- Simulate the test statistic under the null hypothesis that increases and decreases are drawn uniformly at random, then\n",
    "- Compare the observed difference to the empirical distribution to compute a P-value."
   ]
  },
  {
   "cell_type": "code",
   "execution_count": null,
   "metadata": {},
   "outputs": [],
   "source": [
    "def run_test(rates, start_year):\n",
    "    \"\"\"Prints out the observed test statistic and returns a P-value \n",
    "    for this statistic under the null hypothesis\n",
    "    Parameters\n",
    "    ----------\n",
    "    rates : Table\n",
    "       A table of murder rates for certain states, sorted by state and year like murder_rates\n",
    "    start_year : int\n",
    "       The year when the analysis starts\n",
    "    \"\"\"\n",
    "    end_year = start_year + 2\n",
    "    observed_test_statistic = sum(rates.where(\n",
    "        'Year', are.between_or_equal_to(start_year, end_year)).select(\n",
    "        'State', 'Murder Rate').group('State', two_year_changes).column(1))\n",
    "    print('Test statistic', start_year, 'to', end_year, ':', observed_test_statistic)\n",
    "    num_states = rates.group('State').num_rows\n",
    "    \n",
    "    samples = []\n",
    "    for i in np.arange(5000):\n",
    "        samples.append(simulate_under_null(num_states))\n",
    "    samples = np.array(samples) # Convert from a list to an array\n",
    "    \n",
    "    if observed_test_statistic > 0:\n",
    "        return sum(samples >= observed_test_statistic) / len(samples)\n",
    "    elif observed_test_statistic < 0:\n",
    "        return sum(samples <= observed_test_statistic) / len(samples)\n",
    "    \n",
    "run_test(death_penalty_murder_rates, 1971)"
   ]
  },
  {
   "cell_type": "markdown",
   "metadata": {},
   "source": [
    "The rest of the states"
   ]
  },
  {
   "cell_type": "code",
   "execution_count": null,
   "metadata": {},
   "outputs": [],
   "source": [
    "# Question 2.1\n",
    "# Create a table called non_death_penalty_murder_rates \n",
    "#  with the same columns as murder_rates but only containing rows \n",
    "#  for the six states without the death penalty in 1971.\n",
    "# Perform the same test on this table.\n",
    "# Then, set reject_null_2 to whether their murder rates\n",
    "#  were also more likely to increase from 1971 to 1973\n",
    "non_death_penalty_murder_rates = murder_rates.where(\n",
    "    'State', are.contained_in(non_death_penalty_states))\n",
    "\n",
    "gy_2 = non_death_penalty_murder_rates.where('Year', are.between(1971, 1974))\n",
    "ud_2 = gy_2.group('State', two_year_changes).column(3)\n",
    "ts_2 = np.count_nonzero(ud_2 > 0)- np.count_nonzero(ud_2 < 0)\n",
    "print('Test statistic from 1971 to 1973:', ts_2)"
   ]
  },
  {
   "cell_type": "markdown",
   "metadata": {},
   "source": [
    "The death penalty reinstated"
   ]
  },
  {
   "cell_type": "code",
   "execution_count": null,
   "metadata": {},
   "outputs": [],
   "source": [
    "print(\"Increases minus decreases from 1975 to 1977 (when the death penalty was reinstated) among death penalty states:\",\n",
    "      sum(death_penalty_murder_rates.where('Year', are.between_or_equal_to(1975, 1977))\n",
    "                                    .group('State', two_year_changes)\n",
    "                                    .column(\"Murder Rate two_year_changes\")))\n",
    "run_test(death_penalty_murder_rates, 1975)"
   ]
  },
  {
   "cell_type": "markdown",
   "metadata": {},
   "source": [
    "3: Visualization"
   ]
  },
  {
   "cell_type": "code",
   "execution_count": null,
   "metadata": {},
   "outputs": [],
   "source": [
    "# Question 3.1\n",
    "# Create a table called average_murder_rates with 1 row for each year in murder_rates.\n",
    "# It should have 3 columns:\n",
    "#  Year\n",
    "#  Death penalty states, the average murder rate of the states that had the death penalty in 1971\n",
    "#  No death penalty states, the average murder rate of the other states\n",
    "# average_murder_rates should be sorted in increasing order by year\n",
    "average_murder_rates = Table().with_columns(\n",
    "    'Year', murder_rates.group('Year').column(0),\n",
    "    'Death penalty states', murder_rates.where(\n",
    "        'State', are.not_contained_in(non_death_penalty_states)).group('Year', np.mean).column(3),\n",
    "    'No death penalty states', murder_rates.where(\n",
    "        'State', are.contained_in(non_death_penalty_states)).group('Year', np.mean).column(3))\n",
    "average_murder_rates"
   ]
  },
  {
   "cell_type": "code",
   "execution_count": null,
   "metadata": {},
   "outputs": [],
   "source": [
    "average_murder_rates.plot('Year')"
   ]
  },
  {
   "cell_type": "code",
   "execution_count": null,
   "metadata": {},
   "outputs": [],
   "source": [
    "canada = Table.read_table('../../data/canada.csv')\n",
    "murder_rates_with_canada = average_murder_rates.join(\"Year\", canada.select(\"Year\", \"Homicide\").relabeled(\"Homicide\", \"Canada\"))\n",
    "murder_rates_with_canada.plot('Year')"
   ]
  }
 ],
 "metadata": {
  "kernelspec": {
   "display_name": "Python 3",
   "language": "python",
   "name": "python3"
  },
  "language_info": {
   "codemirror_mode": {
    "name": "ipython",
    "version": 3
   },
   "file_extension": ".py",
   "mimetype": "text/x-python",
   "name": "python",
   "nbconvert_exporter": "python",
   "pygments_lexer": "ipython3",
   "version": "3.6.4"
  }
 },
 "nbformat": 4,
 "nbformat_minor": 2
}
