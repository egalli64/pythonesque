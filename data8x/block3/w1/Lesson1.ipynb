{
 "cells": [
  {
   "cell_type": "markdown",
   "metadata": {},
   "source": [
    "BerkeleyX: Data8.3x\n",
    "\n",
    "Foundations of Data Science: Prediction and Machine Learning"
   ]
  },
  {
   "cell_type": "code",
   "execution_count": null,
   "metadata": {},
   "outputs": [],
   "source": [
    "from datascience import *\n",
    "import numpy as np\n",
    "import matplotlib.pyplot as plt\n",
    "%matplotlib inline"
   ]
  },
  {
   "cell_type": "markdown",
   "metadata": {},
   "source": [
    "Lec 1.1 Introduction"
   ]
  },
  {
   "cell_type": "code",
   "execution_count": null,
   "metadata": {},
   "outputs": [],
   "source": [
    "values = np.array([2, 3, 3, 9])\n",
    "\n",
    "# explicit calculation; average() could be weighted; use mean() otherwise\n",
    "sum(values) / len(values), np.average(values), np.mean(values)"
   ]
  },
  {
   "cell_type": "code",
   "execution_count": null,
   "metadata": {},
   "outputs": [],
   "source": [
    "# plain algorithm for mean\n",
    "print((2 + 3 + 3 + 9) / 4)\n",
    "\n",
    "# focus on numerosity\n",
    "print(2 * (1/4) + 3 * (2/4) + 9 * (1/4))\n",
    "print(2 * 0.25 + 3 * 0.5 + 9 * 0.25)"
   ]
  },
  {
   "cell_type": "code",
   "execution_count": null,
   "metadata": {},
   "outputs": [],
   "source": [
    "# show it\n",
    "values_table = Table().with_columns('Value', values)\n",
    "print(values_table)\n",
    "\n",
    "# bins_for_display = np.arange(0.5, 10.6, 1)\n",
    "bins_for_display = np.arange(2, 11)\n",
    "\n",
    "values_table.hist(bins = bins_for_display, ec = 'w', normed=None, density=True)"
   ]
  },
  {
   "cell_type": "code",
   "execution_count": null,
   "metadata": {},
   "outputs": [],
   "source": [
    "# ten twos, twenty threes, ten nines\n",
    "twos = 2 * np.ones(10, dtype=np.int8)\n",
    "threes = 3 * np.ones(20, dtype=np.int8)\n",
    "nines = 9 * np.ones(10, dtype=np.int8)\n",
    "\n",
    "new_values = np.append(np.append(twos, threes), nines)\n",
    "print(new_values)\n",
    "\n",
    "print(np.average(new_values), np.average(values))\n",
    "\n",
    "new_values_table = Table().with_column('Value', new_values)\n",
    "new_values_table.hist(bins = bins_for_display, ec = 'w', normed=None, density=True)"
   ]
  },
  {
   "cell_type": "markdown",
   "metadata": {},
   "source": [
    "Lec 1.2 Average and Median"
   ]
  },
  {
   "cell_type": "code",
   "execution_count": null,
   "metadata": {},
   "outputs": [],
   "source": [
    "# a simple distribution\n",
    "data = np.array([1] + [2] * 2 + [3] * 3 + [4] * 2 + [5])\n",
    "print(data)\n",
    "table = Table().with_columns('Data', data)\n",
    "table.hist(bins= range(1, 7), ec = 'w', normed=None, density=True)\n",
    "print(np.median(data), np.mean(data))"
   ]
  },
  {
   "cell_type": "code",
   "execution_count": null,
   "metadata": {},
   "outputs": [],
   "source": [
    "# a variation on the above distribution\n",
    "table['Data'][8] = 10\n",
    "table.hist(bins= range(1, 11), ec = 'w', normed=None, density=True)\n",
    "print(np.median(table['Data']), np.mean(table['Data']))"
   ]
  },
  {
   "cell_type": "code",
   "execution_count": null,
   "metadata": {},
   "outputs": [],
   "source": [
    "nba = Table.read_table('../../data/nba2013.csv')\n",
    "print(nba)\n",
    "nba.hist('Height', bins=np.arange(65.5, 90.5), ec='w', normed=None, density=True)"
   ]
  },
  {
   "cell_type": "code",
   "execution_count": null,
   "metadata": {},
   "outputs": [],
   "source": [
    "heights = nba.column('Height')\n",
    "print(percentile(50, heights), np.median(heights), np.average(heights))"
   ]
  },
  {
   "cell_type": "markdown",
   "metadata": {},
   "source": [
    "Lec 1.3 Standard Deviation"
   ]
  },
  {
   "cell_type": "code",
   "execution_count": null,
   "metadata": {},
   "outputs": [],
   "source": [
    "sd_table = Table().with_columns('Value', values)\n",
    "print(values)\n",
    "\n",
    "average = np.average(values)\n",
    "print('Average:', average)\n",
    "\n",
    "# deviations from average\n",
    "deviations = values - average\n",
    "sd_table = sd_table.with_column('Deviation', deviations)\n",
    "print(sd_table)\n",
    "\n",
    "print('Deviations added up are useless:', sum(deviations))\n",
    "\n",
    "sd_table = sd_table.with_column('Squared Deviation', deviations ** 2)\n",
    "print(sd_table)\n",
    "\n",
    "# Variance of the data is the average of the squared deviations\n",
    "variance = np.average(sd_table.column('Squared Deviation'))\n",
    "print('Variance:', variance)\n",
    "\n",
    "# Standard Deviation (SD) is the square root of the variance\n",
    "sd = variance ** 0.5\n",
    "print('Standard Deviation:', sd, np.std(values))"
   ]
  },
  {
   "cell_type": "markdown",
   "metadata": {},
   "source": [
    "Lec 1.4 Chebyshev's Bounds"
   ]
  },
  {
   "cell_type": "code",
   "execution_count": null,
   "metadata": {},
   "outputs": [],
   "source": [
    "births = Table.read_table('../../data/baby.csv')\n",
    "print(births)"
   ]
  },
  {
   "cell_type": "code",
   "execution_count": null,
   "metadata": {},
   "outputs": [],
   "source": [
    "births.hist('Maternal Pregnancy Weight', normed=None, density=True)"
   ]
  },
  {
   "cell_type": "code",
   "execution_count": null,
   "metadata": {},
   "outputs": [],
   "source": [
    "mpw = births.column('Maternal Pregnancy Weight')\n",
    "average = np.average(mpw)\n",
    "sd = np.std(mpw)\n",
    "print(average, sd)\n",
    "\n",
    "within_3_SDs = births.where('Maternal Pregnancy Weight', are.between(average - 3*sd, average + 3*sd))\n",
    "print('Percentage in +- 3SD:', within_3_SDs.num_rows / births.num_rows)\n",
    "\n",
    "# Chebyshev's bound for the proportion in the range \"average plus or minus 3 SDs\"\n",
    "# is at least - for whichever distribution!\n",
    "print(\"Chebyshev's inequality:\", 1 - 1/3**2)\n",
    "# mean +- 2SD >= .75 (1-1/4)\n",
    "# 3SD >= .88 (8/9)\n",
    "# 4SD >= .9375 (15/16)\n",
    "# 5SD >= .96 (24/25)"
   ]
  },
  {
   "cell_type": "code",
   "execution_count": null,
   "metadata": {},
   "outputs": [],
   "source": [
    "births.hist(overlay = False, normed=None, density=True)"
   ]
  },
  {
   "cell_type": "code",
   "execution_count": null,
   "metadata": {},
   "outputs": [],
   "source": [
    "# See if Chebyshev's bounds work\n",
    "# for different shapes of distributions\n",
    "\n",
    "for k in births.labels:\n",
    "    values = births.column(k)\n",
    "    average = np.average(values)\n",
    "    sd = np.std(values)\n",
    "    print()\n",
    "    print(k)\n",
    "    for z in range(2, 6):\n",
    "        chosen = births.where(k, are.between(average - z*sd, average + z*sd))\n",
    "        proportion = chosen.num_rows / births.num_rows\n",
    "        percent = round(proportion * 100, 2)\n",
    "        print('Average +/- {} SDs: {}%'.format(z, percent))"
   ]
  }
 ],
 "metadata": {
  "kernelspec": {
   "display_name": "Python 3",
   "language": "python",
   "name": "python3"
  },
  "language_info": {
   "codemirror_mode": {
    "name": "ipython",
    "version": 3
   },
   "file_extension": ".py",
   "mimetype": "text/x-python",
   "name": "python",
   "nbconvert_exporter": "python",
   "pygments_lexer": "ipython3",
   "version": "3.6.4"
  }
 },
 "nbformat": 4,
 "nbformat_minor": 2
}
