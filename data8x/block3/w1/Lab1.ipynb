{
 "cells": [
  {
   "cell_type": "markdown",
   "metadata": {},
   "source": [
    "BerkeleyX: Data8.3x\n",
    "\n",
    "Foundations of Data Science: Prediction and Machine Learning"
   ]
  },
  {
   "cell_type": "code",
   "execution_count": null,
   "metadata": {},
   "outputs": [],
   "source": [
    "from datascience import *\n",
    "import numpy as np\n",
    "import matplotlib.pyplot as plt\n",
    "%matplotlib inline"
   ]
  },
  {
   "cell_type": "markdown",
   "metadata": {},
   "source": [
    "Lab 1: Variance of Sample Means and Correlation"
   ]
  },
  {
   "cell_type": "markdown",
   "metadata": {},
   "source": [
    "1: How Faithful is Old Faithful?"
   ]
  },
  {
   "cell_type": "code",
   "execution_count": null,
   "metadata": {},
   "outputs": [],
   "source": [
    "faithful = Table.read_table(\"../../data/faithful.csv\")\n",
    "faithful"
   ]
  },
  {
   "cell_type": "code",
   "execution_count": null,
   "metadata": {},
   "outputs": [],
   "source": [
    "# Question 1.1 Make a scatter plot of the data\n",
    "faithful.scatter('duration', 'wait')"
   ]
  },
  {
   "cell_type": "code",
   "execution_count": null,
   "metadata": {},
   "outputs": [],
   "source": [
    "# Question 1.2 \n",
    "# Compute the mean and standard deviation of the eruption durations and waiting times.\n",
    "# Then create a table called faithful_standard containing the eruption durations and waiting times in standard units.\n",
    "# (The columns should be named \"duration (standard units)\" and \"wait (standard units)\"\n",
    "\n",
    "# to convert a list in standard units:\n",
    "# (nums - np.mean(nums)) / np.std(nums)\n",
    "\n",
    "duration_mean = np.mean(faithful.column(0))\n",
    "duration_std = np.std(faithful.column(0))\n",
    "wait_mean = np.mean(faithful.column(1))\n",
    "wait_std = np.std(faithful.column(1))\n",
    "\n",
    "faithful_standard = Table().with_columns(\n",
    "    \"duration (standard units)\", (faithful.column(0) - duration_mean) / duration_std,\n",
    "    \"wait (standard units)\", (faithful.column(1) - wait_mean) / wait_std)\n",
    "faithful_standard"
   ]
  },
  {
   "cell_type": "code",
   "execution_count": null,
   "metadata": {},
   "outputs": [],
   "source": [
    "# Question 1.3 \n",
    "# Plot the data again, but this time in standard units\n",
    "\n",
    "faithful_standard.scatter('duration (standard units)', 'wait (standard units)')"
   ]
  },
  {
   "cell_type": "code",
   "execution_count": null,
   "metadata": {},
   "outputs": [],
   "source": [
    "# Question 1.5 \n",
    "# Compute the correlation r\n",
    "from scipy.stats.stats import pearsonr\n",
    "\n",
    "print(np.mean(faithful_standard.column(0) * faithful_standard.column(1)))\n",
    "print(pearsonr(faithful_standard.column(0), faithful_standard.column(1)))"
   ]
  },
  {
   "cell_type": "markdown",
   "metadata": {},
   "source": [
    "2: Variability of the Sample Mean"
   ]
  },
  {
   "cell_type": "code",
   "execution_count": null,
   "metadata": {},
   "outputs": [],
   "source": [
    "salaries = Table.read_table('../../data/sf_salaries_2014.csv').select(\"salary\")\n",
    "print(salaries)\n",
    "print('--')\n",
    "\n",
    "salary_mean = np.mean(salaries.column('salary'))\n",
    "print('salary mean:', round(salary_mean, 2))\n",
    "\n",
    "salaries.hist('salary', bins=np.arange(0, 300000+10000*2, 10000), ec='w', normed=None, density=True)\n",
    "plt.scatter(salary_mean, 0, marker='^', color='red', s=100);"
   ]
  },
  {
   "cell_type": "code",
   "execution_count": null,
   "metadata": {},
   "outputs": [],
   "source": [
    "# Question 2.1\n",
    "# Complete the function simulate_sample_mean\n",
    "\n",
    "def simulate_sample_mean(table, label, sample_size, repetitions):\n",
    "    \n",
    "    means = np.empty(repetitions)\n",
    "\n",
    "    for i in range(repetitions):\n",
    "        new_sample = table.sample(sample_size)\n",
    "        means[i] = np.mean(new_sample.column(0))\n",
    "\n",
    "    sample_means = Table().with_column('Sample Means', means)\n",
    "    \n",
    "    # Display empirical histogram and print all relevant quantities – don't change this!\n",
    "    sample_means.hist(bins=20, normed=None, density=True)\n",
    "    plt.xlabel('Sample Means')\n",
    "    plt.title('Sample Size ' + str(sample_size))\n",
    "    print(\"Sample size: \", sample_size)\n",
    "    print(\"Population mean:\", np.mean(table.column(label)))\n",
    "    print(\"Average of sample means: \", np.mean(means))\n",
    "    print(\"Population SD:\", np.std(table.column(label)))\n",
    "    print(\"SD of sample means:\", np.std(means))"
   ]
  },
  {
   "cell_type": "code",
   "execution_count": null,
   "metadata": {},
   "outputs": [],
   "source": [
    "# Question 2.2\n",
    "\n",
    "simulate_sample_mean(salaries, 'salary', 100, 10_000)\n",
    "plt.xlim(50_000, 100_000)\n",
    "\n",
    "# simulate the mean of a random sample of 400 salaries and 625 salaries, respectively.\n",
    "# In each case, perform 10,000 repetitions\n",
    "simulate_sample_mean(salaries, 'salary', 400, 10_000)\n",
    "plt.xlim(50_000, 100_000)\n",
    "\n",
    "simulate_sample_mean(salaries, 'salary', 625, 10_000)\n",
    "plt.xlim(50_000, 100_000)"
   ]
  }
 ],
 "metadata": {
  "kernelspec": {
   "display_name": "Python 3",
   "language": "python",
   "name": "python3"
  },
  "language_info": {
   "codemirror_mode": {
    "name": "ipython",
    "version": 3
   },
   "file_extension": ".py",
   "mimetype": "text/x-python",
   "name": "python",
   "nbconvert_exporter": "python",
   "pygments_lexer": "ipython3",
   "version": "3.6.4"
  }
 },
 "nbformat": 4,
 "nbformat_minor": 2
}
