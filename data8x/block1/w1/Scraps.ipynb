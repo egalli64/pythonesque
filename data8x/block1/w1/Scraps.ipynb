{
 "cells": [
  {
   "cell_type": "code",
   "execution_count": 1,
   "metadata": {},
   "outputs": [],
   "source": [
    "from datascience import Table"
   ]
  },
  {
   "cell_type": "code",
   "execution_count": 2,
   "metadata": {},
   "outputs": [],
   "source": [
    "flowers = Table.read_table('../data/flowers.csv')"
   ]
  },
  {
   "cell_type": "code",
   "execution_count": 3,
   "metadata": {},
   "outputs": [
    {
     "data": {
      "text/html": [
       "<table border=\"1\" class=\"dataframe\">\n",
       "    <thead>\n",
       "        <tr>\n",
       "            <th>Petals</th> <th>Name</th> <th>Color</th>\n",
       "        </tr>\n",
       "    </thead>\n",
       "    <tbody>\n",
       "        <tr>\n",
       "            <td>8     </td> <td>lotus    </td> <td>pink  </td>\n",
       "        </tr>\n",
       "    </tbody>\n",
       "        <tr>\n",
       "            <td>34    </td> <td>sunflower</td> <td>yellow</td>\n",
       "        </tr>\n",
       "    </tbody>\n",
       "        <tr>\n",
       "            <td>5     </td> <td>rose     </td> <td>red   </td>\n",
       "        </tr>\n",
       "    </tbody>\n",
       "</table>"
      ],
      "text/plain": [
       "Petals | Name      | Color\n",
       "8      | lotus     | pink\n",
       "34     | sunflower | yellow\n",
       "5      | rose      | red"
      ]
     },
     "execution_count": 3,
     "metadata": {},
     "output_type": "execute_result"
    }
   ],
   "source": [
    "flowers"
   ]
  },
  {
   "cell_type": "code",
   "execution_count": 4,
   "metadata": {},
   "outputs": [],
   "source": [
    "petals = flowers.select('Petals')"
   ]
  },
  {
   "cell_type": "code",
   "execution_count": 5,
   "metadata": {},
   "outputs": [
    {
     "data": {
      "text/html": [
       "<table border=\"1\" class=\"dataframe\">\n",
       "    <thead>\n",
       "        <tr>\n",
       "            <th>Petals</th>\n",
       "        </tr>\n",
       "    </thead>\n",
       "    <tbody>\n",
       "        <tr>\n",
       "            <td>8     </td>\n",
       "        </tr>\n",
       "    </tbody>\n",
       "        <tr>\n",
       "            <td>34    </td>\n",
       "        </tr>\n",
       "    </tbody>\n",
       "        <tr>\n",
       "            <td>5     </td>\n",
       "        </tr>\n",
       "    </tbody>\n",
       "</table>"
      ],
      "text/plain": [
       "Petals\n",
       "8\n",
       "34\n",
       "5"
      ]
     },
     "execution_count": 5,
     "metadata": {},
     "output_type": "execute_result"
    }
   ],
   "source": [
    "petals"
   ]
  },
  {
   "cell_type": "code",
   "execution_count": 6,
   "metadata": {},
   "outputs": [
    {
     "data": {
      "text/html": [
       "<table border=\"1\" class=\"dataframe\">\n",
       "    <thead>\n",
       "        <tr>\n",
       "            <th>Petals</th> <th>Name</th>\n",
       "        </tr>\n",
       "    </thead>\n",
       "    <tbody>\n",
       "        <tr>\n",
       "            <td>8     </td> <td>lotus    </td>\n",
       "        </tr>\n",
       "    </tbody>\n",
       "        <tr>\n",
       "            <td>34    </td> <td>sunflower</td>\n",
       "        </tr>\n",
       "    </tbody>\n",
       "        <tr>\n",
       "            <td>5     </td> <td>rose     </td>\n",
       "        </tr>\n",
       "    </tbody>\n",
       "</table>"
      ],
      "text/plain": [
       "Petals | Name\n",
       "8      | lotus\n",
       "34     | sunflower\n",
       "5      | rose"
      ]
     },
     "execution_count": 6,
     "metadata": {},
     "output_type": "execute_result"
    }
   ],
   "source": [
    "flowers.drop('Color')"
   ]
  },
  {
   "cell_type": "markdown",
   "metadata": {},
   "source": [
    "Sorting"
   ]
  },
  {
   "cell_type": "code",
   "execution_count": 7,
   "metadata": {},
   "outputs": [],
   "source": [
    "movies = Table.read_table('../data/top_movies_by_title.csv')"
   ]
  },
  {
   "cell_type": "code",
   "execution_count": 8,
   "metadata": {},
   "outputs": [
    {
     "data": {
      "text/html": [
       "<table border=\"1\" class=\"dataframe\">\n",
       "    <thead>\n",
       "        <tr>\n",
       "            <th>Title</th> <th>Studio</th> <th>Gross</th> <th>Gross (Adjusted)</th> <th>Year</th>\n",
       "        </tr>\n",
       "    </thead>\n",
       "    <tbody>\n",
       "        <tr>\n",
       "            <td>101 Dalmatians       </td> <td>Disney</td> <td>144880014</td> <td>869280100       </td> <td>1961</td>\n",
       "        </tr>\n",
       "    </tbody>\n",
       "        <tr>\n",
       "            <td>2001: A Space Odyssey</td> <td>MGM   </td> <td>56954992 </td> <td>377027700       </td> <td>1968</td>\n",
       "        </tr>\n",
       "    </tbody>\n",
       "        <tr>\n",
       "            <td>9 to 5               </td> <td>Fox   </td> <td>103290500</td> <td>334062200       </td> <td>1980</td>\n",
       "        </tr>\n",
       "    </tbody>\n",
       "</table>\n",
       "<p>... (197 rows omitted)</p>"
      ],
      "text/plain": [
       "<IPython.core.display.HTML object>"
      ]
     },
     "metadata": {},
     "output_type": "display_data"
    }
   ],
   "source": [
    "movies.show(3)"
   ]
  },
  {
   "cell_type": "code",
   "execution_count": 9,
   "metadata": {},
   "outputs": [
    {
     "data": {
      "text/html": [
       "<table border=\"1\" class=\"dataframe\">\n",
       "    <thead>\n",
       "        <tr>\n",
       "            <th>Title</th> <th>Studio</th> <th>Gross</th> <th>Gross (Adjusted)</th> <th>Year</th>\n",
       "        </tr>\n",
       "    </thead>\n",
       "    <tbody>\n",
       "        <tr>\n",
       "            <td>The Four Horsemen of the Apocalypse</td> <td>MPC         </td> <td>9183673 </td> <td>399489800       </td> <td>1921</td>\n",
       "        </tr>\n",
       "    </tbody>\n",
       "        <tr>\n",
       "            <td>Sergeant York                      </td> <td>Warner Bros.</td> <td>16361885</td> <td>418671800       </td> <td>1941</td>\n",
       "        </tr>\n",
       "    </tbody>\n",
       "        <tr>\n",
       "            <td>Duel in the Sun                    </td> <td>Selz.       </td> <td>20408163</td> <td>443877500       </td> <td>1946</td>\n",
       "        </tr>\n",
       "    </tbody>\n",
       "        <tr>\n",
       "            <td>The Bells of St. Mary's            </td> <td>RKO         </td> <td>21333333</td> <td>545882400       </td> <td>1945</td>\n",
       "        </tr>\n",
       "    </tbody>\n",
       "        <tr>\n",
       "            <td>The Caine Mutiny                   </td> <td>Columbia    </td> <td>21750000</td> <td>386173500       </td> <td>1954</td>\n",
       "        </tr>\n",
       "    </tbody>\n",
       "        <tr>\n",
       "            <td>The Best Years of Our Lives        </td> <td>RKO         </td> <td>23650000</td> <td>478500000       </td> <td>1946</td>\n",
       "        </tr>\n",
       "    </tbody>\n",
       "        <tr>\n",
       "            <td>House of Wax                       </td> <td>Warner Bros.</td> <td>23750000</td> <td>439627700       </td> <td>1953</td>\n",
       "        </tr>\n",
       "    </tbody>\n",
       "        <tr>\n",
       "            <td>The Bridge on the River Kwai       </td> <td>Columbia    </td> <td>27200000</td> <td>473280000       </td> <td>1957</td>\n",
       "        </tr>\n",
       "    </tbody>\n",
       "        <tr>\n",
       "            <td>Psycho                             </td> <td>Universal   </td> <td>32000000</td> <td>371200100       </td> <td>1960</td>\n",
       "        </tr>\n",
       "    </tbody>\n",
       "        <tr>\n",
       "            <td>The Greatest Show on Earth         </td> <td>Paramount   </td> <td>36000000</td> <td>522000000       </td> <td>1952</td>\n",
       "        </tr>\n",
       "    </tbody>\n",
       "</table>\n",
       "<p>... (190 rows omitted)</p>"
      ],
      "text/plain": [
       "<IPython.core.display.HTML object>"
      ]
     },
     "metadata": {},
     "output_type": "display_data"
    }
   ],
   "source": [
    "movies.sort('Gross').show(10)"
   ]
  },
  {
   "cell_type": "code",
   "execution_count": 10,
   "metadata": {},
   "outputs": [
    {
     "data": {
      "text/html": [
       "<table border=\"1\" class=\"dataframe\">\n",
       "    <thead>\n",
       "        <tr>\n",
       "            <th>Title</th> <th>Studio</th> <th>Gross</th> <th>Gross (Adjusted)</th> <th>Year</th>\n",
       "        </tr>\n",
       "    </thead>\n",
       "    <tbody>\n",
       "        <tr>\n",
       "            <td>Star Wars: The Force Awakens             </td> <td>Buena Vista (Disney)</td> <td>906723418</td> <td>906723400       </td> <td>2015</td>\n",
       "        </tr>\n",
       "    </tbody>\n",
       "        <tr>\n",
       "            <td>Avatar                                   </td> <td>Fox                 </td> <td>760507625</td> <td>846120800       </td> <td>2009</td>\n",
       "        </tr>\n",
       "    </tbody>\n",
       "        <tr>\n",
       "            <td>Titanic                                  </td> <td>Paramount           </td> <td>658672302</td> <td>1178627900      </td> <td>1997</td>\n",
       "        </tr>\n",
       "    </tbody>\n",
       "        <tr>\n",
       "            <td>Jurassic World                           </td> <td>Universal           </td> <td>652270625</td> <td>687728000       </td> <td>2015</td>\n",
       "        </tr>\n",
       "    </tbody>\n",
       "        <tr>\n",
       "            <td>Marvel's The Avengers                    </td> <td>Buena Vista (Disney)</td> <td>623357910</td> <td>668866600       </td> <td>2012</td>\n",
       "        </tr>\n",
       "    </tbody>\n",
       "        <tr>\n",
       "            <td>The Dark Knight                          </td> <td>Warner Bros.        </td> <td>534858444</td> <td>647761600       </td> <td>2008</td>\n",
       "        </tr>\n",
       "    </tbody>\n",
       "        <tr>\n",
       "            <td>Star Wars: Episode I - The Phantom Menace</td> <td>Fox                 </td> <td>474544677</td> <td>785715000       </td> <td>1999</td>\n",
       "        </tr>\n",
       "    </tbody>\n",
       "        <tr>\n",
       "            <td>Star Wars                                </td> <td>Fox                 </td> <td>460998007</td> <td>1549640500      </td> <td>1977</td>\n",
       "        </tr>\n",
       "    </tbody>\n",
       "        <tr>\n",
       "            <td>Avengers: Age of Ultron                  </td> <td>Buena Vista (Disney)</td> <td>459005868</td> <td>465684200       </td> <td>2015</td>\n",
       "        </tr>\n",
       "    </tbody>\n",
       "        <tr>\n",
       "            <td>The Dark Knight Rises                    </td> <td>Warner Bros.        </td> <td>448139099</td> <td>500961700       </td> <td>2012</td>\n",
       "        </tr>\n",
       "    </tbody>\n",
       "</table>\n",
       "<p>... (190 rows omitted)</p>"
      ],
      "text/plain": [
       "Title                                     | Studio               | Gross     | Gross (Adjusted) | Year\n",
       "Star Wars: The Force Awakens              | Buena Vista (Disney) | 906723418 | 906723400        | 2015\n",
       "Avatar                                    | Fox                  | 760507625 | 846120800        | 2009\n",
       "Titanic                                   | Paramount            | 658672302 | 1178627900       | 1997\n",
       "Jurassic World                            | Universal            | 652270625 | 687728000        | 2015\n",
       "Marvel's The Avengers                     | Buena Vista (Disney) | 623357910 | 668866600        | 2012\n",
       "The Dark Knight                           | Warner Bros.         | 534858444 | 647761600        | 2008\n",
       "Star Wars: Episode I - The Phantom Menace | Fox                  | 474544677 | 785715000        | 1999\n",
       "Star Wars                                 | Fox                  | 460998007 | 1549640500       | 1977\n",
       "Avengers: Age of Ultron                   | Buena Vista (Disney) | 459005868 | 465684200        | 2015\n",
       "The Dark Knight Rises                     | Warner Bros.         | 448139099 | 500961700        | 2012\n",
       "... (190 rows omitted)"
      ]
     },
     "execution_count": 10,
     "metadata": {},
     "output_type": "execute_result"
    }
   ],
   "source": [
    "movies.sort('Gross', descending=True)"
   ]
  },
  {
   "cell_type": "code",
   "execution_count": 11,
   "metadata": {},
   "outputs": [],
   "source": [
    "top_per_studio = movies.sort('Gross', descending=True).sort('Studio', distinct=True)"
   ]
  },
  {
   "cell_type": "code",
   "execution_count": 12,
   "metadata": {},
   "outputs": [
    {
     "data": {
      "text/html": [
       "<table border=\"1\" class=\"dataframe\">\n",
       "    <thead>\n",
       "        <tr>\n",
       "            <th>Title</th> <th>Studio</th> <th>Gross</th> <th>Gross (Adjusted)</th> <th>Year</th>\n",
       "        </tr>\n",
       "    </thead>\n",
       "    <tbody>\n",
       "        <tr>\n",
       "            <td>The Graduate                       </td> <td>AVCO                </td> <td>104945305</td> <td>744517700       </td> <td>1967</td>\n",
       "        </tr>\n",
       "    </tbody>\n",
       "        <tr>\n",
       "            <td>Star Wars: The Force Awakens       </td> <td>Buena Vista (Disney)</td> <td>906723418</td> <td>906723400       </td> <td>2015</td>\n",
       "        </tr>\n",
       "    </tbody>\n",
       "        <tr>\n",
       "            <td>Ghostbusters                       </td> <td>Columbia            </td> <td>242212467</td> <td>619211400       </td> <td>1984</td>\n",
       "        </tr>\n",
       "    </tbody>\n",
       "        <tr>\n",
       "            <td>Snow White and the Seven Dwarfs    </td> <td>Disney              </td> <td>184925486</td> <td>948300000       </td> <td>1937</td>\n",
       "        </tr>\n",
       "    </tbody>\n",
       "        <tr>\n",
       "            <td>Shrek 2                            </td> <td>Dreamworks          </td> <td>441226247</td> <td>618143100       </td> <td>2004</td>\n",
       "        </tr>\n",
       "    </tbody>\n",
       "        <tr>\n",
       "            <td>Avatar                             </td> <td>Fox                 </td> <td>760507625</td> <td>846120800       </td> <td>2009</td>\n",
       "        </tr>\n",
       "    </tbody>\n",
       "        <tr>\n",
       "            <td>My Big Fat Greek Wedding           </td> <td>IFC                 </td> <td>241438208</td> <td>360349500       </td> <td>2002</td>\n",
       "        </tr>\n",
       "    </tbody>\n",
       "        <tr>\n",
       "            <td>The Hunger Games: Catching Fire    </td> <td>Lionsgate           </td> <td>424668047</td> <td>444697400       </td> <td>2013</td>\n",
       "        </tr>\n",
       "    </tbody>\n",
       "        <tr>\n",
       "            <td>Gone with the Wind                 </td> <td>MGM                 </td> <td>198676459</td> <td>1757788200      </td> <td>1939</td>\n",
       "        </tr>\n",
       "    </tbody>\n",
       "        <tr>\n",
       "            <td>The Four Horsemen of the Apocalypse</td> <td>MPC                 </td> <td>9183673  </td> <td>399489800       </td> <td>1921</td>\n",
       "        </tr>\n",
       "    </tbody>\n",
       "</table>\n",
       "<p>... (14 rows omitted)</p>"
      ],
      "text/plain": [
       "Title                               | Studio               | Gross     | Gross (Adjusted) | Year\n",
       "The Graduate                        | AVCO                 | 104945305 | 744517700        | 1967\n",
       "Star Wars: The Force Awakens        | Buena Vista (Disney) | 906723418 | 906723400        | 2015\n",
       "Ghostbusters                        | Columbia             | 242212467 | 619211400        | 1984\n",
       "Snow White and the Seven Dwarfs     | Disney               | 184925486 | 948300000        | 1937\n",
       "Shrek 2                             | Dreamworks           | 441226247 | 618143100        | 2004\n",
       "Avatar                              | Fox                  | 760507625 | 846120800        | 2009\n",
       "My Big Fat Greek Wedding            | IFC                  | 241438208 | 360349500        | 2002\n",
       "The Hunger Games: Catching Fire     | Lionsgate            | 424668047 | 444697400        | 2013\n",
       "Gone with the Wind                  | MGM                  | 198676459 | 1757788200       | 1939\n",
       "The Four Horsemen of the Apocalypse | MPC                  | 9183673   | 399489800        | 1921\n",
       "... (14 rows omitted)"
      ]
     },
     "execution_count": 12,
     "metadata": {},
     "output_type": "execute_result"
    }
   ],
   "source": [
    "top_per_studio"
   ]
  },
  {
   "cell_type": "markdown",
   "metadata": {},
   "source": [
    "Visualization"
   ]
  },
  {
   "cell_type": "code",
   "execution_count": 13,
   "metadata": {},
   "outputs": [],
   "source": [
    "%matplotlib inline"
   ]
  },
  {
   "cell_type": "code",
   "execution_count": 14,
   "metadata": {},
   "outputs": [
    {
     "data": {
      "image/png": "[encoded data removed]",
      "text/plain": [
       "<Figure size 432x864 with 1 Axes>"
      ]
     },
     "metadata": {},
     "output_type": "display_data"
    }
   ],
   "source": [
    "top_per_studio.barh('Studio', 'Gross')"
   ]
  },
  {
   "cell_type": "code",
   "execution_count": 15,
   "metadata": {},
   "outputs": [
    {
     "data": {
      "image/png": "[encoded data removed]",
      "text/plain": [
       "<Figure size 432x864 with 1 Axes>"
      ]
     },
     "metadata": {},
     "output_type": "display_data"
    }
   ],
   "source": [
    "top_studios = top_per_studio.sort('Gross', descending=True)\n",
    "top_studios.barh('Studio', 'Gross')"
   ]
  },
  {
   "cell_type": "code",
   "execution_count": 16,
   "metadata": {},
   "outputs": [],
   "source": [
    "studios = top_per_studio.drop('Title', 'Year')"
   ]
  },
  {
   "cell_type": "code",
   "execution_count": 17,
   "metadata": {},
   "outputs": [
    {
     "data": {
      "image/png": "[encoded data removed]",
      "text/plain": [
       "<Figure size 432x864 with 1 Axes>"
      ]
     },
     "metadata": {},
     "output_type": "display_data"
    }
   ],
   "source": [
    "studios.barh('Studio')"
   ]
  },
  {
   "cell_type": "code",
   "execution_count": 18,
   "metadata": {},
   "outputs": [
    {
     "data": {
      "image/png": "[encoded data removed]",
      "text/plain": [
       "<Figure size 432x864 with 1 Axes>"
      ]
     },
     "metadata": {},
     "output_type": "display_data"
    }
   ],
   "source": [
    "revenues_by_year = top_studios.sort('Year').select('Studio', 'Gross', 'Gross (Adjusted)')\n",
    "revenues_by_year.barh('Studio')"
   ]
  },
  {
   "cell_type": "code",
   "execution_count": 19,
   "metadata": {},
   "outputs": [
    {
     "data": {
      "text/plain": [
       "0.050000000000000266"
      ]
     },
     "execution_count": 19,
     "metadata": {},
     "output_type": "execute_result"
    }
   ],
   "source": [
    "klay =  2.01\n",
    "steph = 1.91\n",
    "kevin = 2.06\n",
    "\n",
    "cms = sorted([klay, steph, kevin])\n",
    "gap = min(cms[1] - cms[0], cms[2] - cms[1])\n",
    "gap"
   ]
  },
  {
   "cell_type": "code",
   "execution_count": 20,
   "metadata": {},
   "outputs": [
    {
     "data": {
      "text/html": [
       "<table border=\"1\" class=\"dataframe\">\n",
       "    <thead>\n",
       "        <tr>\n",
       "            <th>Row Labels</th> <th>1970</th> <th>1971</th> <th>1972</th> <th>1973</th> <th>1974</th> <th>1975</th> <th>1976</th> <th>1977</th> <th>1978</th> <th>1979</th> <th>1980</th> <th>1981</th> <th>1982</th> <th>1983</th> <th>1984</th> <th>1985</th> <th>1986</th> <th>1987</th> <th>1988</th> <th>1989</th> <th>1990</th> <th>1991</th> <th>1992</th> <th>1993</th> <th>1994</th> <th>1995</th> <th>1996</th> <th>1997</th> <th>1998</th> <th>1999</th> <th>2000</th> <th>2001</th> <th>2002</th> <th>2003</th> <th>2004</th> <th>2005</th> <th>2006</th> <th>2007</th> <th>2008</th> <th>2009</th>\n",
       "        </tr>\n",
       "    </thead>\n",
       "    <tbody>\n",
       "        <tr>\n",
       "            <td>Afghanistan        </td> <td>0   </td> <td>0.1 </td> <td>0.1 </td> <td>0.1 </td> <td>0.1 </td> <td>0.1 </td> <td>0.1 </td> <td>0.1 </td> <td>0.1 </td> <td>0.1 </td> <td>0.1 </td> <td>0.1 </td> <td>0.1 </td> <td>0.1 </td> <td>0.1 </td> <td>0.1 </td> <td>0.1 </td> <td>0.1 </td> <td>0.1 </td> <td>0.1 </td> <td>0.1 </td> <td>0.2 </td> <td>0.2 </td> <td>0.2 </td> <td>0.2 </td> <td>0.2 </td> <td>0.2 </td> <td>0.2 </td> <td>0.2 </td> <td>0.2 </td> <td>0.2 </td> <td>0.3 </td> <td>0.3 </td> <td>0.3 </td> <td>0.3 </td> <td>0.3 </td> <td>0.3 </td> <td>0.3 </td> <td>0.3 </td> <td>0.4 </td>\n",
       "        </tr>\n",
       "    </tbody>\n",
       "        <tr>\n",
       "            <td>Albania            </td> <td>3.9 </td> <td>4   </td> <td>4.1 </td> <td>4.2 </td> <td>4.3 </td> <td>4.5 </td> <td>4.6 </td> <td>4.7 </td> <td>4.8 </td> <td>4.9 </td> <td>5.1 </td> <td>5.2 </td> <td>5.3 </td> <td>5.4 </td> <td>5.6 </td> <td>5.7 </td> <td>5.9 </td> <td>6   </td> <td>6.2 </td> <td>6.3 </td> <td>6.5 </td> <td>6.6 </td> <td>6.8 </td> <td>6.9 </td> <td>7.1 </td> <td>7.2 </td> <td>7.4 </td> <td>7.5 </td> <td>7.7 </td> <td>7.8 </td> <td>8   </td> <td>8.2 </td> <td>8.3 </td> <td>8.5 </td> <td>8.6 </td> <td>8.8 </td> <td>8.9 </td> <td>9.1 </td> <td>9.2 </td> <td>9.4 </td>\n",
       "        </tr>\n",
       "    </tbody>\n",
       "        <tr>\n",
       "            <td>Algeria            </td> <td>0.6 </td> <td>0.6 </td> <td>0.6 </td> <td>0.7 </td> <td>0.7 </td> <td>0.8 </td> <td>0.8 </td> <td>0.9 </td> <td>0.9 </td> <td>1   </td> <td>1.1 </td> <td>1.1 </td> <td>1.2 </td> <td>1.3 </td> <td>1.4 </td> <td>1.5 </td> <td>1.5 </td> <td>1.6 </td> <td>1.7 </td> <td>1.8 </td> <td>1.9 </td> <td>2   </td> <td>2.1 </td> <td>2.2 </td> <td>2.3 </td> <td>2.4 </td> <td>2.5 </td> <td>2.6 </td> <td>2.8 </td> <td>2.9 </td> <td>3   </td> <td>3.1 </td> <td>3.2 </td> <td>3.4 </td> <td>3.5 </td> <td>3.6 </td> <td>3.8 </td> <td>3.9 </td> <td>4   </td> <td>4.2 </td>\n",
       "        </tr>\n",
       "    </tbody>\n",
       "        <tr>\n",
       "            <td>Angola             </td> <td>0.5 </td> <td>0.5 </td> <td>0.5 </td> <td>0.5 </td> <td>0.6 </td> <td>0.6 </td> <td>0.6 </td> <td>0.7 </td> <td>0.7 </td> <td>0.7 </td> <td>0.8 </td> <td>0.8 </td> <td>0.8 </td> <td>0.9 </td> <td>0.9 </td> <td>1   </td> <td>1   </td> <td>1.1 </td> <td>1.1 </td> <td>1.2 </td> <td>1.2 </td> <td>1.3 </td> <td>1.3 </td> <td>1.4 </td> <td>1.5 </td> <td>1.5 </td> <td>1.6 </td> <td>1.7 </td> <td>1.8 </td> <td>1.8 </td> <td>1.9 </td> <td>2   </td> <td>2.1 </td> <td>2.2 </td> <td>2.3 </td> <td>2.4 </td> <td>2.5 </td> <td>2.6 </td> <td>2.7 </td> <td>2.8 </td>\n",
       "        </tr>\n",
       "    </tbody>\n",
       "        <tr>\n",
       "            <td>Antigua and Barbuda</td> <td>7   </td> <td>7.1 </td> <td>7.2 </td> <td>7.4 </td> <td>7.5 </td> <td>7.7 </td> <td>7.8 </td> <td>8   </td> <td>8.1 </td> <td>8.3 </td> <td>8.4 </td> <td>8.6 </td> <td>8.7 </td> <td>8.9 </td> <td>9.1 </td> <td>9.2 </td> <td>9.4 </td> <td>9.5 </td> <td>9.7 </td> <td>9.8 </td> <td>10  </td> <td>10.1</td> <td>10.2</td> <td>10.4</td> <td>10.5</td> <td>10.6</td> <td>10.8</td> <td>10.9</td> <td>11  </td> <td>11.1</td> <td>11.2</td> <td>11.4</td> <td>11.5</td> <td>11.6</td> <td>11.7</td> <td>11.8</td> <td>11.9</td> <td>12  </td> <td>12.1</td> <td>12.2</td>\n",
       "        </tr>\n",
       "    </tbody>\n",
       "        <tr>\n",
       "            <td>Argentina          </td> <td>5.5 </td> <td>5.6 </td> <td>5.7 </td> <td>5.9 </td> <td>6   </td> <td>6.1 </td> <td>6.2 </td> <td>6.3 </td> <td>6.5 </td> <td>6.6 </td> <td>6.7 </td> <td>6.8 </td> <td>7   </td> <td>7.1 </td> <td>7.2 </td> <td>7.3 </td> <td>7.4 </td> <td>7.6 </td> <td>7.7 </td> <td>7.8 </td> <td>7.9 </td> <td>8   </td> <td>8.1 </td> <td>8.3 </td> <td>8.4 </td> <td>8.5 </td> <td>8.6 </td> <td>8.7 </td> <td>8.8 </td> <td>9   </td> <td>9.1 </td> <td>9.2 </td> <td>9.3 </td> <td>9.4 </td> <td>9.5 </td> <td>9.6 </td> <td>9.8 </td> <td>9.9 </td> <td>10  </td> <td>10.1</td>\n",
       "        </tr>\n",
       "    </tbody>\n",
       "        <tr>\n",
       "            <td>Armenia            </td> <td>5.9 </td> <td>6   </td> <td>6.2 </td> <td>6.3 </td> <td>6.5 </td> <td>6.6 </td> <td>6.8 </td> <td>6.9 </td> <td>7.1 </td> <td>7.2 </td> <td>7.4 </td> <td>7.5 </td> <td>7.7 </td> <td>7.8 </td> <td>8   </td> <td>8.1 </td> <td>8.3 </td> <td>8.4 </td> <td>8.6 </td> <td>8.7 </td> <td>8.9 </td> <td>9   </td> <td>9.1 </td> <td>9.3 </td> <td>9.4 </td> <td>9.6 </td> <td>9.7 </td> <td>9.8 </td> <td>10  </td> <td>10.1</td> <td>10.2</td> <td>10.3</td> <td>10.5</td> <td>10.6</td> <td>10.7</td> <td>10.8</td> <td>11  </td> <td>11.1</td> <td>11.2</td> <td>11.3</td>\n",
       "        </tr>\n",
       "    </tbody>\n",
       "        <tr>\n",
       "            <td>Australia          </td> <td>8.4 </td> <td>8.5 </td> <td>8.6 </td> <td>8.7 </td> <td>8.8 </td> <td>8.9 </td> <td>9   </td> <td>9.1 </td> <td>9.2 </td> <td>9.3 </td> <td>9.4 </td> <td>9.5 </td> <td>9.6 </td> <td>9.6 </td> <td>9.7 </td> <td>9.8 </td> <td>9.9 </td> <td>10  </td> <td>10.1</td> <td>10.1</td> <td>10.2</td> <td>10.3</td> <td>10.4</td> <td>10.4</td> <td>10.5</td> <td>10.6</td> <td>10.7</td> <td>10.7</td> <td>10.8</td> <td>10.9</td> <td>10.9</td> <td>11  </td> <td>11.1</td> <td>11.1</td> <td>11.2</td> <td>11.3</td> <td>11.3</td> <td>11.4</td> <td>11.4</td> <td>11.5</td>\n",
       "        </tr>\n",
       "    </tbody>\n",
       "        <tr>\n",
       "            <td>Austria            </td> <td>7.2 </td> <td>7.3 </td> <td>7.4 </td> <td>7.5 </td> <td>7.6 </td> <td>7.7 </td> <td>7.9 </td> <td>8   </td> <td>8.1 </td> <td>8.2 </td> <td>8.3 </td> <td>8.4 </td> <td>8.5 </td> <td>8.6 </td> <td>8.7 </td> <td>8.8 </td> <td>8.9 </td> <td>9   </td> <td>9.1 </td> <td>9.1 </td> <td>9.2 </td> <td>9.3 </td> <td>9.4 </td> <td>9.5 </td> <td>9.6 </td> <td>9.7 </td> <td>9.8 </td> <td>9.9 </td> <td>10  </td> <td>10.1</td> <td>10.2</td> <td>10.3</td> <td>10.4</td> <td>10.4</td> <td>10.5</td> <td>10.6</td> <td>10.7</td> <td>10.8</td> <td>10.9</td> <td>11  </td>\n",
       "        </tr>\n",
       "    </tbody>\n",
       "        <tr>\n",
       "            <td>Azerbaijan         </td> <td>4.5 </td> <td>4.6 </td> <td>4.8 </td> <td>5   </td> <td>5.1 </td> <td>5.3 </td> <td>5.5 </td> <td>5.7 </td> <td>5.8 </td> <td>6   </td> <td>6.2 </td> <td>6.4 </td> <td>6.6 </td> <td>6.8 </td> <td>7   </td> <td>7.2 </td> <td>7.4 </td> <td>7.6 </td> <td>7.8 </td> <td>7.9 </td> <td>8.1 </td> <td>8.3 </td> <td>8.5 </td> <td>8.7 </td> <td>8.9 </td> <td>9.1 </td> <td>9.2 </td> <td>9.4 </td> <td>9.6 </td> <td>9.8 </td> <td>9.9 </td> <td>10.1</td> <td>10.2</td> <td>10.4</td> <td>10.6</td> <td>10.7</td> <td>10.9</td> <td>11  </td> <td>11.2</td> <td>11.3</td>\n",
       "        </tr>\n",
       "    </tbody>\n",
       "</table>\n",
       "<p>... (165 rows omitted)</p>"
      ],
      "text/plain": [
       "Row Labels          | 1970 | 1971 | 1972 | 1973 | 1974 | 1975 | 1976 | 1977 | 1978 | 1979 | 1980 | 1981 | 1982 | 1983 | 1984 | 1985 | 1986 | 1987 | 1988 | 1989 | 1990 | 1991 | 1992 | 1993 | 1994 | 1995 | 1996 | 1997 | 1998 | 1999 | 2000 | 2001 | 2002 | 2003 | 2004 | 2005 | 2006 | 2007 | 2008 | 2009\n",
       "Afghanistan         | 0    | 0.1  | 0.1  | 0.1  | 0.1  | 0.1  | 0.1  | 0.1  | 0.1  | 0.1  | 0.1  | 0.1  | 0.1  | 0.1  | 0.1  | 0.1  | 0.1  | 0.1  | 0.1  | 0.1  | 0.1  | 0.2  | 0.2  | 0.2  | 0.2  | 0.2  | 0.2  | 0.2  | 0.2  | 0.2  | 0.2  | 0.3  | 0.3  | 0.3  | 0.3  | 0.3  | 0.3  | 0.3  | 0.3  | 0.4\n",
       "Albania             | 3.9  | 4    | 4.1  | 4.2  | 4.3  | 4.5  | 4.6  | 4.7  | 4.8  | 4.9  | 5.1  | 5.2  | 5.3  | 5.4  | 5.6  | 5.7  | 5.9  | 6    | 6.2  | 6.3  | 6.5  | 6.6  | 6.8  | 6.9  | 7.1  | 7.2  | 7.4  | 7.5  | 7.7  | 7.8  | 8    | 8.2  | 8.3  | 8.5  | 8.6  | 8.8  | 8.9  | 9.1  | 9.2  | 9.4\n",
       "Algeria             | 0.6  | 0.6  | 0.6  | 0.7  | 0.7  | 0.8  | 0.8  | 0.9  | 0.9  | 1    | 1.1  | 1.1  | 1.2  | 1.3  | 1.4  | 1.5  | 1.5  | 1.6  | 1.7  | 1.8  | 1.9  | 2    | 2.1  | 2.2  | 2.3  | 2.4  | 2.5  | 2.6  | 2.8  | 2.9  | 3    | 3.1  | 3.2  | 3.4  | 3.5  | 3.6  | 3.8  | 3.9  | 4    | 4.2\n",
       "Angola              | 0.5  | 0.5  | 0.5  | 0.5  | 0.6  | 0.6  | 0.6  | 0.7  | 0.7  | 0.7  | 0.8  | 0.8  | 0.8  | 0.9  | 0.9  | 1    | 1    | 1.1  | 1.1  | 1.2  | 1.2  | 1.3  | 1.3  | 1.4  | 1.5  | 1.5  | 1.6  | 1.7  | 1.8  | 1.8  | 1.9  | 2    | 2.1  | 2.2  | 2.3  | 2.4  | 2.5  | 2.6  | 2.7  | 2.8\n",
       "Antigua and Barbuda | 7    | 7.1  | 7.2  | 7.4  | 7.5  | 7.7  | 7.8  | 8    | 8.1  | 8.3  | 8.4  | 8.6  | 8.7  | 8.9  | 9.1  | 9.2  | 9.4  | 9.5  | 9.7  | 9.8  | 10   | 10.1 | 10.2 | 10.4 | 10.5 | 10.6 | 10.8 | 10.9 | 11   | 11.1 | 11.2 | 11.4 | 11.5 | 11.6 | 11.7 | 11.8 | 11.9 | 12   | 12.1 | 12.2\n",
       "Argentina           | 5.5  | 5.6  | 5.7  | 5.9  | 6    | 6.1  | 6.2  | 6.3  | 6.5  | 6.6  | 6.7  | 6.8  | 7    | 7.1  | 7.2  | 7.3  | 7.4  | 7.6  | 7.7  | 7.8  | 7.9  | 8    | 8.1  | 8.3  | 8.4  | 8.5  | 8.6  | 8.7  | 8.8  | 9    | 9.1  | 9.2  | 9.3  | 9.4  | 9.5  | 9.6  | 9.8  | 9.9  | 10   | 10.1\n",
       "Armenia             | 5.9  | 6    | 6.2  | 6.3  | 6.5  | 6.6  | 6.8  | 6.9  | 7.1  | 7.2  | 7.4  | 7.5  | 7.7  | 7.8  | 8    | 8.1  | 8.3  | 8.4  | 8.6  | 8.7  | 8.9  | 9    | 9.1  | 9.3  | 9.4  | 9.6  | 9.7  | 9.8  | 10   | 10.1 | 10.2 | 10.3 | 10.5 | 10.6 | 10.7 | 10.8 | 11   | 11.1 | 11.2 | 11.3\n",
       "Australia           | 8.4  | 8.5  | 8.6  | 8.7  | 8.8  | 8.9  | 9    | 9.1  | 9.2  | 9.3  | 9.4  | 9.5  | 9.6  | 9.6  | 9.7  | 9.8  | 9.9  | 10   | 10.1 | 10.1 | 10.2 | 10.3 | 10.4 | 10.4 | 10.5 | 10.6 | 10.7 | 10.7 | 10.8 | 10.9 | 10.9 | 11   | 11.1 | 11.1 | 11.2 | 11.3 | 11.3 | 11.4 | 11.4 | 11.5\n",
       "Austria             | 7.2  | 7.3  | 7.4  | 7.5  | 7.6  | 7.7  | 7.9  | 8    | 8.1  | 8.2  | 8.3  | 8.4  | 8.5  | 8.6  | 8.7  | 8.8  | 8.9  | 9    | 9.1  | 9.1  | 9.2  | 9.3  | 9.4  | 9.5  | 9.6  | 9.7  | 9.8  | 9.9  | 10   | 10.1 | 10.2 | 10.3 | 10.4 | 10.4 | 10.5 | 10.6 | 10.7 | 10.8 | 10.9 | 11\n",
       "Azerbaijan          | 4.5  | 4.6  | 4.8  | 5    | 5.1  | 5.3  | 5.5  | 5.7  | 5.8  | 6    | 6.2  | 6.4  | 6.6  | 6.8  | 7    | 7.2  | 7.4  | 7.6  | 7.8  | 7.9  | 8.1  | 8.3  | 8.5  | 8.7  | 8.9  | 9.1  | 9.2  | 9.4  | 9.6  | 9.8  | 9.9  | 10.1 | 10.2 | 10.4 | 10.6 | 10.7 | 10.9 | 11   | 11.2 | 11.3\n",
       "... (165 rows omitted)"
      ]
     },
     "execution_count": 20,
     "metadata": {},
     "output_type": "execute_result"
    }
   ],
   "source": [
    "school = Table.read_table('../data/school.csv')\n",
    "school"
   ]
  },
  {
   "cell_type": "code",
   "execution_count": 21,
   "metadata": {},
   "outputs": [
    {
     "data": {
      "text/html": [
       "<table border=\"1\" class=\"dataframe\">\n",
       "    <thead>\n",
       "        <tr>\n",
       "            <th>Row Labels</th> <th>1970</th>\n",
       "        </tr>\n",
       "    </thead>\n",
       "    <tbody>\n",
       "        <tr>\n",
       "            <td>United States </td> <td>11  </td>\n",
       "        </tr>\n",
       "    </tbody>\n",
       "        <tr>\n",
       "            <td>Czech Rep.    </td> <td>8.8 </td>\n",
       "        </tr>\n",
       "    </tbody>\n",
       "        <tr>\n",
       "            <td>Canada        </td> <td>8.7 </td>\n",
       "        </tr>\n",
       "    </tbody>\n",
       "        <tr>\n",
       "            <td>Australia     </td> <td>8.4 </td>\n",
       "        </tr>\n",
       "    </tbody>\n",
       "        <tr>\n",
       "            <td>United Kingdom</td> <td>8.3 </td>\n",
       "        </tr>\n",
       "    </tbody>\n",
       "        <tr>\n",
       "            <td>Japan         </td> <td>8.2 </td>\n",
       "        </tr>\n",
       "    </tbody>\n",
       "        <tr>\n",
       "            <td>Denmark       </td> <td>7.9 </td>\n",
       "        </tr>\n",
       "    </tbody>\n",
       "        <tr>\n",
       "            <td>Switzerland   </td> <td>7.4 </td>\n",
       "        </tr>\n",
       "    </tbody>\n",
       "        <tr>\n",
       "            <td>Georgia       </td> <td>7.4 </td>\n",
       "        </tr>\n",
       "    </tbody>\n",
       "        <tr>\n",
       "            <td>Poland        </td> <td>7.3 </td>\n",
       "        </tr>\n",
       "    </tbody>\n",
       "</table>\n",
       "<p>... (165 rows omitted)</p>"
      ],
      "text/plain": [
       "Row Labels     | 1970\n",
       "United States  | 11\n",
       "Czech Rep.     | 8.8\n",
       "Canada         | 8.7\n",
       "Australia      | 8.4\n",
       "United Kingdom | 8.3\n",
       "Japan          | 8.2\n",
       "Denmark        | 7.9\n",
       "Switzerland    | 7.4\n",
       "Georgia        | 7.4\n",
       "Poland         | 7.3\n",
       "... (165 rows omitted)"
      ]
     },
     "execution_count": 21,
     "metadata": {},
     "output_type": "execute_result"
    }
   ],
   "source": [
    "top_1970 = school.select('Row Labels', '1970').sort('1970', descending=True)\n",
    "top_1970"
   ]
  },
  {
   "cell_type": "code",
   "execution_count": 22,
   "metadata": {},
   "outputs": [
    {
     "data": {
      "text/html": [
       "<table border=\"1\" class=\"dataframe\">\n",
       "    <thead>\n",
       "        <tr>\n",
       "            <th>Row Labels</th> <th>1970</th> <th>2009</th>\n",
       "        </tr>\n",
       "    </thead>\n",
       "    <tbody>\n",
       "        <tr>\n",
       "            <td>United States </td> <td>11  </td> <td>13.7</td>\n",
       "        </tr>\n",
       "    </tbody>\n",
       "        <tr>\n",
       "            <td>Czech Rep.    </td> <td>8.8 </td> <td>13.3</td>\n",
       "        </tr>\n",
       "    </tbody>\n",
       "        <tr>\n",
       "            <td>Canada        </td> <td>8.7 </td> <td>14.2</td>\n",
       "        </tr>\n",
       "    </tbody>\n",
       "        <tr>\n",
       "            <td>Australia     </td> <td>8.4 </td> <td>11.5</td>\n",
       "        </tr>\n",
       "    </tbody>\n",
       "        <tr>\n",
       "            <td>United Kingdom</td> <td>8.3 </td> <td>13  </td>\n",
       "        </tr>\n",
       "    </tbody>\n",
       "        <tr>\n",
       "            <td>Japan         </td> <td>8.2 </td> <td>12.2</td>\n",
       "        </tr>\n",
       "    </tbody>\n",
       "        <tr>\n",
       "            <td>Denmark       </td> <td>7.9 </td> <td>12.8</td>\n",
       "        </tr>\n",
       "    </tbody>\n",
       "        <tr>\n",
       "            <td>Switzerland   </td> <td>7.4 </td> <td>12.6</td>\n",
       "        </tr>\n",
       "    </tbody>\n",
       "        <tr>\n",
       "            <td>Georgia       </td> <td>7.4 </td> <td>12.5</td>\n",
       "        </tr>\n",
       "    </tbody>\n",
       "        <tr>\n",
       "            <td>Poland        </td> <td>7.3 </td> <td>12.4</td>\n",
       "        </tr>\n",
       "    </tbody>\n",
       "</table>\n",
       "<p>... (165 rows omitted)</p>"
      ],
      "text/plain": [
       "Row Labels     | 1970 | 2009\n",
       "United States  | 11   | 13.7\n",
       "Czech Rep.     | 8.8  | 13.3\n",
       "Canada         | 8.7  | 14.2\n",
       "Australia      | 8.4  | 11.5\n",
       "United Kingdom | 8.3  | 13\n",
       "Japan          | 8.2  | 12.2\n",
       "Denmark        | 7.9  | 12.8\n",
       "Switzerland    | 7.4  | 12.6\n",
       "Georgia        | 7.4  | 12.5\n",
       "Poland         | 7.3  | 12.4\n",
       "... (165 rows omitted)"
      ]
     },
     "execution_count": 22,
     "metadata": {},
     "output_type": "execute_result"
    }
   ],
   "source": [
    "top_1970_with_2009 = school.select('Row Labels', '1970', '2009').sort('1970', descending=True)\n",
    "top_1970_with_2009"
   ]
  }
 ],
 "metadata": {
  "kernelspec": {
   "display_name": "Python 3",
   "language": "python",
   "name": "python3"
  },
  "language_info": {
   "codemirror_mode": {
    "name": "ipython",
    "version": 3
   },
   "file_extension": ".py",
   "mimetype": "text/x-python",
   "name": "python",
   "nbconvert_exporter": "python",
   "pygments_lexer": "ipython3",
   "version": "3.6.4"
  }
 },
 "nbformat": 4,
 "nbformat_minor": 2
}
