{
 "cells": [
  {
   "cell_type": "markdown",
   "metadata": {},
   "source": [
    "# Growth rate\n",
    "- After t time unit, a quantity x growing at rate g will be: x * (1 + g) ** t\n",
    "- Given two measurement in t time, the the growth rate is: (after/before) ** (1/t) - 1"
   ]
  },
  {
   "cell_type": "code",
   "execution_count": 1,
   "metadata": {},
   "outputs": [
    {
     "data": {
      "text/plain": [
       "1.385792349726776"
      ]
     },
     "execution_count": 1,
     "metadata": {},
     "output_type": "execute_result"
    }
   ],
   "source": [
    "# given the number of cases one month apart\n",
    "sept_7 = 4366\n",
    "aug_7 = 1830\n",
    "# calculate the month growth rate\n",
    "growth_per_month = (sept_7 / aug_7) - 1\n",
    "growth_per_month"
   ]
  },
  {
   "cell_type": "code",
   "execution_count": 2,
   "metadata": {},
   "outputs": [
    {
     "data": {
      "text/plain": [
       "10416.369398907103"
      ]
     },
     "execution_count": 2,
     "metadata": {},
     "output_type": "execute_result"
    }
   ],
   "source": [
    "# estimate the number of cases next months, if growth rate won't change\n",
    "sept_7 * (1 + growth_per_month)"
   ]
  },
  {
   "cell_type": "code",
   "execution_count": 3,
   "metadata": {},
   "outputs": [
    {
     "data": {
      "text/plain": [
       "148482554.67988718"
      ]
     },
     "execution_count": 3,
     "metadata": {},
     "output_type": "execute_result"
    }
   ],
   "source": [
    "# what if it goes on this way for a year\n",
    "sept_7 * (1 + growth_per_month) ** 12"
   ]
  },
  {
   "cell_type": "code",
   "execution_count": 4,
   "metadata": {},
   "outputs": [
    {
     "data": {
      "text/plain": [
       "1010000000000"
      ]
     },
     "execution_count": 4,
     "metadata": {},
     "output_type": "execute_result"
    }
   ],
   "source": [
    "# US federal budget increase in ten years\n",
    "fed_budget_2002 = 2370000000000\n",
    "fed_budget_2012 = 3380000000000\n",
    "fed_budget_2012 - fed_budget_2002"
   ]
  },
  {
   "cell_type": "code",
   "execution_count": 5,
   "metadata": {},
   "outputs": [
    {
     "data": {
      "text/plain": [
       "0.03613617208346853"
      ]
     },
     "execution_count": 5,
     "metadata": {},
     "output_type": "execute_result"
    }
   ],
   "source": [
    "# US federal budget year growth in that period is about 3.6%\n",
    "g = (fed_budget_2012 / fed_budget_2002) ** (1/10) - 1\n",
    "g"
   ]
  },
  {
   "cell_type": "code",
   "execution_count": 6,
   "metadata": {},
   "outputs": [
    {
     "data": {
      "text/plain": [
       "4182324373087.768"
      ]
     },
     "execution_count": 6,
     "metadata": {},
     "output_type": "execute_result"
    }
   ],
   "source": [
    "# estimate what if it kept like that - Actual 2018 budget: $4.1 trillion, a bit less\n",
    "fed_budget_2002 * (1 + g) ** 16"
   ]
  },
  {
   "cell_type": "markdown",
   "metadata": {},
   "source": [
    "# Array"
   ]
  },
  {
   "cell_type": "code",
   "execution_count": 7,
   "metadata": {},
   "outputs": [],
   "source": [
    "from datascience import *"
   ]
  },
  {
   "cell_type": "code",
   "execution_count": 8,
   "metadata": {},
   "outputs": [
    {
     "data": {
      "text/plain": [
       "array([1, 2, 3])"
      ]
     },
     "execution_count": 8,
     "metadata": {},
     "output_type": "execute_result"
    }
   ],
   "source": [
    "a = make_array(1, 2, 3)\n",
    "a"
   ]
  },
  {
   "cell_type": "code",
   "execution_count": 9,
   "metadata": {},
   "outputs": [
    {
     "data": {
      "text/plain": [
       "(array([6, 7, 8]), array([1, 2, 3]))"
      ]
     },
     "execution_count": 9,
     "metadata": {},
     "output_type": "execute_result"
    }
   ],
   "source": [
    "a + 5, a"
   ]
  },
  {
   "cell_type": "code",
   "execution_count": 10,
   "metadata": {},
   "outputs": [
    {
     "data": {
      "text/plain": [
       "(6, 3, 1)"
      ]
     },
     "execution_count": 10,
     "metadata": {},
     "output_type": "execute_result"
    }
   ],
   "source": [
    "sum(a), max(a), min(a)"
   ]
  },
  {
   "cell_type": "code",
   "execution_count": 11,
   "metadata": {},
   "outputs": [
    {
     "data": {
      "text/plain": [
       "array([2.45564273e+12, 2.54438026e+12, 2.63632442e+12])"
      ]
     },
     "execution_count": 11,
     "metadata": {},
     "output_type": "execute_result"
    }
   ],
   "source": [
    "# put esitmation for the next three years in an array\n",
    "fed_budget_2002 * (1 + g) ** a"
   ]
  },
  {
   "cell_type": "markdown",
   "metadata": {},
   "source": [
    "# Columns"
   ]
  },
  {
   "cell_type": "code",
   "execution_count": 12,
   "metadata": {},
   "outputs": [
    {
     "data": {
      "text/html": [
       "<table border=\"1\" class=\"dataframe\">\n",
       "    <thead>\n",
       "        <tr>\n",
       "            <th>Title</th> <th>Studio</th> <th>Gross</th> <th>Gross (Adjusted)</th> <th>Year</th>\n",
       "        </tr>\n",
       "    </thead>\n",
       "    <tbody>\n",
       "        <tr>\n",
       "            <td>Gone with the Wind              </td> <td>MGM            </td> <td>198,676,459</td> <td>1,796,176,700   </td> <td>1939</td>\n",
       "        </tr>\n",
       "    </tbody>\n",
       "        <tr>\n",
       "            <td>Star Wars                       </td> <td>Fox            </td> <td>460,998,007</td> <td>1,583,483,200   </td> <td>1977</td>\n",
       "        </tr>\n",
       "    </tbody>\n",
       "        <tr>\n",
       "            <td>The Sound of Music              </td> <td>Fox            </td> <td>158,671,368</td> <td>1,266,072,700   </td> <td>1965</td>\n",
       "        </tr>\n",
       "    </tbody>\n",
       "        <tr>\n",
       "            <td>E.T.: The Extra-Terrestrial     </td> <td>Universal      </td> <td>435,110,554</td> <td>1,261,085,000   </td> <td>1982</td>\n",
       "        </tr>\n",
       "    </tbody>\n",
       "        <tr>\n",
       "            <td>Titanic                         </td> <td>Paramount      </td> <td>658,672,302</td> <td>1,204,368,000   </td> <td>1997</td>\n",
       "        </tr>\n",
       "    </tbody>\n",
       "        <tr>\n",
       "            <td>The Ten Commandments            </td> <td>Paramount      </td> <td>65,500,000 </td> <td>1,164,590,000   </td> <td>1956</td>\n",
       "        </tr>\n",
       "    </tbody>\n",
       "        <tr>\n",
       "            <td>Jaws                            </td> <td>Universal      </td> <td>260,000,000</td> <td>1,138,620,700   </td> <td>1975</td>\n",
       "        </tr>\n",
       "    </tbody>\n",
       "        <tr>\n",
       "            <td>Doctor Zhivago                  </td> <td>MGM            </td> <td>111,721,910</td> <td>1,103,564,200   </td> <td>1965</td>\n",
       "        </tr>\n",
       "    </tbody>\n",
       "        <tr>\n",
       "            <td>The Exorcist                    </td> <td>Warner Brothers</td> <td>232,906,145</td> <td>983,226,600     </td> <td>1973</td>\n",
       "        </tr>\n",
       "    </tbody>\n",
       "        <tr>\n",
       "            <td>Snow White and the Seven Dwarves</td> <td>Disney         </td> <td>184,925,486</td> <td>969,010,000     </td> <td>1937</td>\n",
       "        </tr>\n",
       "    </tbody>\n",
       "</table>\n",
       "<p>... (190 rows omitted)</p>"
      ],
      "text/plain": [
       "Title                            | Studio          | Gross       | Gross (Adjusted) | Year\n",
       "Gone with the Wind               | MGM             | 198,676,459 | 1,796,176,700    | 1939\n",
       "Star Wars                        | Fox             | 460,998,007 | 1,583,483,200    | 1977\n",
       "The Sound of Music               | Fox             | 158,671,368 | 1,266,072,700    | 1965\n",
       "E.T.: The Extra-Terrestrial      | Universal       | 435,110,554 | 1,261,085,000    | 1982\n",
       "Titanic                          | Paramount       | 658,672,302 | 1,204,368,000    | 1997\n",
       "The Ten Commandments             | Paramount       | 65,500,000  | 1,164,590,000    | 1956\n",
       "Jaws                             | Universal       | 260,000,000 | 1,138,620,700    | 1975\n",
       "Doctor Zhivago                   | MGM             | 111,721,910 | 1,103,564,200    | 1965\n",
       "The Exorcist                     | Warner Brothers | 232,906,145 | 983,226,600      | 1973\n",
       "Snow White and the Seven Dwarves | Disney          | 184,925,486 | 969,010,000      | 1937\n",
       "... (190 rows omitted)"
      ]
     },
     "execution_count": 12,
     "metadata": {},
     "output_type": "execute_result"
    }
   ],
   "source": [
    "movies = Table.read_table('../data/top_movies_2017.csv')\n",
    "movies.set_format((2, 3), NumberFormatter)\n",
    "movies"
   ]
  },
  {
   "cell_type": "code",
   "execution_count": 13,
   "metadata": {},
   "outputs": [
    {
     "data": {
      "text/plain": [
       "array([1796176700, 1583483200, 1266072700, 1261085000, 1204368000,\n",
       "       1164590000, 1138620700, 1103564200,  983226600,  969010000,\n",
       "        961143200,  888264400,  872825900,  871220000,  865082100,\n",
       "        836188200,  817186200,  802874300,  792511700,  792480000,\n",
       "        787003100,  760778000,  738256500,  702747400,  701621600,\n",
       "        698884100,  695036400,  684256200,  683474000,  664972000,\n",
       "        661980500,  655014400,  646090100,  632734400,  631642700,\n",
       "        627259300,  622283500,  617719400,  615800300,  602157000,\n",
       "        599215600,  597261000,  596963700,  589407000,  587729300,\n",
       "        584200000,  581890900,  574546200,  574430800,  566403700,\n",
       "        562200300,  559666600,  557803900,  547976900,  547504100,\n",
       "        545629600,  537326000,  536079700,  534811300,  533400000,\n",
       "        533400000,  532424500,  530776000,  527395500,  524960300,\n",
       "        513177800,  511902300,  511878400,  509913700,  505876000,\n",
       "        505244700,  504014165,  499245400,  497575800,  497066400,\n",
       "        495483100,  494066600,  492359800,  489567200,  489305400,\n",
       "        488950000,  488078400,  487165600,  486177500,  485542200,\n",
       "        483616000,  479179200,  478952400,  478353100,  477262800,\n",
       "        477252600,  475906700,  475854300,  475334700,  468364200,\n",
       "        466212500,  464074600,  457525800,  454409200,  453571400,\n",
       "        452174400,  450268700,  449228700,  447653700,  443699500,\n",
       "        439312600,  438749200,  435974700,  434848000,  433906300,\n",
       "        433104200,  427815200,  427669700,  426989100,  426630300,\n",
       "        425266700,  420413700,  417002900,  416888500,  415654000,\n",
       "        415126800,  412514300,  410739900,  408214300,  406691500,\n",
       "        406381596,  405804200,  405593100,  404336400,  403283400,\n",
       "        401616500,  401608200,  399818000,  399302200,  394692100,\n",
       "        394607100,  394234700,  393479300,  392698200,  392622400,\n",
       "        389989400,  389397196,  388486700,  388109400,  385261600,\n",
       "        384863200,  384704200,  384554700,  383928800,  382981200,\n",
       "        382450000,  382096000,  379306800,  377942800,  377314200,\n",
       "        376674100,  376100400,  375984600,  374948400,  374728300,\n",
       "        373705500,  373646300,  372439400,  372042900,  370808400,\n",
       "        370746600,  368219200,  366068600,  364701500,  364011000,\n",
       "        362062100,  361949600,  360976100,  360794700,  360570200,\n",
       "        359788300,  358002000,  357233500,  355950700,  355286400,\n",
       "        355229800,  354335300,  354164800,  352761800,  352098200,\n",
       "        351359500,  349463400,  349381600,  349375100,  349143900,\n",
       "        348813000,  348787100,  345960800,  345910600,  345141200,\n",
       "        341357800,  340137000,  340028200,  339411900,  338409100])"
      ]
     },
     "execution_count": 13,
     "metadata": {},
     "output_type": "execute_result"
    }
   ],
   "source": [
    "# grab the gross column, as an array\n",
    "movies.column(3)"
   ]
  },
  {
   "cell_type": "code",
   "execution_count": 14,
   "metadata": {},
   "outputs": [
    {
     "data": {
      "text/plain": [
       "array([ 9.04071227,  3.43490249,  7.97921336,  2.89830938,  1.82847828,\n",
       "       17.78      ,  4.37931038,  9.87777778,  4.22155714,  5.24000245,\n",
       "        1.0261364 ,  6.13103475,  3.0048221 , 11.77324324,  1.13750615,\n",
       "        2.70343195,  2.03050893,  1.69188348,  1.8745083 ,  5.08      ,\n",
       "        3.17135393,  7.24928095,  9.6620192 ,  1.07738625,  5.19849046,\n",
       "        2.11621342,  6.79591148,  3.62508913,  1.09643912, 10.45624844,\n",
       "        1.23767421,  4.61786323, 12.52112597,  2.61231145,  1.43156194,\n",
       "        6.13103423,  5.84868382,  1.5301205 ,  2.0113067 ,  2.10720318,\n",
       "        7.11199958, 10.33720958,  2.54286286, 11.53865987,  5.8486841 ,\n",
       "        5.08      , 16.16363611,  1.35725192, 13.67692381,  5.53955489,\n",
       "        4.7006132 ,  2.22807037, 26.14705822,  1.45026555,  1.43761005,\n",
       "        4.70370345,  1.00967474,  5.75556245,  1.43156208, 14.81666667,\n",
       "        7.40833333,  3.76006003,  1.43150064,  1.38689536,  2.49257344,\n",
       "        1.49810467,  1.1422844 ,  1.74401168,  3.79914491,  2.8548307 ,\n",
       "        3.98654689,  1.        ,  1.02662956, 11.3974352 ,  1.56519102,\n",
       "        5.29349132,  3.74041718, 10.98425438,  4.33658556,  4.1737091 ,\n",
       "       20.6744186 ,  5.77176447,  1.54388752,  2.01131241,  1.936819  ,\n",
       "       17.78      ,  1.19165644, 10.33720821, 11.85333284,  4.37931012,\n",
       "        5.84868382,  2.64583301,  1.03670635,  1.52999771,  2.13674436,\n",
       "        2.14498289,  1.1182389 ,  2.10229773,  1.07003388, 22.22499889,\n",
       "        1.10824155,  1.47429005, 18.91489263, 12.17631076,  1.93681929,\n",
       "        2.22807007,  1.51336529,  1.0879295 ,  1.2921511 ,  1.0608593 ,\n",
       "        2.10862895, 26.14706068,  1.64459993,  2.3747924 ,  1.1197316 ,\n",
       "        1.72976584,  1.57067111,  1.29215101,  1.13266062,  1.01854923,\n",
       "        1.47429511,  1.29215104,  2.34972347, 44.45000383,  1.8781278 ,\n",
       "        1.        ,  4.70370375,  4.64040638,  2.64128695,  1.84174902,\n",
       "        1.37676179,  1.38479361,  1.29215129,  1.5241212 ,  2.14651513,\n",
       "       18.14285517,  1.23812725,  1.11660006,  1.40620414,  1.23816151,\n",
       "        2.03335276,  1.        ,  2.10894701,  2.99015943,  6.76431664,\n",
       "        2.22688981,  1.04430121,  6.78625937,  1.07705481,  1.09383706,\n",
       "        3.59919066,  1.8955226 , 11.8533375 ,  3.02235461,  1.29215095,\n",
       "        2.5042251 ,  2.04367835,  1.03556853,  2.10165486,  4.70370332,\n",
       "        1.1182389 ,  1.42917969,  1.5941274 ,  2.14328308,  1.01870125,\n",
       "        2.20970604,  1.52510741,  1.09872242,  1.03312818,  2.01131212,\n",
       "        1.07393522,  1.07708423,  3.8314818 ,  3.02463339,  1.75000024,\n",
       "        1.19151297,  1.47429514,  1.43156195,  6.81593578,  1.64935046,\n",
       "        1.57067151,  2.03830829,  5.73548418,  2.25197255,  1.03173443,\n",
       "        1.93681886,  2.11163906,  2.2736571 ,  1.11823889,  1.19160047,\n",
       "        2.1421689 ,  1.52999188,  3.19784205,  1.16615994,  5.22941212,\n",
       "        3.30483249,  1.02959438,  2.14734264,  1.0440229 ,  2.16301677])"
      ]
     },
     "execution_count": 14,
     "metadata": {},
     "output_type": "execute_result"
    }
   ],
   "source": [
    "adjustment = movies.column('Gross (Adjusted)') / movies.column('Gross')\n",
    "adjustment"
   ]
  },
  {
   "cell_type": "code",
   "execution_count": 15,
   "metadata": {},
   "outputs": [
    {
     "data": {
      "text/html": [
       "<table border=\"1\" class=\"dataframe\">\n",
       "    <thead>\n",
       "        <tr>\n",
       "            <th>Title</th> <th>Studio</th> <th>Gross</th> <th>Gross (Adjusted)</th> <th>Year</th> <th>Adjustment</th>\n",
       "        </tr>\n",
       "    </thead>\n",
       "    <tbody>\n",
       "        <tr>\n",
       "            <td>Gone with the Wind              </td> <td>MGM            </td> <td>198,676,459</td> <td>1,796,176,700   </td> <td>1939</td> <td>9.04071   </td>\n",
       "        </tr>\n",
       "    </tbody>\n",
       "        <tr>\n",
       "            <td>Star Wars                       </td> <td>Fox            </td> <td>460,998,007</td> <td>1,583,483,200   </td> <td>1977</td> <td>3.4349    </td>\n",
       "        </tr>\n",
       "    </tbody>\n",
       "        <tr>\n",
       "            <td>The Sound of Music              </td> <td>Fox            </td> <td>158,671,368</td> <td>1,266,072,700   </td> <td>1965</td> <td>7.97921   </td>\n",
       "        </tr>\n",
       "    </tbody>\n",
       "        <tr>\n",
       "            <td>E.T.: The Extra-Terrestrial     </td> <td>Universal      </td> <td>435,110,554</td> <td>1,261,085,000   </td> <td>1982</td> <td>2.89831   </td>\n",
       "        </tr>\n",
       "    </tbody>\n",
       "        <tr>\n",
       "            <td>Titanic                         </td> <td>Paramount      </td> <td>658,672,302</td> <td>1,204,368,000   </td> <td>1997</td> <td>1.82848   </td>\n",
       "        </tr>\n",
       "    </tbody>\n",
       "        <tr>\n",
       "            <td>The Ten Commandments            </td> <td>Paramount      </td> <td>65,500,000 </td> <td>1,164,590,000   </td> <td>1956</td> <td>17.78     </td>\n",
       "        </tr>\n",
       "    </tbody>\n",
       "        <tr>\n",
       "            <td>Jaws                            </td> <td>Universal      </td> <td>260,000,000</td> <td>1,138,620,700   </td> <td>1975</td> <td>4.37931   </td>\n",
       "        </tr>\n",
       "    </tbody>\n",
       "        <tr>\n",
       "            <td>Doctor Zhivago                  </td> <td>MGM            </td> <td>111,721,910</td> <td>1,103,564,200   </td> <td>1965</td> <td>9.87778   </td>\n",
       "        </tr>\n",
       "    </tbody>\n",
       "        <tr>\n",
       "            <td>The Exorcist                    </td> <td>Warner Brothers</td> <td>232,906,145</td> <td>983,226,600     </td> <td>1973</td> <td>4.22156   </td>\n",
       "        </tr>\n",
       "    </tbody>\n",
       "        <tr>\n",
       "            <td>Snow White and the Seven Dwarves</td> <td>Disney         </td> <td>184,925,486</td> <td>969,010,000     </td> <td>1937</td> <td>5.24      </td>\n",
       "        </tr>\n",
       "    </tbody>\n",
       "</table>\n",
       "<p>... (190 rows omitted)</p>"
      ],
      "text/plain": [
       "Title                            | Studio          | Gross       | Gross (Adjusted) | Year | Adjustment\n",
       "Gone with the Wind               | MGM             | 198,676,459 | 1,796,176,700    | 1939 | 9.04071\n",
       "Star Wars                        | Fox             | 460,998,007 | 1,583,483,200    | 1977 | 3.4349\n",
       "The Sound of Music               | Fox             | 158,671,368 | 1,266,072,700    | 1965 | 7.97921\n",
       "E.T.: The Extra-Terrestrial      | Universal       | 435,110,554 | 1,261,085,000    | 1982 | 2.89831\n",
       "Titanic                          | Paramount       | 658,672,302 | 1,204,368,000    | 1997 | 1.82848\n",
       "The Ten Commandments             | Paramount       | 65,500,000  | 1,164,590,000    | 1956 | 17.78\n",
       "Jaws                             | Universal       | 260,000,000 | 1,138,620,700    | 1975 | 4.37931\n",
       "Doctor Zhivago                   | MGM             | 111,721,910 | 1,103,564,200    | 1965 | 9.87778\n",
       "The Exorcist                     | Warner Brothers | 232,906,145 | 983,226,600      | 1973 | 4.22156\n",
       "Snow White and the Seven Dwarves | Disney          | 184,925,486 | 969,010,000      | 1937 | 5.24\n",
       "... (190 rows omitted)"
      ]
     },
     "execution_count": 15,
     "metadata": {},
     "output_type": "execute_result"
    }
   ],
   "source": [
    "movies.with_column(\"Adjustment\", adjustment)"
   ]
  },
  {
   "cell_type": "code",
   "execution_count": 16,
   "metadata": {},
   "outputs": [],
   "source": [
    "%matplotlib inline"
   ]
  },
  {
   "cell_type": "code",
   "execution_count": 17,
   "metadata": {},
   "outputs": [
    {
     "data": {
      "image/png": "[encoded data removed]",
      "text/plain": [
       "<Figure size 360x360 with 1 Axes>"
      ]
     },
     "metadata": {},
     "output_type": "display_data"
    }
   ],
   "source": [
    "movies.with_column('Adjustment', adjustment).scatter('Year', 'Adjustment')"
   ]
  },
  {
   "cell_type": "code",
   "execution_count": 18,
   "metadata": {},
   "outputs": [
    {
     "data": {
      "text/html": [
       "<table border=\"1\" class=\"dataframe\">\n",
       "    <thead>\n",
       "        <tr>\n",
       "            <th>Title</th> <th>Studio</th> <th>Gross</th> <th>Gross (Adjusted)</th> <th>Year</th> <th>Adjustment</th>\n",
       "        </tr>\n",
       "    </thead>\n",
       "    <tbody>\n",
       "        <tr>\n",
       "            <td>The Four Horsemen of the Apocalypse</td> <td>Metro          </td> <td>9,183,673  </td> <td>408,214,300     </td> <td>1921</td> <td>44.45     </td>\n",
       "        </tr>\n",
       "    </tbody>\n",
       "        <tr>\n",
       "            <td>Snow White and the Seven Dwarves   </td> <td>Disney         </td> <td>184,925,486</td> <td>969,010,000     </td> <td>1937</td> <td>5.24      </td>\n",
       "        </tr>\n",
       "    </tbody>\n",
       "        <tr>\n",
       "            <td>Gone with the Wind                 </td> <td>MGM            </td> <td>198,676,459</td> <td>1,796,176,700   </td> <td>1939</td> <td>9.04071   </td>\n",
       "        </tr>\n",
       "    </tbody>\n",
       "        <tr>\n",
       "            <td>Pinocchio                          </td> <td>Disney         </td> <td>84,254,167 </td> <td>599,215,600     </td> <td>1940</td> <td>7.112     </td>\n",
       "        </tr>\n",
       "    </tbody>\n",
       "        <tr>\n",
       "            <td>Fantasia                           </td> <td>Disney         </td> <td>76,408,097 </td> <td>738,256,500     </td> <td>1941</td> <td>9.66202   </td>\n",
       "        </tr>\n",
       "    </tbody>\n",
       "        <tr>\n",
       "            <td>Sergeant York                      </td> <td>Warner Brothers</td> <td>16,361,885 </td> <td>427,815,200     </td> <td>1941</td> <td>26.1471   </td>\n",
       "        </tr>\n",
       "    </tbody>\n",
       "        <tr>\n",
       "            <td>Bambi                              </td> <td>RKO            </td> <td>102,247,150</td> <td>566,403,700     </td> <td>1942</td> <td>5.53955   </td>\n",
       "        </tr>\n",
       "    </tbody>\n",
       "        <tr>\n",
       "            <td>The Bells of St. Mary's            </td> <td>RKO            </td> <td>21,333,333 </td> <td>557,803,900     </td> <td>1945</td> <td>26.1471   </td>\n",
       "        </tr>\n",
       "    </tbody>\n",
       "        <tr>\n",
       "            <td>The Best Years of Our Lives        </td> <td>RKO            </td> <td>23,650,000 </td> <td>488,950,000     </td> <td>1946</td> <td>20.6744   </td>\n",
       "        </tr>\n",
       "    </tbody>\n",
       "        <tr>\n",
       "            <td>Duel in the Sun                    </td> <td>Selz.          </td> <td>20,408,163 </td> <td>453,571,400     </td> <td>1946</td> <td>22.225    </td>\n",
       "        </tr>\n",
       "    </tbody>\n",
       "        <tr>\n",
       "            <td>Cinderella (1950)                  </td> <td>Disney         </td> <td>93,141,149 </td> <td>536,079,700     </td> <td>1950</td> <td>5.75556   </td>\n",
       "        </tr>\n",
       "    </tbody>\n",
       "        <tr>\n",
       "            <td>The Greatest Showman on Earth      </td> <td>Paramount      </td> <td>36,000,000 </td> <td>533,400,000     </td> <td>1952</td> <td>14.8167   </td>\n",
       "        </tr>\n",
       "    </tbody>\n",
       "        <tr>\n",
       "            <td>The Robe                           </td> <td>Fox            </td> <td>36,000,000 </td> <td>581,890,900     </td> <td>1953</td> <td>16.1636   </td>\n",
       "        </tr>\n",
       "    </tbody>\n",
       "        <tr>\n",
       "            <td>House of Wax                       </td> <td>Warner Brothers</td> <td>23,750,000 </td> <td>449,228,700     </td> <td>1953</td> <td>18.9149   </td>\n",
       "        </tr>\n",
       "    </tbody>\n",
       "        <tr>\n",
       "            <td>Peter Pan                          </td> <td>Disney         </td> <td>87,404,651 </td> <td>405,593,100     </td> <td>1953</td> <td>4.64041   </td>\n",
       "        </tr>\n",
       "    </tbody>\n",
       "        <tr>\n",
       "            <td>Rear Window                        </td> <td>Paramount      </td> <td>36,764,313 </td> <td>447,653,700     </td> <td>1954</td> <td>12.1763   </td>\n",
       "        </tr>\n",
       "    </tbody>\n",
       "        <tr>\n",
       "            <td>The Caine Mutiny                   </td> <td>Columbia       </td> <td>21,750,000 </td> <td>394,607,100     </td> <td>1954</td> <td>18.1429   </td>\n",
       "        </tr>\n",
       "    </tbody>\n",
       "        <tr>\n",
       "            <td>Lady and the Tramp                 </td> <td>Disney         </td> <td>93,602,326 </td> <td>495,483,100     </td> <td>1955</td> <td>5.29349   </td>\n",
       "        </tr>\n",
       "    </tbody>\n",
       "        <tr>\n",
       "            <td>The Ten Commandments               </td> <td>Paramount      </td> <td>65,500,000 </td> <td>1,164,590,000   </td> <td>1956</td> <td>17.78     </td>\n",
       "        </tr>\n",
       "    </tbody>\n",
       "        <tr>\n",
       "            <td>Around the World in 80 Days        </td> <td>United Artists </td> <td>42,000,000 </td> <td>574,430,800     </td> <td>1956</td> <td>13.6769   </td>\n",
       "        </tr>\n",
       "    </tbody>\n",
       "</table>\n",
       "<p>... (180 rows omitted)</p>"
      ],
      "text/plain": [
       "<IPython.core.display.HTML object>"
      ]
     },
     "metadata": {},
     "output_type": "display_data"
    }
   ],
   "source": [
    "# why there are dots outside the baseline?\n",
    "movies.with_column(\"Adjustment\", adjustment).sort('Year').show(20)\n",
    "# re-released!"
   ]
  }
 ],
 "metadata": {
  "kernelspec": {
   "display_name": "Python 3",
   "language": "python",
   "name": "python3"
  },
  "language_info": {
   "codemirror_mode": {
    "name": "ipython",
    "version": 3
   },
   "file_extension": ".py",
   "mimetype": "text/x-python",
   "name": "python",
   "nbconvert_exporter": "python",
   "pygments_lexer": "ipython3",
   "version": "3.6.4"
  }
 },
 "nbformat": 4,
 "nbformat_minor": 2
}
