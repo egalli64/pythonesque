{
 "cells": [
  {
   "cell_type": "markdown",
   "metadata": {},
   "source": [
    "Question Everything: Scientific Thinking in Real Life\n",
    "    \n",
    "UQx: QUERY101x\n",
    "\n",
    "Module 1: Data and Measurement"
   ]
  },
  {
   "cell_type": "markdown",
   "metadata": {},
   "source": [
    "**Knowledge Checkpoint - What is speed**"
   ]
  },
  {
   "cell_type": "code",
   "execution_count": null,
   "metadata": {},
   "outputs": [],
   "source": [
    "# Speed Problem 1\n",
    "# If a car travels 200 metres in 4 seconds, what is its average speed?\n",
    "distance = 200\n",
    "time = 4\n",
    "speed = distance / 4\n",
    "speed"
   ]
  },
  {
   "cell_type": "code",
   "execution_count": null,
   "metadata": {},
   "outputs": [],
   "source": [
    "# Speed Problem 2\n",
    "# A sprinter can run at a speed of 8.5 m/s for 6 seconds. What distance will the sprinter cover in that time?\n",
    "speed = 8.5\n",
    "time = 6\n",
    "distance = speed * time\n",
    "distance"
   ]
  },
  {
   "cell_type": "markdown",
   "metadata": {},
   "source": [
    "A driver is taking a journey that consists of multiple parts\n",
    "\n",
    "- The driver starts out at 9:00 am and travels at 100 km/hr for 1.5 hours\n",
    "\n",
    "- He takes a rest stop for 15 minutes\n",
    "\n",
    "- He then resumes his journey travelling a distance of 250 km in 2 hours"
   ]
  },
  {
   "cell_type": "code",
   "execution_count": null,
   "metadata": {},
   "outputs": [],
   "source": [
    "# Speed Problem 3\n",
    "# What is the driver's total travel time (time in motion) for the journey?\n",
    "time_1 = 1.5\n",
    "time_pause = 1/4\n",
    "time_2 = 2\n",
    "\n",
    "total_travel_time = time_1 + time_2\n",
    "total_travel_time"
   ]
  },
  {
   "cell_type": "code",
   "execution_count": null,
   "metadata": {},
   "outputs": [],
   "source": [
    "# Speed Problem 4\n",
    "# What is the total distance travelled?\n",
    "speed_1 = 100\n",
    "distance_1 = speed_1 * time_1\n",
    "distance_2 = 250\n",
    "\n",
    "total_travelled_distance = distance_1 + distance_2\n",
    "total_travelled_distance"
   ]
  },
  {
   "cell_type": "code",
   "execution_count": null,
   "metadata": {},
   "outputs": [],
   "source": [
    "# Speed Problem 5\n",
    "# What is his average speed to the nearest integer for the entire journey (including rest time)?\n",
    "total_journey_time = total_travel_time + time_pause\n",
    "average_speed = total_travelled_distance / total_journey_time\n",
    "round(average_speed)"
   ]
  },
  {
   "cell_type": "markdown",
   "metadata": {},
   "source": [
    "**Converting Units**"
   ]
  },
  {
   "cell_type": "code",
   "execution_count": null,
   "metadata": {},
   "outputs": [],
   "source": [
    "# from m/sec to km/hr\n",
    "speed = 9.6 # m/s\n",
    "\n",
    "# m to km, sec to min, min to hr\n",
    "converted_speed = speed / 1000 * 60 * 60\n",
    "converted_speed"
   ]
  },
  {
   "cell_type": "code",
   "execution_count": null,
   "metadata": {},
   "outputs": [],
   "source": [
    "# from mile/hr to m/sec\n",
    "speed = 25\n",
    "\n",
    "# mile to feet, feet to meter, hour to sec\n",
    "converted_speed = speed * 5280 * .3050 / 3600\n",
    "converted_speed"
   ]
  },
  {
   "cell_type": "code",
   "execution_count": null,
   "metadata": {},
   "outputs": [],
   "source": [
    "# 1: convert 26 miles/hour to km/hr\n",
    "speed = 26\n",
    "converted_speed = speed * 1.61\n",
    "'{:.1f}'.format(converted_speed)"
   ]
  },
  {
   "cell_type": "code",
   "execution_count": null,
   "metadata": {},
   "outputs": [],
   "source": [
    "# 2: convert 55 miles/hour to m/sec\n",
    "speed = 55\n",
    "\n",
    "converted_speed = speed * 5280 * .3050 / 3600\n",
    "'{:.1f}'.format(converted_speed)"
   ]
  },
  {
   "cell_type": "code",
   "execution_count": null,
   "metadata": {},
   "outputs": [],
   "source": [
    "# 3: convert 3653.6 km to miles\n",
    "distance = 3653.6\n",
    "converted_distance = distance / 1.61\n",
    "'{:.1f}'.format(converted_distance)"
   ]
  },
  {
   "cell_type": "code",
   "execution_count": null,
   "metadata": {},
   "outputs": [],
   "source": [
    "# 4: marathon time is 2 hours and 57 min, which average speed in m/s?\n",
    "time = 177 * 60\n",
    "speed = 42_195 / time\n",
    "'{:.2f}'.format(speed)"
   ]
  },
  {
   "cell_type": "markdown",
   "metadata": {},
   "source": [
    "**Knowledge Checkpoint - Different measurements of speed**"
   ]
  },
  {
   "cell_type": "code",
   "execution_count": null,
   "metadata": {},
   "outputs": [],
   "source": [
    "# 1: in a given graph, what's the average speed during the first 0.7 of an hour?\n",
    "distance = 70\n",
    "time = .7\n",
    "speed = 70 / .7\n",
    "speed"
   ]
  },
  {
   "cell_type": "code",
   "execution_count": null,
   "metadata": {},
   "outputs": [],
   "source": [
    "# 2: instantaneous speed at t = 1 hour\n",
    "delta_d = 120 - 60\n",
    "delta_t = 1.4 - .4\n",
    "speed = delta_d / delta_t\n",
    "speed"
   ]
  },
  {
   "cell_type": "markdown",
   "metadata": {},
   "source": [
    "**Knowledge Checkpoint - What is a LiDAR**"
   ]
  },
  {
   "cell_type": "code",
   "execution_count": null,
   "metadata": {},
   "outputs": [],
   "source": [
    "# given positions and timestamps\n",
    "# fastest average speed of the car over this period?\n",
    "# average speed of the car over this period?\n",
    "positions = (510, 390, 240)\n",
    "timestamps = (2, 4, 6)\n",
    "\n",
    "speed_1 = (positions[0] - positions[1]) / (timestamps[1] - timestamps[0])\n",
    "speed_2 = (positions[1] - positions[2]) / (timestamps[2] - timestamps[1])\n",
    "speed = (positions[0] - positions[2]) / (timestamps[2] - timestamps[0])\n",
    "\n",
    "speed_1, speed_2, max(speed_1, speed_2), speed, (speed_1 + speed_2) / 2"
   ]
  }
 ],
 "metadata": {
  "kernelspec": {
   "display_name": "Python 3",
   "language": "python",
   "name": "python3"
  },
  "language_info": {
   "codemirror_mode": {
    "name": "ipython",
    "version": 3
   },
   "file_extension": ".py",
   "mimetype": "text/x-python",
   "name": "python",
   "nbconvert_exporter": "python",
   "pygments_lexer": "ipython3",
   "version": "3.6.4"
  }
 },
 "nbformat": 4,
 "nbformat_minor": 2
}
