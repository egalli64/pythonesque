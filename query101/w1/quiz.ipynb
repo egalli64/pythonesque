{
 "cells": [
  {
   "cell_type": "markdown",
   "metadata": {},
   "source": [
    "Question Everything: Scientific Thinking in Real Life\n",
    "    \n",
    "UQx: QUERY101x\n",
    "\n",
    "Module 1: Data and Measurement"
   ]
  },
  {
   "cell_type": "markdown",
   "metadata": {},
   "source": [
    "**Quiz**"
   ]
  },
  {
   "cell_type": "code",
   "execution_count": null,
   "metadata": {},
   "outputs": [],
   "source": [
    "# 1. A car travels 450km in 4 hours\n",
    "# Calculate the average speed of a car in km/hr. (Round answer to one decimal place)\n",
    "distance = 450\n",
    "time = 4\n",
    "\n",
    "'{:.1f}'.format(distance / time)"
   ]
  },
  {
   "cell_type": "code",
   "execution_count": null,
   "metadata": {},
   "outputs": [],
   "source": [
    "# 2. A car travels 450km in 4 hours.\n",
    "# If that journey included a 20 minute rest break,\n",
    "#  what is the average speed of the car when it was actually moving? (Round answer to the nearest whole number)\n",
    "distance = 450\n",
    "time = 4 - 1/3\n",
    "\n",
    "'{:.0f}'.format(distance / time)"
   ]
  },
  {
   "cell_type": "code",
   "execution_count": null,
   "metadata": {},
   "outputs": [],
   "source": [
    "# 6. Convert 72.4 miles per hour to metres per second. (Round your answer to one decimal place)\n",
    "speed = 72.4\n",
    "\n",
    "# mile to feet, feet to meter, hour to sec\n",
    "converted_speed = speed * 5280 * .3050 / 3600\n",
    "'{:.1f}'.format(converted_speed)"
   ]
  },
  {
   "cell_type": "code",
   "execution_count": null,
   "metadata": {},
   "outputs": [],
   "source": [
    "# Usain Bolt on 16th August 2009 100m in Berlin run time of 9.58s.\n",
    "split_times = [\n",
    "    1.89, .99, .90, .86, .83,\n",
    "    .82, .81, .82, .83, .83\n",
    "]"
   ]
  },
  {
   "cell_type": "code",
   "execution_count": null,
   "metadata": {},
   "outputs": [],
   "source": [
    "# 7. In which sector did Bolt run with the fastest average speed?\n",
    "fastest_sector_time = min(split_times)\n",
    "fastest_sector_index = split_times.index(fastest_sector_time)\n",
    "fastest_sector_index + 1, fastest_sector_time"
   ]
  },
  {
   "cell_type": "code",
   "execution_count": null,
   "metadata": {},
   "outputs": [],
   "source": [
    "# 8. Calculate his average speed for the first sector. (use two decimal places in answer)\n",
    "'{:.2f}'.format(10 / split_times[0])"
   ]
  }
 ],
 "metadata": {
  "kernelspec": {
   "display_name": "Python 3",
   "language": "python",
   "name": "python3"
  },
  "language_info": {
   "codemirror_mode": {
    "name": "ipython",
    "version": 3
   },
   "file_extension": ".py",
   "mimetype": "text/x-python",
   "name": "python",
   "nbconvert_exporter": "python",
   "pygments_lexer": "ipython3",
   "version": "3.6.4"
  }
 },
 "nbformat": 4,
 "nbformat_minor": 2
}
