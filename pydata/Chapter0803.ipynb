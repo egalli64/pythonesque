{
 "cells": [
  {
   "cell_type": "markdown",
   "metadata": {},
   "source": [
    "_My notebook on_\n",
    "# Python for Data Analysis - Wes McKinney\n",
    "## Chapter 8 - Data Wrangling: Join, Combine, and Reshape"
   ]
  },
  {
   "cell_type": "code",
   "execution_count": 1,
   "metadata": {},
   "outputs": [],
   "source": [
    "import numpy as np\n",
    "import pandas as pd"
   ]
  },
  {
   "cell_type": "markdown",
   "metadata": {},
   "source": [
    "## Part 3 - Reshaping and Pivoting"
   ]
  },
  {
   "cell_type": "code",
   "execution_count": 2,
   "metadata": {},
   "outputs": [
    {
     "data": {
      "text/html": [
       "<div>\n",
       "<style scoped>\n",
       "    .dataframe tbody tr th:only-of-type {\n",
       "        vertical-align: middle;\n",
       "    }\n",
       "\n",
       "    .dataframe tbody tr th {\n",
       "        vertical-align: top;\n",
       "    }\n",
       "\n",
       "    .dataframe thead th {\n",
       "        text-align: right;\n",
       "    }\n",
       "</style>\n",
       "<table border=\"1\" class=\"dataframe\">\n",
       "  <thead>\n",
       "    <tr style=\"text-align: right;\">\n",
       "      <th>number</th>\n",
       "      <th>one</th>\n",
       "      <th>two</th>\n",
       "      <th>three</th>\n",
       "    </tr>\n",
       "    <tr>\n",
       "      <th>state</th>\n",
       "      <th></th>\n",
       "      <th></th>\n",
       "      <th></th>\n",
       "    </tr>\n",
       "  </thead>\n",
       "  <tbody>\n",
       "    <tr>\n",
       "      <th>Ohio</th>\n",
       "      <td>0</td>\n",
       "      <td>1</td>\n",
       "      <td>2</td>\n",
       "    </tr>\n",
       "    <tr>\n",
       "      <th>Colorado</th>\n",
       "      <td>3</td>\n",
       "      <td>4</td>\n",
       "      <td>5</td>\n",
       "    </tr>\n",
       "  </tbody>\n",
       "</table>\n",
       "</div>"
      ],
      "text/plain": [
       "number    one  two  three\n",
       "state                    \n",
       "Ohio        0    1      2\n",
       "Colorado    3    4      5"
      ]
     },
     "execution_count": 2,
     "metadata": {},
     "output_type": "execute_result"
    }
   ],
   "source": [
    "data = pd.DataFrame(\n",
    "    data=np.arange(6).reshape((2, 3)),\n",
    "    index=pd.Index(['Ohio', 'Colorado'], name='state'),\n",
    "    columns=pd.Index(['one', 'two', 'three'], name='number'))\n",
    "data"
   ]
  },
  {
   "cell_type": "markdown",
   "metadata": {},
   "source": [
    "Reshaping with Hierarchical Indexing"
   ]
  },
  {
   "cell_type": "code",
   "execution_count": 3,
   "metadata": {},
   "outputs": [
    {
     "name": "stdout",
     "output_type": "stream",
     "text": [
      "state     number\n",
      "Ohio      one       0\n",
      "          two       1\n",
      "          three     2\n",
      "Colorado  one       3\n",
      "          two       4\n",
      "          three     5\n",
      "dtype: int32\n",
      "number    one  two  three\n",
      "state                    \n",
      "Ohio        0    1      2\n",
      "Colorado    3    4      5\n",
      "number    one  two  three\n",
      "state                    \n",
      "Ohio        0    1      2\n",
      "Colorado    3    4      5\n",
      "state   Ohio  Colorado\n",
      "number                \n",
      "one        0         3\n",
      "two        1         4\n",
      "three      2         5\n",
      "state   Ohio  Colorado\n",
      "number                \n",
      "one        0         3\n",
      "two        1         4\n",
      "three      2         5\n"
     ]
    }
   ],
   "source": [
    "# DataFrame.stack() to pivot from the columns in the data to the rows\n",
    "result = data.stack()\n",
    "print(result)\n",
    "\n",
    "# Series.unstack() from a hierarchically indexed Series to a DataFrame\n",
    "print(result.unstack())\n",
    "print(result.unstack('number'))\n",
    "print(result.unstack(0))\n",
    "print(result.unstack('state'))"
   ]
  },
  {
   "cell_type": "code",
   "execution_count": 4,
   "metadata": {},
   "outputs": [
    {
     "name": "stdout",
     "output_type": "stream",
     "text": [
      "one  a    0\n",
      "     b    1\n",
      "     c    2\n",
      "     d    3\n",
      "two  c    4\n",
      "     d    5\n",
      "     e    6\n",
      "dtype: int64\n",
      "       a    b    c    d    e\n",
      "one  0.0  1.0  2.0  3.0  NaN\n",
      "two  NaN  NaN  4.0  5.0  6.0\n",
      "one  a    0.0\n",
      "     b    1.0\n",
      "     c    2.0\n",
      "     d    3.0\n",
      "two  c    4.0\n",
      "     d    5.0\n",
      "     e    6.0\n",
      "dtype: float64\n",
      "one  a    0.0\n",
      "     b    1.0\n",
      "     c    2.0\n",
      "     d    3.0\n",
      "     e    NaN\n",
      "two  a    NaN\n",
      "     b    NaN\n",
      "     c    4.0\n",
      "     d    5.0\n",
      "     e    6.0\n",
      "dtype: float64\n"
     ]
    }
   ],
   "source": [
    "s1 = pd.Series([0, 1, 2, 3], index=['a', 'b', 'c', 'd'])\n",
    "s2 = pd.Series([4, 5, 6], index=['c', 'd', 'e'])\n",
    "data2 = pd.concat([s1, s2], keys=['one', 'two'])\n",
    "\n",
    "print(data2)\n",
    "# unstacking could introduce missing values\n",
    "df = data2.unstack()\n",
    "print(df)\n",
    "\n",
    "# by default stacking filters out missing values\n",
    "print(df.stack())\n",
    "print(df.stack(dropna=False))"
   ]
  },
  {
   "cell_type": "code",
   "execution_count": 5,
   "metadata": {},
   "outputs": [
    {
     "name": "stdout",
     "output_type": "stream",
     "text": [
      "side             left  right\n",
      "state    number             \n",
      "Ohio     one        0      5\n",
      "         two        1      6\n",
      "         three      2      7\n",
      "Colorado one        3      8\n",
      "         two        4      9\n",
      "         three      5     10\n",
      "\n",
      "-- unstack state\n",
      "side   left          right         \n",
      "state  Ohio Colorado  Ohio Colorado\n",
      "number                             \n",
      "one       0        3     5        8\n",
      "two       1        4     6        9\n",
      "three     2        5     7       10\n",
      "-- unstack number\n",
      "side     left           right          \n",
      "number    one two three   one two three\n",
      "state                                  \n",
      "Ohio        0   1     2     5   6     7\n",
      "Colorado    3   4     5     8   9    10\n",
      "\n",
      "-- stack side\n",
      "state         Colorado  Ohio\n",
      "number side                 \n",
      "one    left          3     0\n",
      "       right         8     5\n",
      "two    left          4     1\n",
      "       right         9     6\n",
      "three  left          5     2\n",
      "       right        10     7\n",
      "-- stack state\n",
      "side             left  right\n",
      "number state                \n",
      "one    Ohio         0      5\n",
      "       Colorado     3      8\n",
      "two    Ohio         1      6\n",
      "       Colorado     4      9\n",
      "three  Ohio         2      7\n",
      "       Colorado     5     10\n"
     ]
    }
   ],
   "source": [
    "# unstack on DataFrame\n",
    "\n",
    "df = pd.DataFrame(\n",
    "    data={'left': result, 'right': result + 5},\n",
    "    columns=pd.Index(['left', 'right'], name='side'))\n",
    "\n",
    "print(df)\n",
    "\n",
    "# the level unstacked becomes the lowest level in the result\n",
    "print('\\n-- unstack state')\n",
    "side_state = df.unstack('state')\n",
    "print(side_state)\n",
    "print('-- unstack number')\n",
    "print(df.unstack('number'))\n",
    "\n",
    "# stack specifying the axis\n",
    "print('\\n-- stack side')\n",
    "print(side_state.stack('side'))\n",
    "print('-- stack state')\n",
    "print(side_state.stack('state'))"
   ]
  },
  {
   "cell_type": "markdown",
   "metadata": {},
   "source": [
    "Pivoting “Long” to “Wide” Format"
   ]
  },
  {
   "cell_type": "code",
   "execution_count": 6,
   "metadata": {},
   "outputs": [
    {
     "name": "stdout",
     "output_type": "stream",
     "text": [
      "     year  quarter   realgdp  realcons  realinv  realgovt  realdpi    cpi  \\\n",
      "0  1959.0      1.0  2710.349    1707.4  286.898   470.045   1886.9  28.98   \n",
      "\n",
      "      m1  tbilrate  unemp      pop  infl  realint  \n",
      "0  139.7      2.82    5.8  177.146   0.0      0.0  \n",
      "\n",
      "-- long format for multiple time series\n",
      "        date     item     value\n",
      "0 1959-03-31  realgdp  2710.349\n",
      "1 1959-03-31     infl     0.000\n",
      "2 1959-03-31    unemp     5.800\n",
      "3 1959-06-30  realgdp  2778.801\n",
      "4 1959-06-30     infl     2.340\n",
      "\n",
      "-- one column per distinct item by pivoting\n",
      "item        infl   realgdp  unemp\n",
      "date                             \n",
      "1959-03-31  0.00  2710.349    5.8\n",
      "1959-06-30  2.34  2778.801    5.1\n",
      "1959-09-30  2.74  2775.488    5.3\n",
      "1959-12-31  0.27  2785.204    5.6\n",
      "1960-03-31  2.31  2847.699    5.2\n"
     ]
    }
   ],
   "source": [
    "data = pd.read_csv('examples/macrodata.csv')\n",
    "print(data.head(1))\n",
    "\n",
    "periods = pd.PeriodIndex(year=data.year, quarter=data.quarter, name='date')\n",
    "columns = pd.Index(['realgdp', 'infl', 'unemp'], name='item')\n",
    "data = data.reindex(columns=columns)\n",
    "data.index = periods.to_timestamp('D', 'end')\n",
    "ldata = data.stack().reset_index().rename(columns={0: 'value'})\n",
    "\n",
    "print('\\n-- long format for multiple time series')\n",
    "print(ldata[:5])\n",
    "\n",
    "print('\\n-- one column per distinct item by pivoting')\n",
    "pivoted = ldata.pivot('date', 'item', 'value')\n",
    "print(pivoted.head())"
   ]
  },
  {
   "cell_type": "code",
   "execution_count": 7,
   "metadata": {},
   "outputs": [
    {
     "name": "stdout",
     "output_type": "stream",
     "text": [
      "        date     item     value    value2\n",
      "0 1959-03-31  realgdp  2710.349  0.010247\n",
      "1 1959-03-31     infl     0.000  1.481080\n",
      "2 1959-03-31    unemp     5.800  0.050346\n",
      "3 1959-06-30  realgdp  2778.801  0.524681\n",
      "4 1959-06-30     infl     2.340  0.317856\n",
      "           value                    value2                    \n",
      "item        infl   realgdp unemp      infl   realgdp     unemp\n",
      "date                                                          \n",
      "1959-03-31  0.00  2710.349   5.8  1.481080  0.010247  0.050346\n",
      "1959-06-30  2.34  2778.801   5.1  0.317856  0.524681  1.344840\n",
      "1959-09-30  2.74  2775.488   5.3 -0.368734  1.758701  0.237833\n",
      "1959-12-31  0.27  2785.204   5.6  1.372007  0.808043 -0.213937\n",
      "1960-03-31  2.31  2847.699   5.2 -0.267593 -0.588876 -0.151791\n",
      "item        infl   realgdp  unemp\n",
      "date                             \n",
      "1959-03-31  0.00  2710.349    5.8\n",
      "1959-06-30  2.34  2778.801    5.1\n",
      "1959-09-30  2.74  2775.488    5.3\n",
      "1959-12-31  0.27  2785.204    5.6\n",
      "1960-03-31  2.31  2847.699    5.2\n",
      "item            infl   realgdp     unemp\n",
      "date                                    \n",
      "1959-03-31  1.481080  0.010247  0.050346\n",
      "1959-06-30  0.317856  0.524681  1.344840\n",
      "1959-09-30 -0.368734  1.758701  0.237833\n",
      "1959-12-31  1.372007  0.808043 -0.213937\n",
      "1960-03-31 -0.267593 -0.588876 -0.151791\n",
      "\n",
      "-- pivot() == set_index() then unstack()\n",
      "           value                    value2                    \n",
      "item        infl   realgdp unemp      infl   realgdp     unemp\n",
      "date                                                          \n",
      "1959-03-31  0.00  2710.349   5.8  1.481080  0.010247  0.050346\n",
      "1959-06-30  2.34  2778.801   5.1  0.317856  0.524681  1.344840\n",
      "1959-09-30  2.74  2775.488   5.3 -0.368734  1.758701  0.237833\n",
      "1959-12-31  0.27  2785.204   5.6  1.372007  0.808043 -0.213937\n",
      "1960-03-31  2.31  2847.699   5.2 -0.267593 -0.588876 -0.151791\n"
     ]
    }
   ],
   "source": [
    "# if interested in two values ...\n",
    "ldata['value2'] = np.random.randn(len(ldata))\n",
    "print(ldata.head())\n",
    "\n",
    "# DataFrame with hierarchical columns\n",
    "pivoted = ldata.pivot('date', 'item')\n",
    "print(pivoted.head())\n",
    "\n",
    "print(pivoted['value'][:5])\n",
    "print(pivoted['value2'][:5])\n",
    "\n",
    "# pivot() explained\n",
    "print('\\n-- pivot() == set_index() then unstack()')\n",
    "unstacked = ldata.set_index(['date', 'item']).unstack('item')\n",
    "print(unstacked.head())"
   ]
  },
  {
   "cell_type": "markdown",
   "metadata": {},
   "source": [
    "Pivoting “Wide” to “Long” Format"
   ]
  },
  {
   "cell_type": "code",
   "execution_count": 11,
   "metadata": {},
   "outputs": [
    {
     "name": "stdout",
     "output_type": "stream",
     "text": [
      "   A  B  C  key\n",
      "0  1  4  7  foo\n",
      "1  2  5  8  bar\n",
      "2  3  6  9  baz\n",
      "\n",
      "-- melted\n",
      "   key variable  value\n",
      "0  foo        A      1\n",
      "1  bar        A      2\n",
      "2  baz        A      3\n",
      "3  foo        B      4\n",
      "4  bar        B      5\n",
      "5  baz        B      6\n",
      "6  foo        C      7\n",
      "7  bar        C      8\n",
      "8  baz        C      9\n",
      "\n",
      "-- pivot it back to original\n",
      "variable  A  B  C\n",
      "key              \n",
      "bar       2  5  8\n",
      "baz       3  6  9\n",
      "foo       1  4  7\n",
      "-- reset index\n",
      "variable  key  A  B  C\n",
      "0         bar  2  5  8\n",
      "1         baz  3  6  9\n",
      "2         foo  1  4  7\n",
      "\n",
      "partial melting on key for only A and B\n",
      "   key variable  value\n",
      "0  foo        A      1\n",
      "1  bar        A      2\n",
      "2  baz        A      3\n",
      "3  foo        B      4\n",
      "4  bar        B      5\n",
      "5  baz        B      6\n",
      "\n",
      "pandas.melt() w/o group identifiers\n",
      "  variable  value\n",
      "0        A      1\n",
      "1        A      2\n",
      "2        A      3\n",
      "3        B      4\n",
      "4        B      5\n",
      "5        B      6\n",
      "6        C      7\n",
      "7        C      8\n",
      "8        C      9\n",
      "  variable value\n",
      "0      key   foo\n",
      "1      key   bar\n",
      "2      key   baz\n",
      "3        A     1\n",
      "4        A     2\n",
      "5        A     3\n",
      "6        B     4\n",
      "7        B     5\n",
      "8        B     6\n"
     ]
    }
   ],
   "source": [
    "# pd.melt() vs df.pivot()\n",
    "\n",
    "df = pd.DataFrame({\n",
    "    'key': ['foo', 'bar', 'baz'],\n",
    "    'A': [1, 2, 3],\n",
    "    'B': [4, 5, 6],\n",
    "    'C': [7, 8, 9]})\n",
    "print(df)\n",
    "\n",
    "melted = pd.melt(df, ['key'])\n",
    "print('\\n-- melted')\n",
    "print(melted)\n",
    "\n",
    "reshaped = melted.pivot('key', 'variable', 'value')\n",
    "print('\\n-- pivot it back to original')\n",
    "print(reshaped)\n",
    "\n",
    "print('-- reset index')\n",
    "print(reshaped.reset_index())\n",
    "\n",
    "print('\\npartial melting on key for only A and B')\n",
    "print(pd.melt(df, id_vars=['key'], value_vars=['A', 'B']))\n",
    "\n",
    "print('\\npandas.melt() w/o group identifiers')\n",
    "print(pd.melt(df, value_vars=['A', 'B', 'C']))\n",
    "print(pd.melt(df, value_vars=['key', 'A', 'B']))"
   ]
  }
 ],
 "metadata": {
  "kernelspec": {
   "display_name": "Python 3",
   "language": "python",
   "name": "python3"
  },
  "language_info": {
   "codemirror_mode": {
    "name": "ipython",
    "version": 3
   },
   "file_extension": ".py",
   "mimetype": "text/x-python",
   "name": "python",
   "nbconvert_exporter": "python",
   "pygments_lexer": "ipython3",
   "version": "3.6.4"
  }
 },
 "nbformat": 4,
 "nbformat_minor": 2
}
