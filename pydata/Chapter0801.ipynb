{
 "cells": [
  {
   "cell_type": "markdown",
   "metadata": {},
   "source": [
    "_My notebook on_\n",
    "# Python for Data Analysis - Wes McKinney\n",
    "## Chapter 8 - Data Wrangling: Join, Combine, and Reshape"
   ]
  },
  {
   "cell_type": "code",
   "execution_count": 1,
   "metadata": {},
   "outputs": [],
   "source": [
    "import numpy as np\n",
    "import pandas as pd"
   ]
  },
  {
   "cell_type": "markdown",
   "metadata": {},
   "source": [
    "### Part 1 - Hierarchical Indexing"
   ]
  },
  {
   "cell_type": "code",
   "execution_count": 2,
   "metadata": {},
   "outputs": [
    {
     "name": "stdout",
     "output_type": "stream",
     "text": [
      "a  1    0.088328\n",
      "   2    1.009396\n",
      "   3    0.850139\n",
      "b  1   -0.793838\n",
      "   3   -1.807616\n",
      "c  1   -0.824256\n",
      "   2   -0.082491\n",
      "d  2    1.097085\n",
      "   3   -0.067977\n",
      "dtype: float64\n",
      "MultiIndex(levels=[['a', 'b', 'c', 'd'], [1, 2, 3]],\n",
      "           labels=[[0, 0, 0, 1, 1, 2, 2, 3, 3], [0, 1, 2, 0, 2, 0, 1, 1, 2]])\n"
     ]
    }
   ],
   "source": [
    "# two-level index\n",
    "data = pd.Series(\n",
    "    np.random.randn(9),\n",
    "    index=[\n",
    "        ['a', 'a', 'a', 'b', 'b', 'c', 'c', 'd', 'd'],\n",
    "        [1, 2, 3, 1, 3, 1, 2, 2, 3]]\n",
    ")\n",
    "\n",
    "print(data)\n",
    "print(data.index)"
   ]
  },
  {
   "cell_type": "code",
   "execution_count": 3,
   "metadata": {},
   "outputs": [
    {
     "name": "stdout",
     "output_type": "stream",
     "text": [
      "1   -0.793838\n",
      "3   -1.807616\n",
      "dtype: float64\n",
      "b  1   -0.793838\n",
      "   3   -1.807616\n",
      "c  1   -0.824256\n",
      "   2   -0.082491\n",
      "dtype: float64\n",
      "b  1   -0.793838\n",
      "   3   -1.807616\n",
      "dtype: float64\n",
      "b  1   -0.793838\n",
      "   3   -1.807616\n",
      "d  2    1.097085\n",
      "   3   -0.067977\n",
      "dtype: float64\n",
      "\"2\" elements from all the first index components\n",
      "a    1.009396\n",
      "c   -0.082491\n",
      "d    1.097085\n",
      "dtype: float64\n"
     ]
    }
   ],
   "source": [
    "# partial indexing\n",
    "\n",
    "# implicit loc\n",
    "print(data['b'])\n",
    "print(data['b':'c'])\n",
    "\n",
    "# explicit loc\n",
    "print(data.loc[['b']])\n",
    "print(data.loc[['b', 'd']])\n",
    "\n",
    "# inner level selection\n",
    "print('\"2\" elements from all the first index components')\n",
    "print(data.loc[:, 2])"
   ]
  },
  {
   "cell_type": "code",
   "execution_count": 4,
   "metadata": {},
   "outputs": [
    {
     "name": "stdout",
     "output_type": "stream",
     "text": [
      "          1         2         3\n",
      "a  0.088328  1.009396  0.850139\n",
      "b -0.793838       NaN -1.807616\n",
      "c -0.824256 -0.082491       NaN\n",
      "d       NaN  1.097085 -0.067977\n",
      "--\n",
      "a  1    0.088328\n",
      "   2    1.009396\n",
      "   3    0.850139\n",
      "b  1   -0.793838\n",
      "   3   -1.807616\n",
      "c  1   -0.824256\n",
      "   2   -0.082491\n",
      "d  2    1.097085\n",
      "   3   -0.067977\n",
      "dtype: float64\n"
     ]
    }
   ],
   "source": [
    "# unstack a Series to a DataFrame\n",
    "df = data.unstack()\n",
    "print(df)\n",
    "print('--')\n",
    "\n",
    "# a DataFrame could be stacked to a Series w/ multi level index\n",
    "print(df.stack())"
   ]
  },
  {
   "cell_type": "code",
   "execution_count": 14,
   "metadata": {},
   "outputs": [
    {
     "name": "stdout",
     "output_type": "stream",
     "text": [
      "     Ohio     Colorado\n",
      "    Green Red    Green\n",
      "a 1     0   1        2\n",
      "  2     3   4        5\n",
      "b 1     6   7        8\n",
      "  2     9  10       11\n",
      "--\n",
      "state      Ohio     Colorado\n",
      "color     Green Red    Green\n",
      "key1 key2                   \n",
      "a    1        0   1        2\n",
      "     2        3   4        5\n",
      "b    1        6   7        8\n",
      "     2        9  10       11\n",
      "--\n",
      "color      Green  Red\n",
      "key1 key2            \n",
      "a    1         0    1\n",
      "     2         3    4\n",
      "b    1         6    7\n",
      "     2         9   10\n"
     ]
    }
   ],
   "source": [
    "# either axis in a data fram can have a hierarchical index\n",
    "frame = pd.DataFrame(\n",
    "    np.arange(12).reshape((4, 3)),\n",
    "    index=[['a', 'a', 'b', 'b'], [1, 2, 1, 2]],\n",
    "    columns=[['Ohio', 'Ohio', 'Colorado'], ['Green', 'Red', 'Green']])\n",
    "print(frame)\n",
    "print('--')\n",
    "\n",
    "# hierarchical levels can have names\n",
    "frame.index.names = ['key1', 'key2']\n",
    "frame.columns.names = ['state', 'color']\n",
    "\n",
    "print(frame)\n",
    "print('--')\n",
    "\n",
    "# partial column indexing\n",
    "print(frame['Ohio'])"
   ]
  },
  {
   "cell_type": "markdown",
   "metadata": {},
   "source": [
    "Reordering and Sorting Levels"
   ]
  },
  {
   "cell_type": "code",
   "execution_count": 25,
   "metadata": {},
   "outputs": [
    {
     "name": "stdout",
     "output_type": "stream",
     "text": [
      "state      Ohio     Colorado\n",
      "color     Green Red    Green\n",
      "key2 key1                   \n",
      "1    a        0   1        2\n",
      "2    a        3   4        5\n",
      "1    b        6   7        8\n",
      "2    b        9  10       11\n",
      "--\n",
      "state      Ohio     Colorado\n",
      "color     Green Red    Green\n",
      "key1 key2                   \n",
      "a    1        0   1        2\n",
      "b    1        6   7        8\n",
      "a    2        3   4        5\n",
      "b    2        9  10       11\n",
      "--\n",
      "state      Ohio     Colorado\n",
      "color     Green Red    Green\n",
      "key2 key1                   \n",
      "1    a        0   1        2\n",
      "     b        6   7        8\n",
      "2    a        3   4        5\n",
      "     b        9  10       11\n"
     ]
    }
   ],
   "source": [
    "# swap multi index levels, data stay the same\n",
    "print(frame.swaplevel('key1', 'key2'))\n",
    "print('--')\n",
    "\n",
    "# sort index on a passed level\n",
    "print(frame.sort_index(level=1))\n",
    "print('--')\n",
    "\n",
    "# combined swap and sort of level\n",
    "print(frame.swaplevel(0, 1).sort_index()) # by default, sort_index level is zero"
   ]
  },
  {
   "cell_type": "markdown",
   "metadata": {},
   "source": [
    "Summary Statistics by Level"
   ]
  },
  {
   "cell_type": "code",
   "execution_count": 32,
   "metadata": {},
   "outputs": [
    {
     "name": "stdout",
     "output_type": "stream",
     "text": [
      "state      Ohio     Colorado\n",
      "color     Green Red    Green\n",
      "key1 key2                   \n",
      "a    1        0   1        2\n",
      "     2        3   4        5\n",
      "b    1        6   7        8\n",
      "     2        9  10       11\n",
      "-- aggregating on key2\n",
      "state  Ohio     Colorado\n",
      "color Green Red    Green\n",
      "key2                    \n",
      "1         6   8       10\n",
      "2        12  14       16\n",
      "-- aggregating on axis 1 by color\n",
      "state  Ohio     Colorado\n",
      "color Green Red    Green\n",
      "key2                    \n",
      "1         6   8       10\n",
      "2        12  14       16\n"
     ]
    }
   ],
   "source": [
    "print(frame)\n",
    "print('-- aggregating on key2')\n",
    "print(frame.sum(level='key2'))  # by default axis is zero\n",
    "print('-- aggregating on axis 1 by color')\n",
    "print(frame.sum(level='color', axis=1))"
   ]
  },
  {
   "cell_type": "markdown",
   "metadata": {},
   "source": [
    "Indexing with a DataFrame’s columns"
   ]
  },
  {
   "cell_type": "code",
   "execution_count": 45,
   "metadata": {},
   "outputs": [
    {
     "name": "stdout",
     "output_type": "stream",
     "text": [
      "   a  b    c  d\n",
      "0  0  7  one  0\n",
      "1  1  6  one  1\n",
      "2  2  5  one  2\n",
      "3  3  4  two  0\n",
      "4  4  3  two  1\n",
      "5  5  2  two  2\n",
      "6  6  1  two  3\n",
      "--\n",
      "       a  b\n",
      "c   d      \n",
      "one 0  0  7\n",
      "    1  1  6\n",
      "    2  2  5\n",
      "two 0  3  4\n",
      "    1  4  3\n",
      "    2  5  2\n",
      "    3  6  1\n",
      "--\n",
      "       a  b    c  d\n",
      "c   d              \n",
      "one 0  0  7  one  0\n",
      "    1  1  6  one  1\n",
      "    2  2  5  one  2\n",
      "two 0  3  4  two  0\n",
      "    1  4  3  two  1\n",
      "    2  5  2  two  2\n",
      "    3  6  1  two  3\n",
      "--\n",
      "     c  d  a  b\n",
      "0  one  0  0  7\n",
      "1  one  1  1  6\n",
      "2  one  2  2  5\n",
      "3  two  0  3  4\n",
      "4  two  1  4  3\n",
      "5  two  2  5  2\n",
      "6  two  3  6  1\n"
     ]
    }
   ],
   "source": [
    "frame = pd.DataFrame({\n",
    "    'a': range(7),\n",
    "    'b': range(7, 0, -1),\n",
    "    'c': ['one', 'one', 'one', 'two', 'two', 'two', 'two'],\n",
    "    'd': [0, 1, 2, 0, 1, 2, 3]})\n",
    "\n",
    "print(frame)\n",
    "print('--')\n",
    "\n",
    "# set_index() to use column(s) as DF index\n",
    "frame2 = frame.set_index(['c', 'd'])\n",
    "print(frame2)\n",
    "print('--')\n",
    "\n",
    "# by default, removes the columns, but we can keep them in\n",
    "print(frame.set_index(['c', 'd'], drop=False))\n",
    "print('--')\n",
    "\n",
    "# move back index to data\n",
    "print(frame2.reset_index())"
   ]
  }
 ],
 "metadata": {
  "kernelspec": {
   "display_name": "Python 3",
   "language": "python",
   "name": "python3"
  },
  "language_info": {
   "codemirror_mode": {
    "name": "ipython",
    "version": 3
   },
   "file_extension": ".py",
   "mimetype": "text/x-python",
   "name": "python",
   "nbconvert_exporter": "python",
   "pygments_lexer": "ipython3",
   "version": "3.6.4"
  }
 },
 "nbformat": 4,
 "nbformat_minor": 2
}
