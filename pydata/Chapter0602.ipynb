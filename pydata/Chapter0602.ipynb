{
 "cells": [
  {
   "cell_type": "markdown",
   "metadata": {},
   "source": [
    "_My notebook on_\n",
    "# Python for Data Analysis - Wes McKinney\n",
    "## Chapter 6 - Data Loading, Storage, and File Formats"
   ]
  },
  {
   "cell_type": "code",
   "execution_count": 1,
   "metadata": {},
   "outputs": [],
   "source": [
    "import pandas as pd\n",
    "import numpy as np"
   ]
  },
  {
   "cell_type": "markdown",
   "metadata": {},
   "source": [
    "### Part 2 - Binary Data Formats"
   ]
  },
  {
   "cell_type": "code",
   "execution_count": 2,
   "metadata": {},
   "outputs": [
    {
     "name": "stdout",
     "output_type": "stream",
     "text": [
      "   a   b   c   d message\n",
      "0  1   2   3   4   hello\n",
      "1  5   6   7   8   world\n",
      "2  9  10  11  12     foo\n",
      "---\n",
      "   a   b   c   d message\n",
      "0  1   2   3   4   hello\n",
      "1  5   6   7   8   world\n",
      "2  9  10  11  12     foo\n"
     ]
    }
   ],
   "source": [
    "# serializing a dataframe as pickle\n",
    "df = pd.read_csv('examples/ex1.csv')\n",
    "print(df)\n",
    "df.to_pickle('examples/ex1.pkl')\n",
    "\n",
    "# picking up a pickle\n",
    "print('---')\n",
    "pickle = pd.read_pickle('examples/ex1.pkl')\n",
    "print(pickle)"
   ]
  },
  {
   "cell_type": "markdown",
   "metadata": {},
   "source": [
    "Using HDF5 Format"
   ]
  },
  {
   "cell_type": "code",
   "execution_count": 3,
   "metadata": {},
   "outputs": [
    {
     "name": "stdout",
     "output_type": "stream",
     "text": [
      "First element in df: -1.8291186965230715\n",
      "First element in stored df: -1.8291186965230715\n",
      "First element in stored df2: -1.8291186965230715\n"
     ]
    }
   ],
   "source": [
    "df = pd.DataFrame({'a': np.random.randn(100)})\n",
    "print('First element in df:', df.loc[0][0])\n",
    "store = pd.HDFStore('examples/mydata.h5')\n",
    "store['obj1'] = df\n",
    "store['obj1_col'] = df['a']\n",
    "print('First element in stored df:', store['obj1'].loc[0][0])\n",
    "# print('First element in stored series:', store['obj1_col'][0])\n",
    "store.close()\n",
    "\n",
    "# read hdf\n",
    "df2 = pd.read_hdf('examples/mydata.h5', 'obj1')\n",
    "print('First element in stored df2:', df2.loc[0][0])"
   ]
  },
  {
   "cell_type": "markdown",
   "metadata": {},
   "source": [
    "Reading Microsoft Excel Files"
   ]
  },
  {
   "cell_type": "code",
   "execution_count": 4,
   "metadata": {},
   "outputs": [
    {
     "name": "stdout",
     "output_type": "stream",
     "text": [
      "   a   b   c   d message\n",
      "0  1   2   3   4   hello\n",
      "1  5   6   7   8   world\n",
      "2  9  10  11  12     foo\n",
      "---\n",
      "   a   b   c   d message\n",
      "0  1   2   3   4   hello\n",
      "1  5   6   7   8   world\n",
      "2  9  10  11  12     foo\n"
     ]
    }
   ],
   "source": [
    "xlsx = pd.ExcelFile('examples/ex1.xlsx')\n",
    "df = pd.read_excel(xlsx, 'Sheet1')\n",
    "print(df)\n",
    "print('---')\n",
    "print(pd.read_excel('examples/ex1.xlsx', 'Sheet1'))"
   ]
  },
  {
   "cell_type": "markdown",
   "metadata": {},
   "source": [
    "### Part 3 - Interacting with Web APIs"
   ]
  },
  {
   "cell_type": "code",
   "execution_count": 5,
   "metadata": {},
   "outputs": [
    {
     "name": "stdout",
     "output_type": "stream",
     "text": [
      "BUG to_clipboard passes the wrong sep to to_csv\n",
      "    number                                              title  \\\n",
      "0    21398    BUG to_clipboard passes the wrong sep to to_csv   \n",
      "1    21397  DOC: Adding missing dependency sphinxcontrib-s...   \n",
      "2    21396      Missing dependency for sphinxcontrib-spelling   \n",
      "3    21394                 Bugfix timedelta notimplemented eq   \n",
      "4    21393  TST: adding test cases for verifying correct v...   \n",
      "5    21391  Error when unpickling subclass of pandas.DataF...   \n",
      "6    21390  groupby on 2 categorical columns, when one cat...   \n",
      "7    21389                    Release 0.23.1 backports part I   \n",
      "8    21386  regression: bar plot with multi-column categor...   \n",
      "9    21385  to_clipboard undocumentedly changed from using...   \n",
      "10   21384  Accepts integer/float string with units and ra...   \n",
      "11   21383     Overflow in to_datetime when using nanoseconds   \n",
      "12   21381  TST : Adding new test case for pivot_table() w...   \n",
      "13   21380  pandas 0.23 broke unary negative expression on...   \n",
      "14   21379  read_html - how to prevent the conversion of n...   \n",
      "15   21378       BUG: Incorrect values shown by pivot_table()   \n",
      "16   21377   MAINT: More friendly error msg on Index overflow   \n",
      "17   21376                                   DOC: Pandas Logo   \n",
      "18   21374  pd.eval() discards imaginary part in division \"/\"   \n",
      "19   21373     ENH: use interface library for ExtensionArrays   \n",
      "20   21372                Improve HDFStore.groups performance   \n",
      "21   21370  TST: add additional test cases for pivot_table...   \n",
      "22   21369         PERF: Add __contains__ to CategoricalIndex   \n",
      "23   21365  Fix Issue #21336: Defeault behavior for resolu...   \n",
      "24   21364      pandas read_sql missing dtype on empty result   \n",
      "25   21360            Unhandled pandas FutureWarning in tests   \n",
      "26   21359  Revert changes to comparison between Series[da...   \n",
      "27   21358  ENH: Allow DatetimeIndex.time to return timezo...   \n",
      "28   21357  ENH: adding .unique() to DF (or return_inverse...   \n",
      "29   21354                  CI: Enable spellcheck in docbuild   \n",
      "\n",
      "                                               labels state  \n",
      "0   [{'id': 32815646, 'node_id': 'MDU6TGFiZWwzMjgx...  open  \n",
      "1   [{'id': 76811, 'node_id': 'MDU6TGFiZWw3NjgxMQ=...  open  \n",
      "2   [{'id': 76811, 'node_id': 'MDU6TGFiZWw3NjgxMQ=...  open  \n",
      "3   [{'id': 76811, 'node_id': 'MDU6TGFiZWw3NjgxMQ=...  open  \n",
      "4   [{'id': 78527356, 'node_id': 'MDU6TGFiZWw3ODUy...  open  \n",
      "5   [{'id': 2301354, 'node_id': 'MDU6TGFiZWwyMzAxM...  open  \n",
      "6   [{'id': 78527356, 'node_id': 'MDU6TGFiZWw3ODUy...  open  \n",
      "7   [{'id': 131473665, 'node_id': 'MDU6TGFiZWwxMzE...  open  \n",
      "8   [{'id': 32815646, 'node_id': 'MDU6TGFiZWwzMjgx...  open  \n",
      "9   [{'id': 32815646, 'node_id': 'MDU6TGFiZWwzMjgx...  open  \n",
      "10  [{'id': 76811, 'node_id': 'MDU6TGFiZWw3NjgxMQ=...  open  \n",
      "11  [{'id': 35818298, 'node_id': 'MDU6TGFiZWwzNTgx...  open  \n",
      "12  [{'id': 78527356, 'node_id': 'MDU6TGFiZWw3ODUy...  open  \n",
      "13  [{'id': 31404521, 'node_id': 'MDU6TGFiZWwzMTQw...  open  \n",
      "14  [{'id': 31404521, 'node_id': 'MDU6TGFiZWwzMTQw...  open  \n",
      "15  [{'id': 78527356, 'node_id': 'MDU6TGFiZWw3ODUy...  open  \n",
      "16  [{'id': 31404521, 'node_id': 'MDU6TGFiZWwzMTQw...  open  \n",
      "17  [{'id': 134699, 'node_id': 'MDU6TGFiZWwxMzQ2OT...  open  \n",
      "18  [{'id': 57296398, 'node_id': 'MDU6TGFiZWw1NzI5...  open  \n",
      "19  [{'id': 76812, 'node_id': 'MDU6TGFiZWw3NjgxMg=...  open  \n",
      "20  [{'id': 47229190, 'node_id': 'MDU6TGFiZWw0NzIy...  open  \n",
      "21  [{'id': 127685, 'node_id': 'MDU6TGFiZWwxMjc2OD...  open  \n",
      "22  [{'id': 78527356, 'node_id': 'MDU6TGFiZWw3ODUy...  open  \n",
      "23  [{'id': 211840, 'node_id': 'MDU6TGFiZWwyMTE4ND...  open  \n",
      "24  [{'id': 31404521, 'node_id': 'MDU6TGFiZWwzMTQw...  open  \n",
      "25  [{'id': 48070600, 'node_id': 'MDU6TGFiZWw0ODA3...  open  \n",
      "26  [{'id': 47223669, 'node_id': 'MDU6TGFiZWw0NzIy...  open  \n",
      "27  [{'id': 76812, 'node_id': 'MDU6TGFiZWw3NjgxMg=...  open  \n",
      "28  [{'id': 76812, 'node_id': 'MDU6TGFiZWw3NjgxMg=...  open  \n",
      "29  [{'id': 134699, 'node_id': 'MDU6TGFiZWwxMzQ2OT...  open  \n"
     ]
    }
   ],
   "source": [
    "import requests\n",
    "url = 'https://api.github.com/repos/pandas-dev/pandas/issues'\n",
    "try:\n",
    "    response = requests.get(url)\n",
    "    data = response.json()\n",
    "    print(data[0]['title'])\n",
    "    \n",
    "    issues = pd.DataFrame(data, columns=['number', 'title', 'labels', 'state'])\n",
    "    print(issues)\n",
    "except requests.exceptions.ConnectionError as ce:\n",
    "    print(ce)\n"
   ]
  },
  {
   "cell_type": "markdown",
   "metadata": {},
   "source": [
    "### Part 4 - Interacting with Databases"
   ]
  },
  {
   "cell_type": "code",
   "execution_count": 7,
   "metadata": {},
   "outputs": [],
   "source": [
    "import sqlite3\n",
    "query = 'DROP TABLE test;'\n",
    "con = sqlite3.connect('mydata.sqlite')\n",
    "con.execute(query)\n",
    "con.commit()\n",
    "\n",
    "query = 'CREATE TABLE test(a VARCHAR(20), b VARCHAR(20), c REAL, d INTEGER);'\n",
    "con = sqlite3.connect('mydata.sqlite')\n",
    "con.execute(query)\n",
    "con.commit()\n",
    "\n",
    "\n",
    "data = [\n",
    "    ('Atlanta', 'Georgia', 1.25, 6),\n",
    "    ('Tallahassee', 'Florida', 2.6, 3),\n",
    "    ('Sacramento', 'California', 1.7, 5)\n",
    "]\n",
    "\n",
    "stmt = 'INSERT INTO test VALUES(?, ?, ?, ?)'\n",
    "con.executemany(stmt, data)\n",
    "con.commit()"
   ]
  },
  {
   "cell_type": "code",
   "execution_count": 8,
   "metadata": {},
   "outputs": [
    {
     "name": "stdout",
     "output_type": "stream",
     "text": [
      "[('Atlanta', 'Georgia', 1.25, 6), ('Tallahassee', 'Florida', 2.6, 3), ('Sacramento', 'California', 1.7, 5)]\n",
      "             a           b     c  d\n",
      "0      Atlanta     Georgia  1.25  6\n",
      "1  Tallahassee     Florida  2.60  3\n",
      "2   Sacramento  California  1.70  5\n"
     ]
    }
   ],
   "source": [
    "cursor = con.execute('select * from test')\n",
    "rows = cursor.fetchall()\n",
    "print(rows)\n",
    "\n",
    "df = pd.DataFrame(rows, columns=[x[0] for x in cursor.description])\n",
    "print(df)"
   ]
  },
  {
   "cell_type": "markdown",
   "metadata": {},
   "source": [
    "Simpler job with SQL Alchemy"
   ]
  },
  {
   "cell_type": "code",
   "execution_count": 9,
   "metadata": {},
   "outputs": [
    {
     "data": {
      "text/html": [
       "<div>\n",
       "<style scoped>\n",
       "    .dataframe tbody tr th:only-of-type {\n",
       "        vertical-align: middle;\n",
       "    }\n",
       "\n",
       "    .dataframe tbody tr th {\n",
       "        vertical-align: top;\n",
       "    }\n",
       "\n",
       "    .dataframe thead th {\n",
       "        text-align: right;\n",
       "    }\n",
       "</style>\n",
       "<table border=\"1\" class=\"dataframe\">\n",
       "  <thead>\n",
       "    <tr style=\"text-align: right;\">\n",
       "      <th></th>\n",
       "      <th>a</th>\n",
       "      <th>b</th>\n",
       "      <th>c</th>\n",
       "      <th>d</th>\n",
       "    </tr>\n",
       "  </thead>\n",
       "  <tbody>\n",
       "    <tr>\n",
       "      <th>0</th>\n",
       "      <td>Atlanta</td>\n",
       "      <td>Georgia</td>\n",
       "      <td>1.25</td>\n",
       "      <td>6</td>\n",
       "    </tr>\n",
       "    <tr>\n",
       "      <th>1</th>\n",
       "      <td>Tallahassee</td>\n",
       "      <td>Florida</td>\n",
       "      <td>2.60</td>\n",
       "      <td>3</td>\n",
       "    </tr>\n",
       "    <tr>\n",
       "      <th>2</th>\n",
       "      <td>Sacramento</td>\n",
       "      <td>California</td>\n",
       "      <td>1.70</td>\n",
       "      <td>5</td>\n",
       "    </tr>\n",
       "  </tbody>\n",
       "</table>\n",
       "</div>"
      ],
      "text/plain": [
       "             a           b     c  d\n",
       "0      Atlanta     Georgia  1.25  6\n",
       "1  Tallahassee     Florida  2.60  3\n",
       "2   Sacramento  California  1.70  5"
      ]
     },
     "execution_count": 9,
     "metadata": {},
     "output_type": "execute_result"
    }
   ],
   "source": [
    "import sqlalchemy as sqla\n",
    "db = sqla.create_engine('sqlite:///mydata.sqlite')\n",
    "pd.read_sql('select * from test', db)"
   ]
  }
 ],
 "metadata": {
  "kernelspec": {
   "display_name": "Python 3",
   "language": "python",
   "name": "python3"
  },
  "language_info": {
   "codemirror_mode": {
    "name": "ipython",
    "version": 3
   },
   "file_extension": ".py",
   "mimetype": "text/x-python",
   "name": "python",
   "nbconvert_exporter": "python",
   "pygments_lexer": "ipython3",
   "version": "3.6.4"
  }
 },
 "nbformat": 4,
 "nbformat_minor": 2
}
