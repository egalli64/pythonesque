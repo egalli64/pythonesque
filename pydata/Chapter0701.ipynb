{
 "cells": [
  {
   "cell_type": "markdown",
   "metadata": {},
   "source": [
    "_My notebook on_\n",
    "# Python for Data Analysis - Wes McKinney\n",
    "## Chapter 7 - Data Cleaning and Preparation\n",
    "### Part 1 - Handling Missing Data"
   ]
  },
  {
   "cell_type": "code",
   "execution_count": 3,
   "metadata": {},
   "outputs": [],
   "source": [
    "import numpy as np\n",
    "import pandas as pd"
   ]
  },
  {
   "cell_type": "code",
   "execution_count": 6,
   "metadata": {},
   "outputs": [
    {
     "name": "stdout",
     "output_type": "stream",
     "text": [
      "0     aardvark\n",
      "1    artichoke\n",
      "2          NaN\n",
      "3      avocado\n",
      "dtype: object\n",
      "0    False\n",
      "1    False\n",
      "2     True\n",
      "3    False\n",
      "dtype: bool\n"
     ]
    }
   ],
   "source": [
    "# sentinel value\n",
    "# For numeric data, pandas uses NaN to represent missing data\n",
    "string_data = pd.Series(['aardvark', 'artichoke', np.nan, 'avocado'])\n",
    "print(string_data)\n",
    "print(string_data.isnull())"
   ]
  },
  {
   "cell_type": "code",
   "execution_count": 7,
   "metadata": {},
   "outputs": [
    {
     "data": {
      "text/plain": [
       "0     True\n",
       "1    False\n",
       "2     True\n",
       "3    False\n",
       "dtype: bool"
      ]
     },
     "execution_count": 7,
     "metadata": {},
     "output_type": "execute_result"
    }
   ],
   "source": [
    "# Python None is also treated as NA in object arrays\n",
    "string_data[0] = None\n",
    "\n",
    "string_data.isnull()"
   ]
  },
  {
   "cell_type": "markdown",
   "metadata": {},
   "source": [
    "Filtering Out Missing Data"
   ]
  },
  {
   "cell_type": "code",
   "execution_count": 15,
   "metadata": {},
   "outputs": [
    {
     "name": "stdout",
     "output_type": "stream",
     "text": [
      "0    1.0\n",
      "2    3.5\n",
      "4    7.0\n",
      "dtype: float64\n",
      "0    1.0\n",
      "2    3.5\n",
      "4    7.0\n",
      "dtype: float64\n"
     ]
    }
   ],
   "source": [
    "# drop NA on Series\n",
    "data = pd.Series([1, np.nan, 3.5, np.nan, 7])\n",
    "print(data.dropna())\n",
    "print(data[data.notnull()])"
   ]
  },
  {
   "cell_type": "code",
   "execution_count": 25,
   "metadata": {},
   "outputs": [
    {
     "name": "stdout",
     "output_type": "stream",
     "text": [
      "     0    1    2\n",
      "0  1.0  6.5  3.0\n",
      "1  1.0  NaN  NaN\n",
      "2  NaN  NaN  NaN\n",
      "3  NaN  6.5  3.0\n",
      "     0    1    2\n",
      "0  1.0  6.5  3.0\n",
      "     0    1    2\n",
      "0  1.0  6.5  3.0\n",
      "1  1.0  NaN  NaN\n",
      "3  NaN  6.5  3.0\n",
      "     0    1    2   4\n",
      "0  1.0  6.5  3.0 NaN\n",
      "1  1.0  NaN  NaN NaN\n",
      "2  2.0  NaN  NaN NaN\n",
      "3  2.0  6.5  3.0 NaN\n",
      "     0\n",
      "0  1.0\n",
      "1  1.0\n",
      "2  2.0\n",
      "3  2.0\n",
      "     0    1    2\n",
      "0  1.0  6.5  3.0\n",
      "1  1.0  NaN  NaN\n",
      "2  2.0  NaN  NaN\n",
      "3  2.0  6.5  3.0\n"
     ]
    }
   ],
   "source": [
    "# drop NA on DataFrame\n",
    "data = pd.DataFrame([\n",
    "    [1., 6.5, 3.],\n",
    "    [1., None, None],\n",
    "    [None, None, None],\n",
    "    [None, 6.5, 3.]\n",
    "])\n",
    "print(data)\n",
    "\n",
    "# drop any row containing at least a NA\n",
    "print(data.dropna())\n",
    "\n",
    "# how='all' to drop only all-NA rows\n",
    "print(data.dropna(how='all'))\n",
    "\n",
    "# axis=1 to work on columns\n",
    "data[4] = np.nan\n",
    "data.loc[2][0] = 2\n",
    "data.loc[3][0] = 2\n",
    "print(data)\n",
    "\n",
    "# drop any column containing at least a NA\n",
    "print(data.dropna(axis=1))\n",
    "\n",
    "# drop only all-NA columns\n",
    "print(data.dropna(axis=1, how='all'))"
   ]
  },
  {
   "cell_type": "code",
   "execution_count": 58,
   "metadata": {},
   "outputs": [
    {
     "name": "stdout",
     "output_type": "stream",
     "text": [
      "          0         1         2\n",
      "0  0.640214       NaN       NaN\n",
      "1       NaN       NaN       NaN\n",
      "2 -0.489657       NaN -1.600531\n",
      "3 -1.707466       NaN -0.269526\n",
      "4  0.714067 -0.361530 -0.497628\n",
      "5 -1.456466 -0.668461  1.609552\n",
      "6  0.822007  0.433621  1.548612\n",
      "          0         1         2\n",
      "4  0.714067 -0.361530 -0.497628\n",
      "5 -1.456466 -0.668461  1.609552\n",
      "6  0.822007  0.433621  1.548612\n",
      "          0         1         2\n",
      "2 -0.489657       NaN -1.600531\n",
      "3 -1.707466       NaN -0.269526\n",
      "4  0.714067 -0.361530 -0.497628\n",
      "5 -1.456466 -0.668461  1.609552\n",
      "6  0.822007  0.433621  1.548612\n"
     ]
    }
   ],
   "source": [
    "# drop NA with threshold, keep rows with given not NA values\n",
    "df = pd.DataFrame(np.random.randn(7, 3))\n",
    "df.iloc[1, 0] = np.nan\n",
    "df.iloc[:4, 1] = np.nan\n",
    "df.iloc[:2, 2] = np.nan\n",
    "print(df)\n",
    "print(df.dropna())\n",
    "print(df.dropna(thresh=2))"
   ]
  },
  {
   "cell_type": "markdown",
   "metadata": {},
   "source": [
    "Filling In Missing Data"
   ]
  },
  {
   "cell_type": "code",
   "execution_count": 59,
   "metadata": {},
   "outputs": [
    {
     "name": "stdout",
     "output_type": "stream",
     "text": [
      "          0         1         2\n",
      "0  0.640214       NaN       NaN\n",
      "1       NaN       NaN       NaN\n",
      "2 -0.489657       NaN -1.600531\n",
      "3 -1.707466       NaN -0.269526\n",
      "4  0.714067 -0.361530 -0.497628\n",
      "5 -1.456466 -0.668461  1.609552\n",
      "6  0.822007  0.433621  1.548612\n",
      "          0         1         2\n",
      "0  0.640214  0.000000  0.000000\n",
      "1  0.000000  0.000000  0.000000\n",
      "2 -0.489657  0.000000 -1.600531\n",
      "3 -1.707466  0.000000 -0.269526\n",
      "4  0.714067 -0.361530 -0.497628\n",
      "5 -1.456466 -0.668461  1.609552\n",
      "6  0.822007  0.433621  1.548612\n",
      "          0         1         2\n",
      "0  0.640214  0.500000  0.000000\n",
      "1       NaN  0.500000  0.000000\n",
      "2 -0.489657  0.500000 -1.600531\n",
      "3 -1.707466  0.500000 -0.269526\n",
      "4  0.714067 -0.361530 -0.497628\n",
      "5 -1.456466 -0.668461  1.609552\n",
      "6  0.822007  0.433621  1.548612\n",
      "          0         1         2\n",
      "0  0.640214  0.000001  0.000001\n",
      "1  0.000001  0.000001  0.000001\n",
      "2 -0.489657  0.000001 -1.600531\n",
      "3 -1.707466  0.000001 -0.269526\n",
      "4  0.714067 -0.361530 -0.497628\n",
      "5 -1.456466 -0.668461  1.609552\n",
      "6  0.822007  0.433621  1.548612\n"
     ]
    }
   ],
   "source": [
    "# fillna\n",
    "print(df)\n",
    "\n",
    "# w/ constant\n",
    "print(df.fillna(0))\n",
    "\n",
    "# w/ dictionary for column-specialized filling (or no fill)\n",
    "print(df.fillna({1: 0.5, 2: 0}))\n",
    "\n",
    "# inplace\n",
    "df.fillna(0.000001, inplace=True)\n",
    "print(df)"
   ]
  },
  {
   "cell_type": "code",
   "execution_count": 64,
   "metadata": {},
   "outputs": [
    {
     "name": "stdout",
     "output_type": "stream",
     "text": [
      "          0         1         2\n",
      "0  0.191802 -0.137067  0.259474\n",
      "1 -1.867499 -0.202048  0.906629\n",
      "2 -0.661640       NaN -0.623662\n",
      "3  0.786682       NaN -0.881758\n",
      "4 -0.523955       NaN       NaN\n",
      "5  0.849505       NaN       NaN\n",
      "          0         1         2\n",
      "0  0.191802 -0.137067  0.259474\n",
      "1 -1.867499 -0.202048  0.906629\n",
      "2 -0.661640 -0.202048 -0.623662\n",
      "3  0.786682 -0.202048 -0.881758\n",
      "4 -0.523955 -0.202048 -0.881758\n",
      "5  0.849505 -0.202048 -0.881758\n",
      "          0         1         2\n",
      "0  0.191802 -0.137067  0.259474\n",
      "1 -1.867499 -0.202048  0.906629\n",
      "2 -0.661640 -0.202048 -0.623662\n",
      "3  0.786682 -0.202048 -0.881758\n",
      "4 -0.523955       NaN -0.881758\n",
      "5  0.849505       NaN -0.881758\n"
     ]
    }
   ],
   "source": [
    "# fillna w/ interpolation\n",
    "df = pd.DataFrame(np.random.randn(6, 3))\n",
    "df.iloc[2:, 1] = np.nan\n",
    "df.iloc[4:, 2] = np.nan\n",
    "print(df)\n",
    "\n",
    "# forward fill, use previous valid value\n",
    "print(df.fillna(method='ffill'))\n",
    "\n",
    "# limited forward fill\n",
    "print(df.fillna(method='ffill', limit=2))"
   ]
  },
  {
   "cell_type": "code",
   "execution_count": 65,
   "metadata": {},
   "outputs": [
    {
     "data": {
      "text/plain": [
       "0    1.000000\n",
       "1    3.833333\n",
       "2    3.500000\n",
       "3    3.833333\n",
       "4    7.000000\n",
       "dtype: float64"
      ]
     },
     "execution_count": 65,
     "metadata": {},
     "output_type": "execute_result"
    }
   ],
   "source": [
    "# using mean as a filler\n",
    "data = pd.Series([1., None, 3.5, None, 7])\n",
    "data.fillna(data.mean())"
   ]
  }
 ],
 "metadata": {
  "kernelspec": {
   "display_name": "Python 3",
   "language": "python",
   "name": "python3"
  },
  "language_info": {
   "codemirror_mode": {
    "name": "ipython",
    "version": 3
   },
   "file_extension": ".py",
   "mimetype": "text/x-python",
   "name": "python",
   "nbconvert_exporter": "python",
   "pygments_lexer": "ipython3",
   "version": "3.6.4"
  }
 },
 "nbformat": 4,
 "nbformat_minor": 2
}
