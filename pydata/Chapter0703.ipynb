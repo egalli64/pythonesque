{
 "cells": [
  {
   "cell_type": "markdown",
   "metadata": {},
   "source": [
    "_My notebook on_\n",
    "# Python for Data Analysis - Wes McKinney\n",
    "## Chapter 7 - Data Cleaning and Preparation\n",
    "### Part 3 - String Manipulation"
   ]
  },
  {
   "cell_type": "code",
   "execution_count": 1,
   "metadata": {},
   "outputs": [],
   "source": [
    "import numpy as np\n",
    "import pandas as pd"
   ]
  },
  {
   "cell_type": "markdown",
   "metadata": {},
   "source": [
    "String Object Methods"
   ]
  },
  {
   "cell_type": "code",
   "execution_count": 2,
   "metadata": {},
   "outputs": [
    {
     "name": "stdout",
     "output_type": "stream",
     "text": [
      "['a', 'b', '  guido']\n",
      "['a', 'b', 'guido']\n",
      "Join on double colon: a::b::guido\n",
      "Is guido in val? True\n",
      "First comma position is @ 1\n",
      "There is no colon in val: substring not found\n",
      "There is no colon in val\n",
      "There are 2 commas in val\n",
      "double colon for each comma: a::b::  guido\n",
      "remove all commas: ab  guido\n"
     ]
    }
   ],
   "source": [
    "# plain python\n",
    "val = 'a,b,  guido'\n",
    "\n",
    "# split\n",
    "print(val.split(','))\n",
    "\n",
    "# split and strip\n",
    "pieces = [x.strip() for x in val.split(',')]\n",
    "print(pieces)\n",
    "\n",
    "# joining pieces\n",
    "print('Join on double colon:', '::'.join(pieces))\n",
    "\n",
    "# check existence\n",
    "print('Is guido in val?', 'guido' in val)\n",
    "\n",
    "# get position\n",
    "print('First comma position is @', val.index(','))\n",
    "try:\n",
    "    print(val.index(':'))\n",
    "except ValueError as exc:\n",
    "    print('There is no colon in val:', exc)\n",
    "\n",
    "# find position\n",
    "if val.find(':') == -1:\n",
    "    print('There is no colon in val')\n",
    "    \n",
    "# count occurences\n",
    "print('There are', val.count(','), 'commas in val')\n",
    "\n",
    "# replace a substring\n",
    "print('double colon for each comma:', val.replace(',', '::'))\n",
    "print('remove all commas:', val.replace(',', ''))"
   ]
  },
  {
   "cell_type": "markdown",
   "metadata": {},
   "source": [
    "Regular Expressions"
   ]
  },
  {
   "cell_type": "code",
   "execution_count": 3,
   "metadata": {},
   "outputs": [],
   "source": [
    "import re"
   ]
  },
  {
   "cell_type": "code",
   "execution_count": 4,
   "metadata": {},
   "outputs": [
    {
     "name": "stdout",
     "output_type": "stream",
     "text": [
      "['foo', 'bar', 'baz', 'qux', 'tail']\n",
      "['foo', 'bar', 'baz', 'qux', 'tail']\n",
      "All patterns matching the regex: ['   ', '\\t ', ' \\n', '\\r']\n"
     ]
    }
   ],
   "source": [
    "# split of words with different whitespaces as delimiters\n",
    "text = \"foo   bar\\t baz \\nqux\\rtail\"\n",
    "print(re.split('\\s+', text))\n",
    "\n",
    "# precompiled regex could be useful\n",
    "regex = re.compile('\\s+')\n",
    "print(regex.split(text))\n",
    "print('All patterns matching the regex:', regex.findall(text))"
   ]
  },
  {
   "cell_type": "code",
   "execution_count": 5,
   "metadata": {},
   "outputs": [
    {
     "name": "stdout",
     "output_type": "stream",
     "text": [
      "findall() ['dave@google.com', 'steve@gmail.com', 'rob@gmail.com', 'ryan@yahoo.com']\n",
      "search(): <_sre.SRE_Match object; span=(5, 20), match='dave@google.com'> that means: dave@google.com\n",
      "no match(), given implicit ^: None\n",
      "sub(), from pattern to OMISSIS:\n",
      "Dave OMISSIS\n",
      "Steve OMISSIS\n",
      "Rob OMISSIS\n",
      "Ryan OMISSIS\n",
      "\n",
      "---\n",
      "match() groups: wesm@bright.net -> ('wesm', 'bright', 'net')\n",
      "findall() groups as tuples: [('dave', 'google', 'com'), ('steve', 'gmail', 'com'), ('rob', 'gmail', 'com'), ('ryan', 'yahoo', 'com')]\n",
      "\n",
      "sub() access to group components:\n",
      "Dave Username: dave, Domain: google, Suffix: com\n",
      "Steve Username: steve, Domain: gmail, Suffix: com\n",
      "Rob Username: rob, Domain: gmail, Suffix: com\n",
      "Ryan Username: ryan, Domain: yahoo, Suffix: com\n",
      "\n"
     ]
    }
   ],
   "source": [
    "# regex findall() vs search() vs match() vs sub()\n",
    "\n",
    "text = \"\"\"Dave dave@google.com\n",
    "Steve steve@gmail.com\n",
    "Rob rob@gmail.com\n",
    "Ryan ryan@yahoo.com\n",
    "\"\"\"\n",
    "\n",
    "# it's a _raw_ string - simple email address\n",
    "pattern = r'[A-Z0-9._%+-]+@[A-Z0-9.-]+\\.[A-Z]{2,4}'\n",
    "# case insensitive regex\n",
    "regex = re.compile(pattern, flags=re.IGNORECASE)\n",
    "\n",
    "print('findall()', regex.findall(text))\n",
    "match = regex.search(text)\n",
    "print('search():', match, 'that means:', text[match.start():match.end()])\n",
    "print('no match(), given implicit ^:', regex.match(text))\n",
    "print('sub(), from pattern to OMISSIS:')\n",
    "print(regex.sub('OMISSIS', text))\n",
    "print('---')\n",
    "\n",
    "# parentheses to identify components in the pattern:\n",
    "pattern = r'([A-Z0-9._%+-]+)@([A-Z0-9.-]+)\\.([A-Z]{2,4})'\n",
    "regex = re.compile(pattern, flags=re.IGNORECASE)\n",
    "\n",
    "match = regex.match('wesm@bright.net')\n",
    "print('match() groups:', match.group(), '->', match.groups())\n",
    "print('findall() groups as tuples:', regex.findall(text))\n",
    "\n",
    "print('\\nsub() access to group components:')\n",
    "print(regex.sub(r'Username: \\1, Domain: \\2, Suffix: \\3', text))"
   ]
  },
  {
   "cell_type": "markdown",
   "metadata": {},
   "source": [
    "Vectorized String Functions in pandas"
   ]
  },
  {
   "cell_type": "code",
   "execution_count": 46,
   "metadata": {},
   "outputs": [
    {
     "name": "stdout",
     "output_type": "stream",
     "text": [
      "Dave     dave@google.com\n",
      "Rob        rob@gmail.com\n",
      "Steve    steve@gmail.com\n",
      "Wes                  NaN\n",
      "dtype: object\n",
      "-- isnull()\n",
      "Dave     False\n",
      "Rob      False\n",
      "Steve    False\n",
      "Wes       True\n",
      "dtype: bool\n",
      "-- str contains()\n",
      "Dave     False\n",
      "Rob       True\n",
      "Steve     True\n",
      "Wes        NaN\n",
      "dtype: object\n",
      "-- emulate in plain python\n",
      "[False, True, True, nan]\n"
     ]
    }
   ],
   "source": [
    "# Series.str to simplify work with missing values\n",
    "\n",
    "data = pd.Series(\n",
    "    {'Dave': 'dave@google.com',\n",
    "     'Steve': 'steve@gmail.com',\n",
    "     'Rob': 'rob@gmail.com',\n",
    "     'Wes': np.nan}\n",
    ")\n",
    "\n",
    "print(data)\n",
    "print('-- isnull()')\n",
    "print(data.isnull())\n",
    "\n",
    "print('-- str contains()')\n",
    "print(data.str.contains('gmail'))\n",
    "\n",
    "print('-- emulate in plain python')\n",
    "y = lambda x : (False if x.find('gmail') < 0 else True) if type(x) == str else x\n",
    "print(list(map(y, data)))"
   ]
  },
  {
   "cell_type": "code",
   "execution_count": 63,
   "metadata": {},
   "outputs": [
    {
     "name": "stdout",
     "output_type": "stream",
     "text": [
      "Using pattern ([A-Z0-9._%+-]+)@([A-Z0-9.-]+)\\.([A-Z]{2,4})\n",
      "Dave     [(dave, google, com)]\n",
      "Rob        [(rob, gmail, com)]\n",
      "Steve    [(steve, gmail, com)]\n",
      "Wes                        NaN\n",
      "dtype: object\n",
      "Dave     True\n",
      "Rob      True\n",
      "Steve    True\n",
      "Wes       NaN\n",
      "dtype: object\n",
      "--\n",
      "Dave       d\n",
      "Rob        r\n",
      "Steve      s\n",
      "Wes      NaN\n",
      "dtype: object\n",
      "Dave       m\n",
      "Rob        m\n",
      "Steve      m\n",
      "Wes      NaN\n",
      "dtype: object\n",
      "--\n",
      "Dave     dave@\n",
      "Rob      rob@g\n",
      "Steve    steve\n",
      "Wes        NaN\n",
      "dtype: object\n"
     ]
    }
   ],
   "source": [
    "# regex through str\n",
    "print('Using pattern', pattern)\n",
    "print(data.str.findall(pattern, flags=re.IGNORECASE))\n",
    "print(data.str.match(pattern, flags=re.IGNORECASE))\n",
    "\n",
    "# str.get() or index on str to element retrieval\n",
    "print('--')\n",
    "print(data.str.get(0))\n",
    "print(data.str[-1])\n",
    "print('--')\n",
    "\n",
    "# string slicing\n",
    "print(data.str[:5])"
   ]
  }
 ],
 "metadata": {
  "kernelspec": {
   "display_name": "Python 3",
   "language": "python",
   "name": "python3"
  },
  "language_info": {
   "codemirror_mode": {
    "name": "ipython",
    "version": 3
   },
   "file_extension": ".py",
   "mimetype": "text/x-python",
   "name": "python",
   "nbconvert_exporter": "python",
   "pygments_lexer": "ipython3",
   "version": "3.6.4"
  }
 },
 "nbformat": 4,
 "nbformat_minor": 2
}
