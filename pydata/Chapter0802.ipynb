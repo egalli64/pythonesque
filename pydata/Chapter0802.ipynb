{
 "cells": [
  {
   "cell_type": "markdown",
   "metadata": {},
   "source": [
    "_My notebook on_\n",
    "# Python for Data Analysis - Wes McKinney\n",
    "## Chapter 8 - Data Wrangling: Join, Combine, and Reshape"
   ]
  },
  {
   "cell_type": "code",
   "execution_count": 1,
   "metadata": {},
   "outputs": [],
   "source": [
    "import numpy as np\n",
    "import pandas as pd"
   ]
  },
  {
   "cell_type": "markdown",
   "metadata": {},
   "source": [
    "## Part 2 - Combining and Merging Datasets"
   ]
  },
  {
   "cell_type": "code",
   "execution_count": 2,
   "metadata": {},
   "outputs": [
    {
     "name": "stdout",
     "output_type": "stream",
     "text": [
      "   data1 key\n",
      "0      0   b\n",
      "1      1   b\n",
      "2      2   a\n",
      "3      3   c\n",
      "4      4   a\n",
      "5      5   a\n",
      "6      6   b\n",
      "   data2 key\n",
      "0      0   a\n",
      "1      1   b\n",
      "2      2   d\n",
      "-- many to one (natural inner) join\n",
      "   data1 key  data2\n",
      "0      0   b      1\n",
      "1      1   b      1\n",
      "2      6   b      1\n",
      "3      2   a      0\n",
      "4      4   a      0\n",
      "5      5   a      0\n",
      "same, but explicit join on key\n",
      "   data1 key  data2\n",
      "0      0   b      1\n",
      "1      1   b      1\n",
      "2      6   b      1\n",
      "3      2   a      0\n",
      "4      4   a      0\n",
      "5      5   a      0\n"
     ]
    }
   ],
   "source": [
    "df1 = pd.DataFrame({\n",
    "    'key': ['b', 'b', 'a', 'c', 'a', 'a', 'b'],\n",
    "    'data1': range(7)})\n",
    "\n",
    "df2 = pd.DataFrame({\n",
    "    'key': ['a', 'b', 'd'],\n",
    "    'data2': range(3)})\n",
    "\n",
    "print(df1)\n",
    "print(df2)\n",
    "print('-- many to one (natural inner) join')\n",
    "print(pd.merge(df1, df2))\n",
    "print('same, but explicit join on key')\n",
    "print(pd.merge(df1, df2, on='key'))"
   ]
  },
  {
   "cell_type": "code",
   "execution_count": 3,
   "metadata": {},
   "outputs": [
    {
     "name": "stdout",
     "output_type": "stream",
     "text": [
      "   data1 lkey\n",
      "0      0    b\n",
      "1      1    b\n",
      "2      2    a\n",
      "3      3    c\n",
      "4      4    a\n",
      "5      5    a\n",
      "6      6    b\n",
      "   data2 rkey\n",
      "0      0    a\n",
      "1      1    b\n",
      "2      2    d\n",
      "-- different left and right key\n",
      "   data1 lkey  data2 rkey\n",
      "0      0    b      1    b\n",
      "1      1    b      1    b\n",
      "2      6    b      1    b\n",
      "3      2    a      0    a\n",
      "4      4    a      0    a\n",
      "5      5    a      0    a\n"
     ]
    }
   ],
   "source": [
    "df3 = pd.DataFrame({\n",
    "    'lkey': ['b', 'b', 'a', 'c', 'a', 'a', 'b'],\n",
    "    'data1': range(7)})\n",
    "\n",
    "df4 = pd.DataFrame({\n",
    "    'rkey': ['a', 'b', 'd'],\n",
    "    'data2': range(3)})\n",
    "\n",
    "print(df3)\n",
    "print(df4)\n",
    "print('-- different left and right key')\n",
    "print(pd.merge(df3, df4, left_on='lkey', right_on='rkey'))"
   ]
  },
  {
   "cell_type": "code",
   "execution_count": 4,
   "metadata": {},
   "outputs": [
    {
     "name": "stdout",
     "output_type": "stream",
     "text": [
      "-- outer join\n",
      "   data1 key  data2\n",
      "0    0.0   b    1.0\n",
      "1    1.0   b    1.0\n",
      "2    6.0   b    1.0\n",
      "3    2.0   a    0.0\n",
      "4    4.0   a    0.0\n",
      "5    5.0   a    0.0\n",
      "6    3.0   c    NaN\n",
      "7    NaN   d    2.0\n",
      "-- left join\n",
      "   data1 key  data2\n",
      "0      0   b    1.0\n",
      "1      1   b    1.0\n",
      "2      2   a    0.0\n",
      "3      3   c    NaN\n",
      "4      4   a    0.0\n",
      "5      5   a    0.0\n",
      "6      6   b    1.0\n",
      "-- right join\n",
      "   data1 key  data2\n",
      "0    0.0   b      1\n",
      "1    1.0   b      1\n",
      "2    6.0   b      1\n",
      "3    2.0   a      0\n",
      "4    4.0   a      0\n",
      "5    5.0   a      0\n",
      "6    NaN   d      2\n"
     ]
    }
   ],
   "source": [
    "print('-- outer join')\n",
    "print(pd.merge(df1, df2, how='outer'))\n",
    "print('-- left join')\n",
    "print(pd.merge(df1, df2, how='left'))\n",
    "print('-- right join')\n",
    "print(pd.merge(df1, df2, how='right'))"
   ]
  },
  {
   "cell_type": "code",
   "execution_count": 5,
   "metadata": {},
   "outputs": [
    {
     "name": "stdout",
     "output_type": "stream",
     "text": [
      "   data1 key\n",
      "0      0   b\n",
      "1      1   b\n",
      "2      2   a\n",
      "3      3   c\n",
      "4      4   a\n",
      "5      5   b\n",
      "   data2 key\n",
      "0      0   a\n",
      "1      1   b\n",
      "2      2   a\n",
      "3      3   b\n",
      "4      4   d\n",
      "-- left join\n",
      "    data1 key  data2\n",
      "0       0   b    1.0\n",
      "1       0   b    3.0\n",
      "2       1   b    1.0\n",
      "3       1   b    3.0\n",
      "4       2   a    0.0\n",
      "5       2   a    2.0\n",
      "6       3   c    NaN\n",
      "7       4   a    0.0\n",
      "8       4   a    2.0\n",
      "9       5   b    1.0\n",
      "10      5   b    3.0\n",
      "-- inner join\n",
      "   data1 key  data2\n",
      "0      0   b      1\n",
      "1      0   b      3\n",
      "2      1   b      1\n",
      "3      1   b      3\n",
      "4      5   b      1\n",
      "5      5   b      3\n",
      "6      2   a      0\n",
      "7      2   a      2\n",
      "8      4   a      0\n",
      "9      4   a      2\n"
     ]
    }
   ],
   "source": [
    "# Many-to-many merges\n",
    "df1 = pd.DataFrame({\n",
    "    'key': ['b', 'b', 'a', 'c', 'a', 'b'],\n",
    "    'data1': range(6)})\n",
    "df2 = pd.DataFrame({\n",
    "    'key': ['a', 'b', 'a', 'b', 'd'],\n",
    "    'data2': range(5)})\n",
    "print(df1)\n",
    "print(df2)\n",
    "\n",
    "# cartesian product of the rows\n",
    "# b's are 3x2\n",
    "# a's are 2x2\n",
    "# 1 c (because of left join)\n",
    "print('-- left join')\n",
    "print(pd.merge(df1, df2, on='key', how='left'))\n",
    "print('-- inner join')\n",
    "print(pd.merge(df1, df2, how='inner'))"
   ]
  },
  {
   "cell_type": "code",
   "execution_count": 6,
   "metadata": {},
   "outputs": [
    {
     "name": "stdout",
     "output_type": "stream",
     "text": [
      "  key1 key2  lval\n",
      "0  foo  one     1\n",
      "1  foo  two     2\n",
      "2  bar  one     3\n",
      "  key1 key2  rval\n",
      "0  foo  one     4\n",
      "1  foo  one     5\n",
      "2  bar  one     6\n",
      "3  bar  two     7\n",
      "-- outer join on key1 and key2\n",
      "  key1 key2  lval  rval\n",
      "0  foo  one   1.0   4.0\n",
      "1  foo  one   1.0   5.0\n",
      "2  foo  two   2.0   NaN\n",
      "3  bar  one   3.0   6.0\n",
      "4  bar  two   NaN   7.0\n"
     ]
    }
   ],
   "source": [
    "# merge with multiple keys\n",
    "left = pd.DataFrame({\n",
    "    'key1': ['foo', 'foo', 'bar'],\n",
    "    'key2': ['one', 'two', 'one'],\n",
    "    'lval': [1, 2, 3]})\n",
    "right = pd.DataFrame({\n",
    "    'key1': ['foo', 'foo', 'bar', 'bar'],\n",
    "    'key2': ['one', 'one', 'one', 'two'],\n",
    "    'rval': [4, 5, 6, 7]})\n",
    "print(left)\n",
    "print(right)\n",
    "print('-- outer join on key1 and key2')\n",
    "print(pd.merge(left, right, on=['key1', 'key2'], how='outer'))"
   ]
  },
  {
   "cell_type": "code",
   "execution_count": 7,
   "metadata": {},
   "outputs": [
    {
     "name": "stdout",
     "output_type": "stream",
     "text": [
      "  key1 key2  lval\n",
      "0  foo  one     1\n",
      "1  foo  two     2\n",
      "2  bar  one     3\n",
      "  key1 key2  rval\n",
      "0  foo  one     4\n",
      "1  foo  one     5\n",
      "2  bar  one     6\n",
      "3  bar  two     7\n",
      "  key1 key2_x  lval key2_y  rval\n",
      "0  foo    one     1    one     4\n",
      "1  foo    one     1    one     5\n",
      "2  foo    two     2    one     4\n",
      "3  foo    two     2    one     5\n",
      "4  bar    one     3    one     6\n",
      "5  bar    one     3    two     7\n",
      "  key1 key2_left  lval key2_right  rval\n",
      "0  foo       one     1        one     4\n",
      "1  foo       one     1        one     5\n",
      "2  foo       two     2        one     4\n",
      "3  foo       two     2        one     5\n",
      "4  bar       one     3        one     6\n",
      "5  bar       one     3        two     7\n"
     ]
    }
   ],
   "source": [
    "# overlapping column names\n",
    "print(left)\n",
    "print(right)\n",
    "\n",
    "# automatic suffix to avoid name clash \n",
    "print(pd.merge(left, right, on='key1'))\n",
    "# explicit suffix\n",
    "print(pd.merge(left, right, on='key1', suffixes=('_left', '_right')))"
   ]
  },
  {
   "cell_type": "markdown",
   "metadata": {},
   "source": [
    "Merging on Index"
   ]
  },
  {
   "cell_type": "code",
   "execution_count": 8,
   "metadata": {},
   "outputs": [
    {
     "name": "stdout",
     "output_type": "stream",
     "text": [
      "  key  value\n",
      "0   a      0\n",
      "1   b      1\n",
      "2   a      2\n",
      "3   a      3\n",
      "4   b      4\n",
      "5   c      5\n",
      "   group_val\n",
      "a        3.5\n",
      "b        7.0\n",
      "  key  value  group_val\n",
      "0   a      0        3.5\n",
      "2   a      2        3.5\n",
      "3   a      3        3.5\n",
      "1   b      1        7.0\n",
      "4   b      4        7.0\n",
      "  key  value  group_val\n",
      "0   a      0        3.5\n",
      "2   a      2        3.5\n",
      "3   a      3        3.5\n",
      "1   b      1        7.0\n",
      "4   b      4        7.0\n",
      "5   c      5        NaN\n",
      "  key  value  group_val\n",
      "0   a      0        3.5\n",
      "1   b      1        7.0\n",
      "2   a      2        3.5\n",
      "3   a      3        3.5\n",
      "4   b      4        7.0\n",
      "5   c      5        NaN\n"
     ]
    }
   ],
   "source": [
    "left1 = pd.DataFrame({\n",
    "    'key': ['a', 'b', 'a', 'a', 'b', 'c'],\n",
    "    'value': range(6)})\n",
    "right1 = pd.DataFrame({\n",
    "    'group_val': [3.5, 7]},\n",
    "    index=['a', 'b'])\n",
    "print(left1)\n",
    "print(right1)\n",
    "\n",
    "# left inner join on key and right index\n",
    "print(pd.merge(left1, right1, left_on='key', right_index=True))\n",
    "\n",
    "# outer join on key and right index\n",
    "print(pd.merge(left1, right1, left_on='key', right_index=True, how='outer'))\n",
    "\n",
    "# same\n",
    "print(left1.join(right1, on='key'))"
   ]
  },
  {
   "cell_type": "code",
   "execution_count": 9,
   "metadata": {},
   "outputs": [
    {
     "name": "stdout",
     "output_type": "stream",
     "text": [
      "   data    key1  key2\n",
      "0   0.0    Ohio  2000\n",
      "1   1.0    Ohio  2001\n",
      "2   2.0    Ohio  2002\n",
      "3   3.0  Nevada  2001\n",
      "4   4.0  Nevada  2002\n",
      "             event1  event2\n",
      "Nevada 2001       0       1\n",
      "       2000       2       3\n",
      "Ohio   2000       4       5\n",
      "       2000       6       7\n",
      "       2001       8       9\n",
      "       2002      10      11\n",
      "   data    key1  key2  event1  event2\n",
      "0   0.0    Ohio  2000       4       5\n",
      "0   0.0    Ohio  2000       6       7\n",
      "1   1.0    Ohio  2001       8       9\n",
      "2   2.0    Ohio  2002      10      11\n",
      "3   3.0  Nevada  2001       0       1\n",
      "   data    key1  key2  event1  event2\n",
      "0   0.0    Ohio  2000     4.0     5.0\n",
      "0   0.0    Ohio  2000     6.0     7.0\n",
      "1   1.0    Ohio  2001     8.0     9.0\n",
      "2   2.0    Ohio  2002    10.0    11.0\n",
      "3   3.0  Nevada  2001     0.0     1.0\n",
      "4   4.0  Nevada  2002     NaN     NaN\n",
      "4   NaN  Nevada  2000     2.0     3.0\n"
     ]
    }
   ],
   "source": [
    "# merge on hierarchically indexed data\n",
    "lefth = pd.DataFrame({\n",
    "    'key1': ['Ohio', 'Ohio', 'Ohio','Nevada', 'Nevada'],\n",
    "    'key2': [2000, 2001, 2002, 2001, 2002],\n",
    "    'data': np.arange(5.)})\n",
    "\n",
    "righth = pd.DataFrame(\n",
    "    np.arange(12).reshape((6, 2)),\n",
    "    index=[\n",
    "        ['Nevada', 'Nevada', 'Ohio', 'Ohio','Ohio', 'Ohio'],\n",
    "        [2001, 2000, 2000, 2000, 2001, 2002]],\n",
    "    columns=['event1', 'event2'])\n",
    "\n",
    "print(lefth)\n",
    "print(righth)\n",
    "\n",
    "# right is multi-index, left should match them\n",
    "print(pd.merge(lefth, righth, left_on=['key1', 'key2'], right_index=True))\n",
    "\n",
    "# same but outer join\n",
    "print(pd.merge(lefth, righth, left_on=['key1', 'key2'], right_index=True, how='outer'))"
   ]
  },
  {
   "cell_type": "code",
   "execution_count": 10,
   "metadata": {},
   "outputs": [
    {
     "name": "stdout",
     "output_type": "stream",
     "text": [
      "-- left2\n",
      "   Ohio  Nevada\n",
      "a   1.0     2.0\n",
      "c   3.0     4.0\n",
      "e   5.0     6.0\n",
      "-- right2\n",
      "   Missouri  Alabama\n",
      "b       7.0      8.0\n",
      "c       9.0     10.0\n",
      "d      11.0     12.0\n",
      "e      13.0     14.0\n",
      "   Ohio  Nevada  Missouri  Alabama\n",
      "a   1.0     2.0       NaN      NaN\n",
      "b   NaN     NaN       7.0      8.0\n",
      "c   3.0     4.0       9.0     10.0\n",
      "d   NaN     NaN      11.0     12.0\n",
      "e   5.0     6.0      13.0     14.0\n",
      "   Ohio  Nevada  Missouri  Alabama\n",
      "a   1.0     2.0       NaN      NaN\n",
      "b   NaN     NaN       7.0      8.0\n",
      "c   3.0     4.0       9.0     10.0\n",
      "d   NaN     NaN      11.0     12.0\n",
      "e   5.0     6.0      13.0     14.0\n",
      "-- another\n",
      "   New York  Oregon\n",
      "a       7.0     8.0\n",
      "c       9.0    10.0\n",
      "e      11.0    12.0\n",
      "f      16.0    17.0\n",
      "   Ohio  Nevada  Missouri  Alabama  New York  Oregon\n",
      "a   1.0     2.0       NaN      NaN       7.0     8.0\n",
      "c   3.0     4.0       9.0     10.0       9.0    10.0\n",
      "e   5.0     6.0      13.0     14.0      11.0    12.0\n",
      "   Ohio  Nevada  Missouri  Alabama  New York  Oregon\n",
      "a   1.0     2.0       NaN      NaN       7.0     8.0\n",
      "b   NaN     NaN       7.0      8.0       NaN     NaN\n",
      "c   3.0     4.0       9.0     10.0       9.0    10.0\n",
      "d   NaN     NaN      11.0     12.0       NaN     NaN\n",
      "e   5.0     6.0      13.0     14.0      11.0    12.0\n",
      "f   NaN     NaN       NaN      NaN      16.0    17.0\n"
     ]
    }
   ],
   "source": [
    "# indexes of both sides\n",
    "left2 = pd.DataFrame(\n",
    "    [[1., 2.], [3., 4.], [5., 6.]],\n",
    "    index=['a', 'c', 'e'],\n",
    "    columns=['Ohio', 'Nevada'])\n",
    "\n",
    "right2 = pd.DataFrame(\n",
    "    [[7., 8.], [9., 10.], [11., 12.], [13, 14]],\n",
    "    index=['b', 'c', 'd', 'e'],\n",
    "    columns=['Missouri', 'Alabama'])\n",
    "\n",
    "print('-- left2')\n",
    "print(left2)\n",
    "print('-- right2')\n",
    "print(right2)\n",
    "\n",
    "# outer join using left and right indexes\n",
    "print(pd.merge(left2, right2, how='outer', left_index=True, right_index=True))\n",
    "\n",
    "# same\n",
    "print(left2.join(right2, how='outer'))\n",
    "\n",
    "another = pd.DataFrame(\n",
    "    [[7., 8.], [9., 10.], [11., 12.], [16., 17.]],\n",
    "    index=['a', 'c', 'e', 'f'],\n",
    "    columns=['New York', 'Oregon'])\n",
    "\n",
    "print('-- another')\n",
    "print(another)\n",
    "\n",
    "# simplify concat\n",
    "print(left2.join([right2, another]))\n",
    "\n",
    "# ditto outer\n",
    "print(left2.join([right2, another], how='outer'))"
   ]
  },
  {
   "cell_type": "markdown",
   "metadata": {},
   "source": [
    "Concatenating Along an Axis"
   ]
  },
  {
   "cell_type": "code",
   "execution_count": 11,
   "metadata": {},
   "outputs": [
    {
     "name": "stdout",
     "output_type": "stream",
     "text": [
      "[[ 0  1  2  3]\n",
      " [ 4  5  6  7]\n",
      " [ 8  9 10 11]]\n",
      "[[ 0  1  2  3]\n",
      " [ 4  5  6  7]\n",
      " [ 8  9 10 11]\n",
      " [ 0  1  2  3]\n",
      " [ 4  5  6  7]\n",
      " [ 8  9 10 11]]\n",
      "[[ 0  1  2  3  0  1  2  3]\n",
      " [ 4  5  6  7  4  5  6  7]\n",
      " [ 8  9 10 11  8  9 10 11]]\n"
     ]
    }
   ],
   "source": [
    "# numpy concatenation of arrays\n",
    "arr = np.arange(12).reshape((3, 4))\n",
    "print(arr)\n",
    "\n",
    "print(np.concatenate([arr, arr]))\n",
    "print(np.concatenate([arr, arr], axis=1))"
   ]
  },
  {
   "cell_type": "code",
   "execution_count": 12,
   "metadata": {},
   "outputs": [
    {
     "name": "stdout",
     "output_type": "stream",
     "text": [
      "a    0\n",
      "b    1\n",
      "dtype: int64\n",
      "c    2\n",
      "d    3\n",
      "e    4\n",
      "dtype: int64\n",
      "f    5\n",
      "g    6\n",
      "dtype: int64\n",
      "a    0\n",
      "b    1\n",
      "c    2\n",
      "d    3\n",
      "e    4\n",
      "f    5\n",
      "g    6\n",
      "dtype: int64\n",
      "     0    1    2\n",
      "a  0.0  NaN  NaN\n",
      "b  1.0  NaN  NaN\n",
      "c  NaN  2.0  NaN\n",
      "d  NaN  3.0  NaN\n",
      "e  NaN  4.0  NaN\n",
      "f  NaN  NaN  5.0\n",
      "g  NaN  NaN  6.0\n"
     ]
    }
   ],
   "source": [
    "# concatenation on Series\n",
    "s1 = pd.Series([0, 1], index=['a', 'b'])\n",
    "s2 = pd.Series([2, 3, 4], index=['c', 'd', 'e'])\n",
    "s3 = pd.Series([5, 6], index=['f', 'g'])\n",
    "\n",
    "print(s1)\n",
    "print(s2)\n",
    "print(s3)\n",
    "\n",
    "# default axis is 0, rows: get a Series\n",
    "print(pd.concat([s1, s2, s3]))\n",
    "\n",
    "# concat on columns, get a DataFrame - sorted outer join\n",
    "print(pd.concat([s1, s2, s3], axis=1))"
   ]
  },
  {
   "cell_type": "code",
   "execution_count": 13,
   "metadata": {},
   "outputs": [
    {
     "name": "stdout",
     "output_type": "stream",
     "text": [
      "a    0\n",
      "b    1\n",
      "dtype: int64\n",
      "a    0\n",
      "b    1\n",
      "f    5\n",
      "g    6\n",
      "dtype: int64\n",
      "     0  1\n",
      "a  0.0  0\n",
      "b  1.0  1\n",
      "f  NaN  5\n",
      "g  NaN  6\n",
      "   0  1\n",
      "a  0  0\n",
      "b  1  1\n",
      "     0    1\n",
      "a  0.0  0.0\n",
      "c  NaN  NaN\n",
      "b  1.0  1.0\n",
      "e  NaN  NaN\n",
      "---\n",
      "one    a    0\n",
      "       b    1\n",
      "two    a    0\n",
      "       b    1\n",
      "three  f    5\n",
      "       g    6\n",
      "dtype: int64\n",
      "         a    b    f    g\n",
      "one    0.0  1.0  NaN  NaN\n",
      "two    0.0  1.0  NaN  NaN\n",
      "three  NaN  NaN  5.0  6.0\n",
      "---\n",
      "   one  two  three\n",
      "a  0.0  NaN    NaN\n",
      "b  1.0  NaN    NaN\n",
      "c  NaN  2.0    NaN\n",
      "d  NaN  3.0    NaN\n",
      "e  NaN  4.0    NaN\n",
      "f  NaN  NaN    5.0\n",
      "g  NaN  NaN    6.0\n"
     ]
    }
   ],
   "source": [
    "s4 = pd.concat([s1, s3])\n",
    "print(s1)\n",
    "print(s4)\n",
    "\n",
    "# by default outer join\n",
    "print(pd.concat([s1, s4], axis=1))\n",
    "\n",
    "# full inner join\n",
    "print(pd.concat([s1, s4], axis=1, join='inner'))\n",
    "\n",
    "# specify the axes to be used\n",
    "print(pd.concat([s1, s4], axis=1, join_axes=[['a', 'c', 'b', 'e']]))\n",
    "print('---')\n",
    "\n",
    "# create a hierarchical index on the concatenation axis\n",
    "result = pd.concat([s1, s1, s3], keys=['one', 'two', 'three'])\n",
    "print(result)\n",
    "\n",
    "print(result.unstack())\n",
    "\n",
    "print('---')\n",
    "print(pd.concat([s1, s2, s3], axis=1, keys=['one', 'two', 'three']))"
   ]
  },
  {
   "cell_type": "code",
   "execution_count": 14,
   "metadata": {},
   "outputs": [
    {
     "name": "stdout",
     "output_type": "stream",
     "text": [
      "   one  two\n",
      "a    0    1\n",
      "b    2    3\n",
      "c    4    5\n",
      "   three  four\n",
      "a      5     6\n",
      "c      7     8\n",
      "  level1     level2     \n",
      "     one two  three four\n",
      "a      0   1    5.0  6.0\n",
      "b      2   3    NaN  NaN\n",
      "c      4   5    7.0  8.0\n",
      "  level1     level2     \n",
      "     one two  three four\n",
      "a      0   1    5.0  6.0\n",
      "b      2   3    NaN  NaN\n",
      "c      4   5    7.0  8.0\n",
      "upper level1     level2     \n",
      "lower    one two  three four\n",
      "a          0   1    5.0  6.0\n",
      "b          2   3    NaN  NaN\n",
      "c          4   5    7.0  8.0\n"
     ]
    }
   ],
   "source": [
    "# concat on DataFrame\n",
    "df1 = pd.DataFrame(\n",
    "    np.arange(6).reshape(3, 2),\n",
    "    index=['a', 'b', 'c'],\n",
    "    columns=['one', 'two'])\n",
    "\n",
    "df2 = pd.DataFrame(\n",
    "    5 + np.arange(4).reshape(2, 2),\n",
    "    index=['a', 'c'],\n",
    "    columns=['three', 'four'])\n",
    "\n",
    "print(df1)\n",
    "print(df2)\n",
    "\n",
    "print(pd.concat([df1, df2], axis=1, keys=['level1', 'level2']))\n",
    "# same, using dict\n",
    "print(pd.concat({'level1': df1, 'level2': df2}, axis=1))\n",
    "# same, naming axis levels\n",
    "print(pd.concat([df1, df2], axis=1, keys=['level1', 'level2'], names=['upper', 'lower']))"
   ]
  },
  {
   "cell_type": "code",
   "execution_count": 15,
   "metadata": {},
   "outputs": [
    {
     "name": "stdout",
     "output_type": "stream",
     "text": [
      "          a         b         c         d\n",
      "0  0.138357 -0.654368  0.070643  0.343678\n",
      "1 -0.105294 -1.371042  0.293740 -1.661419\n",
      "2 -1.207432 -0.477162  0.820395 -1.011606\n",
      "          b         d         a\n",
      "0 -1.469717  0.542466  1.964975\n",
      "1  0.066896  0.979443  2.946331\n",
      "          a         b         c         d\n",
      "0  0.138357 -0.654368  0.070643  0.343678\n",
      "1 -0.105294 -1.371042  0.293740 -1.661419\n",
      "2 -1.207432 -0.477162  0.820395 -1.011606\n",
      "0  1.964975 -1.469717       NaN  0.542466\n",
      "1  2.946331  0.066896       NaN  0.979443\n",
      "          a         b         c         d\n",
      "0  0.138357 -0.654368  0.070643  0.343678\n",
      "1 -0.105294 -1.371042  0.293740 -1.661419\n",
      "2 -1.207432 -0.477162  0.820395 -1.011606\n",
      "3  1.964975 -1.469717       NaN  0.542466\n",
      "4  2.946331  0.066896       NaN  0.979443\n"
     ]
    }
   ],
   "source": [
    "# ignoring index\n",
    "df1 = pd.DataFrame(np.random.randn(3, 4), columns=['a', 'b', 'c', 'd'])\n",
    "df2 = pd.DataFrame(np.random.randn(2, 3), columns=['b', 'd', 'a'])\n",
    "\n",
    "print(df1)\n",
    "print(df2)\n",
    "\n",
    "print(pd.concat([df1, df2]))\n",
    "print(pd.concat([df1, df2], ignore_index=True))"
   ]
  },
  {
   "cell_type": "markdown",
   "metadata": {},
   "source": [
    "Combining Data with Overlap"
   ]
  },
  {
   "cell_type": "code",
   "execution_count": 16,
   "metadata": {},
   "outputs": [
    {
     "name": "stdout",
     "output_type": "stream",
     "text": [
      "f    NaN\n",
      "e    2.5\n",
      "d    NaN\n",
      "c    3.5\n",
      "b    4.5\n",
      "a    NaN\n",
      "dtype: float64\n",
      "f    0.0\n",
      "e    1.0\n",
      "d    2.0\n",
      "c    3.0\n",
      "b    4.0\n",
      "a    NaN\n",
      "dtype: float64\n",
      "\n",
      "-- np.where()\n",
      "[0.  2.5 2.  3.5 4.5 nan]\n",
      "\n",
      "-- same with pd.Series.combine_first()\n",
      "f    0.0\n",
      "e    2.5\n",
      "d    2.0\n",
      "c    3.5\n",
      "b    4.5\n",
      "a    NaN\n",
      "dtype: float64\n"
     ]
    }
   ],
   "source": [
    "a = pd.Series(\n",
    "    data=[np.nan, 2.5, np.nan, 3.5, 4.5, np.nan], \n",
    "    index=['f', 'e', 'd', 'c', 'b', 'a'])\n",
    "b = pd.Series(\n",
    "    data=np.arange(len(a), dtype=np.float64),\n",
    "    index=['f', 'e', 'd', 'c', 'b', 'a'])\n",
    "b[-1] = np.nan\n",
    "\n",
    "print(a)\n",
    "print(b)\n",
    "\n",
    "# conditional data selection\n",
    "print('\\n-- np.where()')\n",
    "print(np.where(pd.isnull(a), b, a))\n",
    "\n",
    "# pandas\n",
    "print('\\n-- same with pd.Series.combine_first()')\n",
    "print(a.combine_first(b))"
   ]
  },
  {
   "cell_type": "code",
   "execution_count": 17,
   "metadata": {},
   "outputs": [
    {
     "name": "stdout",
     "output_type": "stream",
     "text": [
      "     a    b   c\n",
      "0  1.0  NaN   2\n",
      "1  NaN  2.0   6\n",
      "2  5.0  NaN  10\n",
      "3  NaN  6.0  14\n",
      "     a    b\n",
      "0  5.0  NaN\n",
      "1  4.0  3.0\n",
      "2  NaN  4.0\n",
      "3  3.0  6.0\n",
      "4  7.0  8.0\n",
      "     a    b     c\n",
      "0  1.0  NaN   2.0\n",
      "1  4.0  2.0   6.0\n",
      "2  5.0  4.0  10.0\n",
      "3  3.0  6.0  14.0\n",
      "4  7.0  8.0   NaN\n"
     ]
    }
   ],
   "source": [
    "# DataFrame.combine_first()\n",
    "df1 = pd.DataFrame({\n",
    "    'a': [1., np.nan, 5., np.nan],\n",
    "    'b': [np.nan, 2., np.nan, 6.],\n",
    "    'c': range(2, 18, 4)})\n",
    "df2 = pd.DataFrame({\n",
    "    'a': [5., 4., np.nan, 3., 7.],\n",
    "    'b': [np.nan, 3., 4., 6., 8.]})\n",
    "\n",
    "print(df1)\n",
    "print(df2)\n",
    "print(df1.combine_first(df2))"
   ]
  }
 ],
 "metadata": {
  "kernelspec": {
   "display_name": "Python 3",
   "language": "python",
   "name": "python3"
  },
  "language_info": {
   "codemirror_mode": {
    "name": "ipython",
    "version": 3
   },
   "file_extension": ".py",
   "mimetype": "text/x-python",
   "name": "python",
   "nbconvert_exporter": "python",
   "pygments_lexer": "ipython3",
   "version": "3.6.4"
  }
 },
 "nbformat": 4,
 "nbformat_minor": 2
}
