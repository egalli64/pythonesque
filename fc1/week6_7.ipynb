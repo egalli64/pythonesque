{
 "cells": [
  {
   "cell_type": "markdown",
   "metadata": {},
   "source": [
    "# Fat Chance: Probability from the Ground Up\n",
    "## HarvardX -  FC1x\n",
    "## https://courses.edx.org/courses/course-v1:HarvardX+FC1x+1T2018/course/\n",
    "\n",
    "Week Six - Bernoulli Trials\n",
    "\n",
    "Week Seven - The Normal Distribution"
   ]
  },
  {
   "cell_type": "markdown",
   "metadata": {},
   "source": [
    "P(k) = (n k) × p^k × q^(n−k) where q = 1−p"
   ]
  },
  {
   "cell_type": "code",
   "execution_count": 1,
   "metadata": {},
   "outputs": [],
   "source": [
    "import numpy as np\n",
    "from math import factorial\n",
    "from scipy.special import binom"
   ]
  },
  {
   "cell_type": "code",
   "execution_count": 2,
   "metadata": {},
   "outputs": [
    {
     "data": {
      "text/plain": [
       "0.24519844796019255"
      ]
     },
     "execution_count": 2,
     "metadata": {},
     "output_type": "execute_result"
    }
   ],
   "source": [
    "# Lottery where the odds of winning are 1/6\n",
    "# what is the probability of winning exactly three times when you purchase 18 tickets?\n",
    "\n",
    "# (18 3) * (1/6)**3 * (5/6)**15\n",
    "p = 1/6\n",
    "q = 5/6\n",
    "binom(18, 3) * p**3 * q**15"
   ]
  },
  {
   "cell_type": "code",
   "execution_count": 3,
   "metadata": {},
   "outputs": [
    {
     "data": {
      "text/plain": [
       "(0.05257058723074855, True)"
      ]
     },
     "execution_count": 3,
     "metadata": {},
     "output_type": "execute_result"
    }
   ],
   "source": [
    "# ten hands of poker, chance of gettin Ace of Spades three times\n",
    "pas = binom(51, 4) / binom(52, 5) # 5/52\n",
    "q = 1 - pas\n",
    "result = binom(10, 3) * pas**3 * q**7\n",
    "result, result == binom(10, 3) * (5/52)**3 * (47/52)**7"
   ]
  },
  {
   "cell_type": "markdown",
   "metadata": {},
   "source": [
    "6.2 Lesson: The Gambler's Ruin\n",
    "\n",
    "(aka random walk with absorbing barriers)\n",
    "\n",
    "0 <= a < b\n",
    "\n",
    "P(a) = p -> probability winning\n",
    "\n",
    "s = q/p\n",
    "\n",
    "x(a) = (s^a - 1) / (s^b - 1) -> probability avoid ruin"
   ]
  },
  {
   "cell_type": "code",
   "execution_count": 4,
   "metadata": {},
   "outputs": [
    {
     "data": {
      "text/plain": [
       "0.16494845360824742"
      ]
     },
     "execution_count": 4,
     "metadata": {},
     "output_type": "execute_result"
    }
   ],
   "source": [
    "# team A wins 40%\n",
    "# team B wins 60%\n",
    "# odds team A wins 4 times more than B before vice versa?\n",
    "a = 4\n",
    "b = 8\n",
    "s = 3/2\n",
    "\n",
    "pw = (s**a - 1)/(s**b - 1)\n",
    "pw"
   ]
  },
  {
   "cell_type": "markdown",
   "metadata": {},
   "source": [
    "Evaluation"
   ]
  },
  {
   "cell_type": "code",
   "execution_count": 5,
   "metadata": {},
   "outputs": [
    {
     "name": "stdout",
     "output_type": "stream",
     "text": [
      "0.2907100492017224\n",
      "0.1615055828898458\n",
      "0.3230111657796916\n",
      "0.2907100492017224\n",
      "0.15504535957425192\n"
     ]
    }
   ],
   "source": [
    "# roll a pair of fair dice 10 times\n",
    "\n",
    "# chance of 7 exactly twice\n",
    "seven = 1/6\n",
    "other = 1 - seven\n",
    "print(binom(10, 2) * seven**2 * other**8)\n",
    "\n",
    "# no 6\n",
    "no_six = 5/6\n",
    "print(no_six**10)\n",
    "\n",
    "# one 6\n",
    "six = 1/6\n",
    "other = 1 - 1/6\n",
    "print(10 * six * other**9)\n",
    "\n",
    "# two 6s\n",
    "print(binom(10, 2) * six**2 * other**8)\n",
    "\n",
    "# three 6s\n",
    "print(binom(10, 3) * six**3 * other**7)"
   ]
  },
  {
   "cell_type": "code",
   "execution_count": 6,
   "metadata": {},
   "outputs": [
    {
     "name": "stdout",
     "output_type": "stream",
     "text": [
      "0.2612736\n"
     ]
    }
   ],
   "source": [
    "# Sox wins .6 against Cubs. Chance of winning exactly 5 of 7 games?\n",
    "soxs = .6\n",
    "cubs = .4\n",
    "print(binom(7, 5) * soxs**5 * cubs**2)"
   ]
  },
  {
   "cell_type": "markdown",
   "metadata": {},
   "source": [
    "7: The Normal Distribution"
   ]
  },
  {
   "cell_type": "code",
   "execution_count": 7,
   "metadata": {},
   "outputs": [],
   "source": [
    "import math\n",
    "import scipy.stats"
   ]
  },
  {
   "cell_type": "code",
   "execution_count": 8,
   "metadata": {},
   "outputs": [
    {
     "name": "stdout",
     "output_type": "stream",
     "text": [
      "1.2649110640673518 on standard normal distribution leads to 0.1029516053660342\n",
      "520 on the game distribution leads to 0.1029516053660342\n"
     ]
    }
   ],
   "source": [
    "# Probability to get more than 520 heads when flipping a fair coin 1000 times\n",
    "heads = 520\n",
    "coins = 1000\n",
    "\n",
    "# single flip\n",
    "ev_G = 1/2\n",
    "var_G = 1/4\n",
    "\n",
    "ev_G_1000 = coins * ev_G     # 500\n",
    "var_G_1000 = coins * var_G   # 250\n",
    "\n",
    "# normalize the game: (G(1000) - ev_G_1000)/ sqrt(var_G_1000) \n",
    "target = (heads - ev_G_1000) / math.sqrt(var_G_1000)  # about 1.265\n",
    "\n",
    "# get the result using the standard normal distribution\n",
    "snd = scipy.stats.norm()\n",
    "# cdf() is Cumulative distribution function\n",
    "print(target, 'on standard normal distribution leads to', 1 - snd.cdf(target))\n",
    "\n",
    "# get the result using the actual game normal distribution\n",
    "game_distr = scipy.stats.norm(ev_G_1000, math.sqrt(var_G_1000))\n",
    "print(heads, 'on the game distribution leads to', 1 - game_distr.cdf(heads))"
   ]
  },
  {
   "cell_type": "code",
   "execution_count": 9,
   "metadata": {},
   "outputs": [
    {
     "name": "stdout",
     "output_type": "stream",
     "text": [
      "5200 on the game distribution leads to 3.167124183311998e-05\n"
     ]
    }
   ],
   "source": [
    "# Probability to get more than 5200 heads when flipping a fair coin 10000 times\n",
    "heads = 5_200\n",
    "coins = 10_000\n",
    "\n",
    "mean = 5_000\n",
    "std_dev = math.sqrt(2_500)\n",
    "\n",
    "game_distr = scipy.stats.norm(mean, std_dev)\n",
    "print(heads, 'on the game distribution leads to', 1 - game_distr.cdf(heads))"
   ]
  },
  {
   "cell_type": "code",
   "execution_count": 10,
   "metadata": {},
   "outputs": [
    {
     "name": "stdout",
     "output_type": "stream",
     "text": [
      "0.0017073955890588577\n"
     ]
    }
   ],
   "source": [
    "# Roll 100 dice, add up the showing numbers, on average we get 350, chance of 400+?\n",
    "mean_one = 3.5\n",
    "variance_one = 1/3 * (2.5**2 + 1.5**2 + .5**2)   # 35/12\n",
    "\n",
    "rolls = 100\n",
    "target = 400\n",
    "\n",
    "mean = mean_one * rolls\n",
    "std_dev = math.sqrt(variance_one * rolls)\n",
    "\n",
    "game_distr = scipy.stats.norm(mean, std_dev)\n",
    "print(1 - game_distr.cdf(target))"
   ]
  },
  {
   "cell_type": "markdown",
   "metadata": {},
   "source": [
    "Evaluation"
   ]
  },
  {
   "cell_type": "code",
   "execution_count": 11,
   "metadata": {},
   "outputs": [
    {
     "data": {
      "text/plain": [
       "(-0.15384615384615385, 8.59171597633136)"
      ]
     },
     "execution_count": 11,
     "metadata": {},
     "output_type": "execute_result"
    }
   ],
   "source": [
    "# Problem 1\n",
    "# one card from a standard deck of 52 cards\n",
    "# Ace -> 10, otherwise -1\n",
    "ev = (10-12)/13\n",
    "variance = ((10 - ev)**2 + 12*(-1 - ev)**2)/13\n",
    "ev, variance"
   ]
  },
  {
   "cell_type": "code",
   "execution_count": 12,
   "metadata": {},
   "outputs": [
    {
     "data": {
      "text/plain": [
       "(3.5, 2.9166666666666665)"
      ]
     },
     "execution_count": 12,
     "metadata": {},
     "output_type": "execute_result"
    }
   ],
   "source": [
    "# Problem 2\n",
    "# roll one die, payoff is the number of dots showing\n",
    "ev = sum(range(1, 7)) / 6 # 3.5 == 7/2\n",
    "variance = ((1 - ev)**2 + (2 - ev)**2 + (3 - ev)**2) / 3 # 35/12\n",
    "\n",
    "ev, variance"
   ]
  },
  {
   "cell_type": "code",
   "execution_count": 13,
   "metadata": {},
   "outputs": [
    {
     "data": {
      "text/plain": [
       "(350.0, 291.66666666666663)"
      ]
     },
     "execution_count": 13,
     "metadata": {},
     "output_type": "execute_result"
    }
   ],
   "source": [
    "# Problem 3\n",
    "# 100 dice, payoff is the total number of dots showing\n",
    "ev_100 = 100 * ev\n",
    "var_100 = 100 * variance # 3500 / 12 = 875 / 3\n",
    "\n",
    "ev_100, var_100"
   ]
  },
  {
   "cell_type": "code",
   "execution_count": 14,
   "metadata": {},
   "outputs": [
    {
     "data": {
      "text/plain": [
       "(0.16666666666666666, 0.13888888888888892, 13.888888888888893)"
      ]
     },
     "execution_count": 14,
     "metadata": {},
     "output_type": "execute_result"
    }
   ],
   "source": [
    "# Problem 4\n",
    "# 100 dice, payoff number of 6\n",
    "ev_1 = 1/6\n",
    "vr_1 = ((1-ev_1)**2 + 5*(ev_1**2))/6 # 30/36 * 1/6 = 5/36\n",
    "\n",
    "ev = 100 * ev_1 # 100/6\n",
    "vr = 100 * vr_1 # 500/36\n",
    "\n",
    "ev_1, vr_1, vr"
   ]
  },
  {
   "cell_type": "code",
   "execution_count": 15,
   "metadata": {},
   "outputs": [],
   "source": [
    "# Problem 5\n",
    "# 100 dice, payoff number of 6 - normalized form?\n",
    "\n",
    "# G_0 = (G(100) - ev_G100) / sqrt(var_G100) = (G100 - 100/6)/sqrt(500/36)"
   ]
  },
  {
   "cell_type": "code",
   "execution_count": 16,
   "metadata": {},
   "outputs": [
    {
     "data": {
      "text/plain": [
       "(0.6, 0.24, 60.0, 24.0)"
      ]
     },
     "execution_count": 16,
     "metadata": {},
     "output_type": "execute_result"
    }
   ],
   "source": [
    "# Problem 6\n",
    "# G unfair coin, H .6, T .4, payoff 1 for H\n",
    "# What is the normalized form of the game G(100)?\n",
    "head = 6/10\n",
    "tail = 4/10\n",
    "\n",
    "ev_1 = 6/10\n",
    "vr_1 = 6/10 * 4/10  # 24/100\n",
    "\n",
    "ev = ev_1 * 100 # 60\n",
    "vr = vr_1 * 100 # 24\n",
    "\n",
    "# G_0 = (G100 - 60) / sqrt(24)\n",
    "\n",
    "ev_1, vr_1, ev, vr"
   ]
  },
  {
   "cell_type": "code",
   "execution_count": 17,
   "metadata": {},
   "outputs": [
    {
     "name": "stdout",
     "output_type": "stream",
     "text": [
      "40.0 4.898979485566356 0.020715024940851756\n"
     ]
    }
   ],
   "source": [
    "# Problem 7\n",
    "# nathan 60%, carl 40%\n",
    "# picking a sample of 100 voters, chance for carl to win\n",
    "mean_one = .4\n",
    "variance_one = .4 * .6\n",
    "\n",
    "voters = 100\n",
    "\n",
    "mean = mean_one * voters\n",
    "std_dev = math.sqrt(variance_one * voters)\n",
    "\n",
    "game_distr = scipy.stats.norm(mean, std_dev)\n",
    "print(mean, std_dev, 1 - game_distr.cdf(49.99))"
   ]
  },
  {
   "cell_type": "code",
   "execution_count": 18,
   "metadata": {},
   "outputs": [
    {
     "name": "stdout",
     "output_type": "stream",
     "text": [
      "16.666666666666664 3.7267799624996494 0.0126736593387341\n"
     ]
    }
   ],
   "source": [
    "# Problem 8\n",
    "# 100 dice, chance of getting at least 25 \"6\"\n",
    "\n",
    "mean_one = 1/6\n",
    "variance_one = 5/36\n",
    "\n",
    "rolls = 100\n",
    "\n",
    "mean = mean_one * rolls\n",
    "std_dev = math.sqrt(variance_one * rolls)\n",
    "\n",
    "game_distr = scipy.stats.norm(mean, std_dev)\n",
    "print(mean, std_dev, 1 - game_distr.cdf(25))"
   ]
  }
 ],
 "metadata": {
  "kernelspec": {
   "display_name": "Python 3",
   "language": "python",
   "name": "python3"
  },
  "language_info": {
   "codemirror_mode": {
    "name": "ipython",
    "version": 3
   },
   "file_extension": ".py",
   "mimetype": "text/x-python",
   "name": "python",
   "nbconvert_exporter": "python",
   "pygments_lexer": "ipython3",
   "version": "3.6.4"
  }
 },
 "nbformat": 4,
 "nbformat_minor": 2
}
