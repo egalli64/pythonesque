{
 "cells": [
  {
   "cell_type": "markdown",
   "metadata": {},
   "source": [
    "# Fat Chance: Probability from the Ground Up\n",
    "## HarvardX -  FC1x\n",
    "## https://courses.edx.org/courses/course-v1:HarvardX+FC1x+1T2018/course/\n",
    "\n",
    "Week Three - Basic Probability"
   ]
  },
  {
   "cell_type": "code",
   "execution_count": 1,
   "metadata": {},
   "outputs": [],
   "source": [
    "from math import factorial\n",
    "from scipy.special import binom"
   ]
  },
  {
   "cell_type": "code",
   "execution_count": 2,
   "metadata": {},
   "outputs": [
    {
     "name": "stdout",
     "output_type": "stream",
     "text": [
      "0.3125\n"
     ]
    }
   ],
   "source": [
    "# Throwing a coin 6 times, chance of getting exactly 3H - 3T?\n",
    "outcomes = 2 ** 6  # 64\n",
    "heads_3_tails_3 = binom(6, 3)  # 20\n",
    "print(heads_3_tails_3 / outcomes)"
   ]
  },
  {
   "cell_type": "markdown",
   "metadata": {},
   "source": [
    "practice"
   ]
  },
  {
   "cell_type": "code",
   "execution_count": 3,
   "metadata": {},
   "outputs": [
    {
     "name": "stdout",
     "output_type": "stream",
     "text": [
      "0.2734375\n"
     ]
    }
   ],
   "source": [
    "# Throwing a coin 8 times, chance of getting exactly 4H - 4T?\n",
    "print(binom(8, 4) / (2 ** 8))"
   ]
  },
  {
   "cell_type": "code",
   "execution_count": 4,
   "metadata": {},
   "outputs": [
    {
     "name": "stdout",
     "output_type": "stream",
     "text": [
      "0.65625 True\n"
     ]
    }
   ],
   "source": [
    "# Throwing a coin 10 times, chance of getting H in [4 .. 6]?\n",
    "outcomes = 2 ** 10\n",
    "favs = binom(10, 4) + binom(10, 5) + binom(10, 6)\n",
    "print(favs / outcomes, favs == 2 * binom(10, 4) + binom(10, 5))"
   ]
  },
  {
   "cell_type": "markdown",
   "metadata": {},
   "source": [
    "## Six faced dice"
   ]
  },
  {
   "cell_type": "code",
   "execution_count": 5,
   "metadata": {},
   "outputs": [
    {
     "name": "stdout",
     "output_type": "stream",
     "text": [
      "0.38888888888888884\n",
      "0.125\n",
      "91 0.4212962962962963\n",
      "7776\n",
      "1250.0 0.16075102880658437\n",
      "480.0 0.06172839506172839\n"
     ]
    }
   ],
   "source": [
    "# 1 die -> 6 outcomes\n",
    "\n",
    "# 2 dice -> 36 outcomes in [2..12]\n",
    "# 2, single outcome: 1/36\n",
    "# 3, two outcomes = 2/36\n",
    "# 7, 6/36\n",
    "# 12, single outcome: 1/36\n",
    "\n",
    "# probability of getting 7, 11 or doubles:\n",
    "seven = 1 / 6\n",
    "eleven = 1 / 18\n",
    "doubles = 1 / 6\n",
    "print(seven + eleven + doubles)  # 7 / 18\n",
    "\n",
    "# 3 dice -> 216 outcomes\n",
    "three_dice = 6**3\n",
    "# sum 3 dice is 10\n",
    "# third die is [1..6], the first two should add to [4..9]\n",
    "# two dice adding up to [4, 5, 6, 7, 8, 9] outcomes are [3, 4, 5, 6, 5, 4] -> 27\n",
    "# e.g.: 4 -> (1,3), (2,2), (3,1)\n",
    "print(27 / three_dice)  # 1/8\n",
    "\n",
    "# 3 dice, at least one 6\n",
    "no_six = 5 ** 3\n",
    "favs = three_dice - no_six\n",
    "print(favs, favs / three_dice)\n",
    "\n",
    "# 5 dice, exactly two 6s\n",
    "outcomes = 6**5\n",
    "print(outcomes)\n",
    "# we should have 6 in two places:\n",
    "sixs = binom(5, 2)  # 10\n",
    "# whatever in [1..5] in three places:\n",
    "other = 5**3\n",
    "print(sixs * other, sixs * other / outcomes)\n",
    "\n",
    "# 5 dice, one 6 and two 1s\n",
    "ones = binom(5, 2)\n",
    "six = 3\n",
    "other = 4**2\n",
    "favs = six * ones * 4**2\n",
    "print(favs, favs / outcomes)"
   ]
  },
  {
   "cell_type": "markdown",
   "metadata": {},
   "source": [
    "Practice"
   ]
  },
  {
   "cell_type": "code",
   "execution_count": 6,
   "metadata": {},
   "outputs": [
    {
     "name": "stdout",
     "output_type": "stream",
     "text": [
      "0.32793209876543206\n"
     ]
    }
   ],
   "source": [
    "# 5 dice, at least one 1 and at least one 6\n",
    "outcomes = 6**5\n",
    "no_one = 5**5\n",
    "no_one_nor_six = 4**5\n",
    "print(1 - (no_one * 2 - no_one_nor_six) / outcomes)"
   ]
  },
  {
   "cell_type": "code",
   "execution_count": 7,
   "metadata": {},
   "outputs": [
    {
     "name": "stdout",
     "output_type": "stream",
     "text": [
      "0.004629629629629629\n",
      "0.08796296296296297\n",
      "0.7037037037037037\n"
     ]
    }
   ],
   "source": [
    "# 3 dice, score is the highest number on any dice\n",
    "outcomes = 6**3\n",
    "\n",
    "# score 1?\n",
    "print(1 / 6**3)\n",
    "\n",
    "# score 3?\n",
    "all_less_than_four = (1/2)**3\n",
    "all_less_than_three = (1/3)**3\n",
    "print(all_less_than_four - all_less_than_three)\n",
    "\n",
    "# score > 4?\n",
    "less_than_five = (2/3)**3\n",
    "print(1 - (2/3)**3)"
   ]
  },
  {
   "cell_type": "markdown",
   "metadata": {},
   "source": [
    "## Poker"
   ]
  },
  {
   "cell_type": "code",
   "execution_count": 8,
   "metadata": {},
   "outputs": [
    {
     "name": "stdout",
     "output_type": "stream",
     "text": [
      "2598960.0\n",
      "624 0.00024009603841536616\n",
      "3744.0 0.0014405762304921968\n",
      "58656.0 54912.0 0.02112845138055222\n"
     ]
    }
   ],
   "source": [
    "hands = binom(52, 5)\n",
    "print(hands)\n",
    "\n",
    "# four of a kind - fix a denomination, then a 'other' card\n",
    "four = 13 * 48\n",
    "print(four, four / hands)\n",
    "\n",
    "# full house\n",
    "three = 13 * binom(4, 3)  # fix a denomination, then a suit\n",
    "couple = 12 * binom(4, 2)  # a different denomination, then their suit\n",
    "full_house = three * couple\n",
    "print(full_house, full_house / hands)\n",
    "\n",
    "# three of a kind\n",
    "# three, as above\n",
    "other = binom(48, 2)  # other denomination\n",
    "trok_or_full = three * other\n",
    "trok = trok_or_full - full_house\n",
    "print(trok_or_full, trok, trok / hands)"
   ]
  },
  {
   "cell_type": "markdown",
   "metadata": {},
   "source": [
    "Practice"
   ]
  },
  {
   "cell_type": "code",
   "execution_count": 9,
   "metadata": {},
   "outputs": [
    {
     "name": "stdout",
     "output_type": "stream",
     "text": [
      "5148.0 0.0019807923169267707\n"
     ]
    }
   ],
   "source": [
    "# flush or straight flush\n",
    "flushes = 4 * binom(13, 5)\n",
    "print(flushes, flushes / hands)"
   ]
  },
  {
   "cell_type": "code",
   "execution_count": 12,
   "metadata": {},
   "outputs": [
    {
     "name": "stdout",
     "output_type": "stream",
     "text": [
      "111540.0 0.0429171668667467\n"
     ]
    }
   ],
   "source": [
    "# busted flush\n",
    "# choose a suit, than another one, then pick 4 cards from the first suit, and one from the second\n",
    "busted = 4 * 3 * binom(13, 4) * 13\n",
    "print(busted, busted / hands)"
   ]
  },
  {
   "cell_type": "markdown",
   "metadata": {},
   "source": [
    "## Bridge"
   ]
  },
  {
   "cell_type": "code",
   "execution_count": 17,
   "metadata": {
    "scrolled": true
   },
   "outputs": [
    {
     "name": "stdout",
     "output_type": "stream",
     "text": [
      "66905856160.0 0.10536130315413189\n",
      "136852887600.0 0.21551175645163342\n"
     ]
    }
   ],
   "source": [
    "bridge_hands = binom(52, 13)\n",
    "\n",
    "# probability of a 4,3,3,3 hand\n",
    "hand_4333 = 4 * binom(13, 4) * binom(13, 3) ** 3\n",
    "print(hand_4333, hand_4333/ bridge_hands)\n",
    "\n",
    "# probability of a 4,4,3,2 hand\n",
    "hand_4432 = binom(4, 2) * binom(13, 4) ** 2 * 2 * binom(13, 3) * binom(13, 2)\n",
    "print(hand_4432, hand_4432/ bridge_hands)"
   ]
  },
  {
   "cell_type": "markdown",
   "metadata": {},
   "source": [
    "Practice"
   ]
  },
  {
   "cell_type": "code",
   "execution_count": 21,
   "metadata": {},
   "outputs": [
    {
     "name": "stdout",
     "output_type": "stream",
     "text": [
      "19007345500.0 0.029932188396060197 True\n"
     ]
    }
   ],
   "source": [
    "# Birthday paradox: n = 23 chance is bigger than .5\n",
    "\n",
    "# probability of a 4,4,3,2 hand\n",
    "hand_4441 = binom(4, 3) * binom(13, 4) ** 3 * binom(13, 1)\n",
    "print(hand_4441, hand_4441/ bridge_hands, hand_4441 == 4 * binom(13, 4) ** 3 * 13)"
   ]
  },
  {
   "cell_type": "markdown",
   "metadata": {},
   "source": [
    "## Evaluation"
   ]
  },
  {
   "cell_type": "code",
   "execution_count": 22,
   "metadata": {},
   "outputs": [
    {
     "name": "stdout",
     "output_type": "stream",
     "text": [
      "0.234375\n"
     ]
    }
   ],
   "source": [
    "# coin: 6 flips, 4H2T\n",
    "outcomes = 2**6\n",
    "heads_4 = binom(6, 4)\n",
    "print(heads_4 / outcomes)"
   ]
  },
  {
   "cell_type": "code",
   "execution_count": 24,
   "metadata": {},
   "outputs": [
    {
     "name": "stdout",
     "output_type": "stream",
     "text": [
      "0.546875\n"
     ]
    }
   ],
   "source": [
    "# coin: 7 flips, 3H4T or 4H3T\n",
    "outcomes = 2**7\n",
    "heads_3_or_4 = binom(7, 3) + binom(7, 4)\n",
    "print(heads_3_or_4 / outcomes)"
   ]
  },
  {
   "cell_type": "code",
   "execution_count": 25,
   "metadata": {},
   "outputs": [
    {
     "name": "stdout",
     "output_type": "stream",
     "text": [
      "0.5\n"
     ]
    }
   ],
   "source": [
    "# coin: 7 flips, even number of H\n",
    "print(1/2)"
   ]
  },
  {
   "cell_type": "code",
   "execution_count": 42,
   "metadata": {},
   "outputs": [
    {
     "name": "stdout",
     "output_type": "stream",
     "text": [
      "0.03703703703703703 0.037037037037037035\n",
      "0.7037037037037037 0.7037037037037037\n"
     ]
    }
   ],
   "source": [
    "# Roll three dice, score is the highest number\n",
    "outcomes = 6**3\n",
    "\n",
    "# probability of scoring 1 or 2\n",
    "print((1/3)**3, 2**3 / 6**3)\n",
    "\n",
    "# probability of scoring > 4\n",
    "print(1 - (2/3)**3, (6**3 - 4**3) / 6**3)"
   ]
  },
  {
   "cell_type": "code",
   "execution_count": 43,
   "metadata": {},
   "outputs": [
    {
     "name": "stdout",
     "output_type": "stream",
     "text": [
      "0.0038580246913580245\n"
     ]
    }
   ],
   "source": [
    "# Roll four dice, sum is 5 or less\n",
    "# [1,1,1,1], [1,1,1,2]\n",
    "outcomes = 6**4\n",
    "print(5/outcomes)"
   ]
  },
  {
   "cell_type": "code",
   "execution_count": 44,
   "metadata": {},
   "outputs": [
    {
     "name": "stdout",
     "output_type": "stream",
     "text": [
      "9.23446301597562e-06\n"
     ]
    }
   ],
   "source": [
    "# Poker: chance of getting 3A2K\n",
    "outcomes = binom(52, 5)\n",
    "\n",
    "aces = binom(4, 3)\n",
    "kings = binom(4, 2)\n",
    "print(aces*kings/outcomes)"
   ]
  },
  {
   "cell_type": "code",
   "execution_count": 45,
   "metadata": {},
   "outputs": [
    {
     "name": "stdout",
     "output_type": "stream",
     "text": [
      "131560.0 0.05062024809923969\n"
     ]
    }
   ],
   "source": [
    "# poker: nearsighted flush, five cards same color\n",
    "ns_flushes = 2 * binom(26, 5)\n",
    "print(ns_flushes, ns_flushes / outcomes)"
   ]
  }
 ],
 "metadata": {
  "kernelspec": {
   "display_name": "Python 3",
   "language": "python",
   "name": "python3"
  },
  "language_info": {
   "codemirror_mode": {
    "name": "ipython",
    "version": 3
   },
   "file_extension": ".py",
   "mimetype": "text/x-python",
   "name": "python",
   "nbconvert_exporter": "python",
   "pygments_lexer": "ipython3",
   "version": "3.6.4"
  }
 },
 "nbformat": 4,
 "nbformat_minor": 2
}
