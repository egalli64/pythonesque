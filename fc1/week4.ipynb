{
 "cells": [
  {
   "cell_type": "markdown",
   "metadata": {},
   "source": [
    "# Fat Chance: Probability from the Ground Up\n",
    "## HarvardX -  FC1x\n",
    "## https://courses.edx.org/courses/course-v1:HarvardX+FC1x+1T2018/course/\n",
    "\n",
    "Week Four - Expected Value"
   ]
  },
  {
   "cell_type": "code",
   "execution_count": 1,
   "metadata": {},
   "outputs": [],
   "source": [
    "import numpy as np\n",
    "from math import factorial\n",
    "from scipy.special import binom"
   ]
  },
  {
   "cell_type": "code",
   "execution_count": 2,
   "metadata": {},
   "outputs": [
    {
     "name": "stdout",
     "output_type": "stream",
     "text": [
      "Expected value 0.8796296296296297 (less than the cost of 1)\n",
      "Expected value 1.0648148148148149 (good!)\n"
     ]
    }
   ],
   "source": [
    "# Expected value of a 3 dice bet that costs 1€, you get 2€ if one or two 6, 10€ for three 6\n",
    "outcomes = 6**3\n",
    "no_sixs = 5**3\n",
    "three_six = 1\n",
    "one_or_two_six = outcomes - no_sixs - 1\n",
    "\n",
    "gains = [(0 * no_sixs / outcomes), (2 * one_or_two_six / outcomes), (10 * 1 / outcomes)]    \n",
    "print('Expected value', sum(gains), '(less than the cost of 1)')\n",
    "\n",
    "# if three 6 are paid 50€\n",
    "gains[2] = (50 * 1 / outcomes)\n",
    "print('Expected value', sum(gains), '(good!)')"
   ]
  },
  {
   "cell_type": "code",
   "execution_count": 3,
   "metadata": {
    "scrolled": true
   },
   "outputs": [
    {
     "data": {
      "text/plain": [
       "0.6558641975308641"
      ]
     },
     "execution_count": 3,
     "metadata": {},
     "output_type": "execute_result"
    }
   ],
   "source": [
    "# Expected value of a 5 dice bet that costs 1\n",
    "# payoffs: 2 for three of a kind, 10 for four of a kind, 100 for five of a kind\n",
    "outcomes = 6 ** 5  # 7776\n",
    "\n",
    "# there is one 'five of a kind' for each 6 numbers\n",
    "five = 6 / outcomes\n",
    "payoff_5 = 100\n",
    "\n",
    "# there are 6 possible four of a kind\n",
    "# the one out is a choice of 5 among the 6 numbers, and could be in any 5 positions\n",
    "four = 6 * 5 * 5 / outcomes\n",
    "payoff_4 = 10\n",
    "\n",
    "# there are 6 possible three of a kind in the (5 3) positions\n",
    "# the two out are 5 * 5\n",
    "three = 6 * 10 * 5 * 5 / outcomes\n",
    "payoff_3 = 2\n",
    "\n",
    "expected_value = five * payoff_5 + four * payoff_4 + three * payoff_3\n",
    "expected_value"
   ]
  },
  {
   "cell_type": "markdown",
   "metadata": {},
   "source": [
    "Expected Value formula:\n",
    "\n",
    "EV = p1*a1 + p2*a2 + ... + pn*an\n",
    "\n",
    "1 = p1 + p2 + ... + pn"
   ]
  },
  {
   "cell_type": "markdown",
   "metadata": {},
   "source": [
    "practice"
   ]
  },
  {
   "cell_type": "code",
   "execution_count": 4,
   "metadata": {},
   "outputs": [
    {
     "name": "stdout",
     "output_type": "stream",
     "text": [
      "6.999999999999998\n",
      "7.0\n"
     ]
    }
   ],
   "source": [
    "# two dice, payoff is sum of numbers\n",
    "outcomes = [x for x in range(2, 13)]\n",
    "probability = [x/36 for x in range(1, 7)] + [x/36 for x in range(5, 0, -1)]\n",
    "print(np.sum(np.multiply(outcomes, probability)))\n",
    "\n",
    "# simpler, consider one die a time\n",
    "outcomes = [x for x in range(1, 7)]\n",
    "probability = [1/6] * 6\n",
    "print(2 * np.sum(np.multiply(outcomes, probability)))"
   ]
  },
  {
   "cell_type": "code",
   "execution_count": 5,
   "metadata": {},
   "outputs": [
    {
     "name": "stdout",
     "output_type": "stream",
     "text": [
      "1.0448816872427982\n"
     ]
    }
   ],
   "source": [
    "# 7 dice, five of a kind -> 50€, six of a kind -> 500€, seven of a kind -> 5000€\n",
    "outcomes = 6**7 # 279_936\n",
    "fives = 6 * binom(7, 5) * 5 * 5\n",
    "sixes = 6 * binom(7, 6) * 5\n",
    "sevens = 6\n",
    "\n",
    "gains = [50 * fives / outcomes, 500 * sixes / outcomes, 5000 * sevens / outcomes]\n",
    "print(sum(gains))"
   ]
  },
  {
   "cell_type": "markdown",
   "metadata": {},
   "source": [
    "## Slot machine"
   ]
  },
  {
   "cell_type": "code",
   "execution_count": 6,
   "metadata": {},
   "outputs": [
    {
     "name": "stdout",
     "output_type": "stream",
     "text": [
      "Expected value 0.9119999999999999 adding up [0.4   0.32  0.192 0.   ]\n"
     ]
    }
   ],
   "source": [
    "# choosing from a bell and four fruits\n",
    "# we could get 3 bells, 3 fruits, 2 bells, other\n",
    "outcomes = 5 ** 3\n",
    "probabilities = [1/outcomes, 4/outcomes, 1*4*3/outcomes, 108/outcomes]\n",
    "payoffs = np.multiply(probabilities, [50, 10, 2, 0])\n",
    "\n",
    "print('Expected value', sum(payoffs), 'adding up', payoffs)"
   ]
  },
  {
   "cell_type": "markdown",
   "metadata": {},
   "source": [
    "Practice"
   ]
  },
  {
   "cell_type": "code",
   "execution_count": 7,
   "metadata": {},
   "outputs": [
    {
     "name": "stdout",
     "output_type": "stream",
     "text": [
      "Expected value 5.294117647058823 adding up [2.94117647 2.35294118]\n"
     ]
    }
   ],
   "source": [
    "# EV for two cards, pair: 50€, flush: 10€\n",
    "outcomes = binom(52, 2)  # 52*51/2 = 1326\n",
    "pairs = 13 * binom(4, 2) # 13 * 6 = 78\n",
    "flushes = 4 * binom(13, 2) # 78 * 4 = 312\n",
    "probabilities = [pairs/outcomes, flushes/outcomes]\n",
    "payoffs = np.multiply(probabilities, [50, 10])\n",
    "print('Expected value', sum(payoffs), 'adding up', payoffs)"
   ]
  },
  {
   "cell_type": "code",
   "execution_count": 8,
   "metadata": {},
   "outputs": [
    {
     "name": "stdout",
     "output_type": "stream",
     "text": [
      "Expected value 0.4256559766763849 adding up [0.14577259 0.17492711 0.10495627]\n"
     ]
    },
    {
     "data": {
      "text/plain": [
       "146"
      ]
     },
     "execution_count": 8,
     "metadata": {},
     "output_type": "execute_result"
    }
   ],
   "source": [
    "# EV for a slot machine\n",
    "# 7 pictures, 1 bell, 6 fruits\n",
    "# 3 bells -> 50€, 3 fruits -> 10€, 2 bells + 1 fruit -> 2€\n",
    "outcomes = 7**3  # 343\n",
    "probabilities = [1/outcomes, 6/outcomes, 1*6*3/outcomes]\n",
    "payoffs = np.multiply(probabilities, [50, 10, 2])\n",
    "print('Expected value', sum(payoffs), 'adding up', payoffs)\n",
    "\n",
    "50 + 60 + 36"
   ]
  },
  {
   "cell_type": "markdown",
   "metadata": {},
   "source": [
    "## Strategizing"
   ]
  },
  {
   "cell_type": "code",
   "execution_count": 9,
   "metadata": {},
   "outputs": [
    {
     "name": "stdout",
     "output_type": "stream",
     "text": [
      "7.6923076923076925 9.615384615384615 10.0\n"
     ]
    }
   ],
   "source": [
    "# choose the best alternative\n",
    "# game a: get a card, A -> 100, otherwise 0\n",
    "exp_val_a = 100 * 1 / 13\n",
    "\n",
    "# game b: A -> 50, face -> 25\n",
    "exp_val_b = (50 * 1 / 13) + (25 * 3 / 13)\n",
    "\n",
    "# game c: face -> 25, other -> value\n",
    "exp_val_c = (25 * 3 / 13) + (55/13) # sum(1..10) = 55\n",
    "\n",
    "print(exp_val_a, exp_val_b, exp_val_c)"
   ]
  },
  {
   "cell_type": "code",
   "execution_count": 10,
   "metadata": {},
   "outputs": [
    {
     "name": "stdout",
     "output_type": "stream",
     "text": [
      "1666.6666666666667 2500.0 2824.074074074074\n",
      "1: 1667\n",
      "2: 2500\n",
      "3: 2824\n",
      "4: 2847\n",
      "5: 2702\n",
      "6: 2471\n",
      "7: 2206\n",
      "8: 1935\n",
      "9: 1678\n"
     ]
    }
   ],
   "source": [
    "# pay 3,000 to throw dices -> one six, no '1' -> 10,000\n",
    "# how many dice to optimize chances?\n",
    "prize = 10000\n",
    "\n",
    "# 1 die\n",
    "ev_1 = prize / 6\n",
    "\n",
    "# 2 dice\n",
    "wins = 1 + binom(2, 1) * 4  # 9\n",
    "ev_2 = wins/6**2 * prize\n",
    "\n",
    "# 3 dice\n",
    "wins = 1 + binom(3, 2) * 4 + binom(3, 1) * 4**2  # 1 + 12 + 48 = 61\n",
    "ev_3 = wins/6**3 * prize\n",
    "\n",
    "print(ev_1, ev_2, ev_3)\n",
    "\n",
    "# n dice\n",
    "# outcomes = 6**n\n",
    "# no_ones = 5**n\n",
    "# no_ones_no_sixes = 4**n\n",
    "# wins = 5**n - 4**n\n",
    "# EVn = prize * wins / outcomes\n",
    "\n",
    "# max at n == 4\n",
    "for i in range(1, 10):\n",
    "    print('{}: {:.0f}'.format(i, prize * (5**i - 4**i) / 6**i))"
   ]
  },
  {
   "cell_type": "markdown",
   "metadata": {},
   "source": [
    "Practice"
   ]
  },
  {
   "cell_type": "code",
   "execution_count": 16,
   "metadata": {},
   "outputs": [
    {
     "name": "stdout",
     "output_type": "stream",
     "text": [
      "10.76923076923077 10.384615384615383\n"
     ]
    },
    {
     "data": {
      "text/plain": [
       "(10.76923076923077, 10.384615384615385)"
      ]
     },
     "execution_count": 16,
     "metadata": {},
     "output_type": "execute_result"
    }
   ],
   "source": [
    "# game 1: one card, face -> 10, otherwise -> 2 * number\n",
    "exp_val_1 = 10 * 3/13 + 2 * 55/13\n",
    "\n",
    "# game 2: face -> 20, otherwise -> 10 if even else 5\n",
    "exp_val_2 = 20 * 3/13 + (50 + 25)/13\n",
    "\n",
    "print(exp_val_1, exp_val_2)"
   ]
  },
  {
   "cell_type": "code",
   "execution_count": 15,
   "metadata": {},
   "outputs": [
    {
     "name": "stdout",
     "output_type": "stream",
     "text": [
      "1: 3333\n",
      "2: 4444\n",
      "3: 4537\n",
      "4: 4198\n",
      "5: 3706\n",
      "6: 3193\n",
      "7: 2713\n",
      "8: 2287\n",
      "9: 1919\n",
      "Expected value: 1537.0370370370374\n"
     ]
    }
   ],
   "source": [
    "# dice game: pay 3000, win 10000 if 5 or 6 and no 1\n",
    "\n",
    "# n dice\n",
    "prize = 10000\n",
    "# outcomes = 6**n\n",
    "# no_ones = 5**n\n",
    "# no_ones_no_six_five = 3**n\n",
    "# EVn = prize * wins / outcomes\n",
    "\n",
    "# max at n == 3\n",
    "for i in range(1, 10):\n",
    "    print('{}: {:.0f}'.format(i, prize * (5**i - 3**i) / 6**i))\n",
    "\n",
    "print('Expected value:', (prize * (5**3 - 3**3) / 6**3) - 3000)"
   ]
  },
  {
   "cell_type": "markdown",
   "metadata": {},
   "source": [
    "## Evaluation"
   ]
  },
  {
   "cell_type": "code",
   "execution_count": 22,
   "metadata": {},
   "outputs": [
    {
     "name": "stdout",
     "output_type": "stream",
     "text": [
      "10.76923076923077\n",
      "10.76923076923077\n"
     ]
    }
   ],
   "source": [
    "# 1 card from 52, get 10€ for face, number * 2 otherwise.\n",
    "# Expected value?\n",
    "print(10 * 3/13 + 2 * 55/13)\n",
    "\n",
    "# 3/13 * 10 + 1/13 * 2 + 1/13 * 4 + ... + 1/13 * 20)\n",
    "numbers = sum([x/13 for x in range(2, 21, 2)])\n",
    "print(3/13 * 10 + numbers)"
   ]
  },
  {
   "cell_type": "code",
   "execution_count": 23,
   "metadata": {},
   "outputs": [
    {
     "name": "stdout",
     "output_type": "stream",
     "text": [
      "10.384615384615383\n"
     ]
    }
   ],
   "source": [
    "# 1 card from 52, 20 for face, 10 even number, 5 odd number\n",
    "print(20 * 3/13 + (50 + 25)/13)"
   ]
  },
  {
   "cell_type": "code",
   "execution_count": 24,
   "metadata": {},
   "outputs": [
    {
     "name": "stdout",
     "output_type": "stream",
     "text": [
      "Expected value 5.294117647058823 adding up [2.94117647 2.35294118]\n"
     ]
    }
   ],
   "source": [
    "# 2 cards from 52, 50 for pair, 10 for flush\n",
    "outcomes = binom(52, 2)  # 52*51/2 = 1326\n",
    "pairs = 13 * binom(4, 2) # 13 * 6 = 78\n",
    "flushes = 4 * binom(13, 2) # 78 * 4 = 312\n",
    "probabilities = [pairs/outcomes, flushes/outcomes]\n",
    "payoffs = np.multiply(probabilities, [50, 10])\n",
    "print('Expected value', sum(payoffs), 'adding up', payoffs)\n",
    "\n",
    "# (13 * (4 2) * 50) / (52 2)) + (4 * (13 2) * 10  / (52 2))"
   ]
  },
  {
   "cell_type": "code",
   "execution_count": 36,
   "metadata": {},
   "outputs": [
    {
     "name": "stdout",
     "output_type": "stream",
     "text": [
      "Expected value 0.808\n"
     ]
    },
    {
     "data": {
      "text/plain": [
       "0.808"
      ]
     },
     "execution_count": 36,
     "metadata": {},
     "output_type": "execute_result"
    }
   ],
   "source": [
    "# slot machine, 3 reels, 1 bell, 4 fruits. 25€ for 3 bells, 10€ 3 same fruit, 3€ 2 bells and a fruit\n",
    "outcomes = 5 ** 3\n",
    "probabilities = [1/outcomes, 4/outcomes, 1*4*3/outcomes]\n",
    "payoffs = np.multiply(probabilities, [25, 10, 3])\n",
    "\n",
    "print('Expected value', sum(payoffs))\n",
    "1/5**3 * 25 + 4/5**3 * 10 + 12/5**3 * 3"
   ]
  },
  {
   "cell_type": "code",
   "execution_count": 42,
   "metadata": {},
   "outputs": [
    {
     "name": "stdout",
     "output_type": "stream",
     "text": [
      "Expected value 10.64\n"
     ]
    },
    {
     "data": {
      "text/plain": [
       "10.64"
      ]
     },
     "execution_count": 42,
     "metadata": {},
     "output_type": "execute_result"
    }
   ],
   "source": [
    "# same slot machine, 50€ for 3 bells, 20€ no bells\n",
    "outcomes = 5**3\n",
    "probabilities = [1/outcomes, 4**3/outcomes]\n",
    "print('Expected value', sum(np.multiply(probabilities, [50, 20])))\n",
    "\n",
    "1/5**3 * 50 + 4**3/5**3 * 20"
   ]
  },
  {
   "cell_type": "code",
   "execution_count": 43,
   "metadata": {},
   "outputs": [
    {
     "name": "stdout",
     "output_type": "stream",
     "text": [
      "Expected value 0.6018518518518519\n"
     ]
    },
    {
     "data": {
      "text/plain": [
       "0.6018518518518519"
      ]
     },
     "execution_count": 43,
     "metadata": {},
     "output_type": "execute_result"
    }
   ],
   "source": [
    "# same slot machine, but 5 fruits. 50 for 3 bells, 10 for 3 same fruit, 2 for 2 bells\n",
    "outcomes = 6**3\n",
    "\n",
    "probabilities = [1/outcomes, 5/outcomes, 1*5*3/outcomes]\n",
    "payoffs = np.multiply(probabilities, [50, 10, 2])\n",
    "\n",
    "print('Expected value', sum(payoffs))\n",
    "1/6**3 * 50 + 5/6**3 * 10 + 15/6**3 * 2"
   ]
  },
  {
   "cell_type": "code",
   "execution_count": 47,
   "metadata": {},
   "outputs": [
    {
     "name": "stdout",
     "output_type": "stream",
     "text": [
      "1.0448816872427984\n"
     ]
    },
    {
     "data": {
      "text/plain": [
       "True"
      ]
     },
     "execution_count": 47,
     "metadata": {},
     "output_type": "execute_result"
    }
   ],
   "source": [
    "# seven dice, seven of a kind: 5000€, six of a kind: 500€, five of a kind: 50€\n",
    "outcomes = 6**7 # 279_936\n",
    "\n",
    "# 7 dice, five of a kind -> 50€, six of a kind -> 500€, seven of a kind -> 5000€\n",
    "sevens = 6\n",
    "sixes = 6 * binom(7, 6) * 5  # 7*6*5\n",
    "fives = 6 * binom(7, 5) * 5 * 5 # (7 5) == (7 2)\n",
    "\n",
    "print(sevens / outcomes * 5000 + sixes / outcomes * 500 + fives / outcomes * 50)"
   ]
  },
  {
   "cell_type": "code",
   "execution_count": 53,
   "metadata": {},
   "outputs": [
    {
     "name": "stdout",
     "output_type": "stream",
     "text": [
      "1: 0.17\n",
      "2: 0.19\n",
      "3: 0.17\n",
      "4: 0.14\n",
      "5: 0.10\n",
      "6: 0.07\n",
      "7: 0.05\n",
      "8: 0.04\n",
      "9: 0.02\n"
     ]
    }
   ],
   "source": [
    "# n dice, win if at least one 6 and no 1 or 2.\n",
    "\n",
    "# outcomes = 6**n\n",
    "# no_1_2 = 4**n\n",
    "# no_1_2_no_6 = 3**n\n",
    "# wins = (no_1_2 - no_1_2_no_6)\n",
    "# EVn = prize * wins / outcomes\n",
    "\n",
    "for i in range(1, 10):\n",
    "    print('{}: {:.2f}'.format(i, (4**i - 3**i) / 6**i))"
   ]
  }
 ],
 "metadata": {
  "kernelspec": {
   "display_name": "Python 3",
   "language": "python",
   "name": "python3"
  },
  "language_info": {
   "codemirror_mode": {
    "name": "ipython",
    "version": 3
   },
   "file_extension": ".py",
   "mimetype": "text/x-python",
   "name": "python",
   "nbconvert_exporter": "python",
   "pygments_lexer": "ipython3",
   "version": "3.6.4"
  }
 },
 "nbformat": 4,
 "nbformat_minor": 2
}
