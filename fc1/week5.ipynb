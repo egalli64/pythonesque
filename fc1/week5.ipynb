{
 "cells": [
  {
   "cell_type": "markdown",
   "metadata": {},
   "source": [
    "# Fat Chance: Probability from the Ground Up\n",
    "## HarvardX -  FC1x\n",
    "## https://courses.edx.org/courses/course-v1:HarvardX+FC1x+1T2018/course/\n",
    "\n",
    "Week Five - Conditional Probability"
   ]
  },
  {
   "cell_type": "code",
   "execution_count": 1,
   "metadata": {},
   "outputs": [],
   "source": [
    "import numpy as np\n",
    "from math import factorial\n",
    "from scipy.special import binom"
   ]
  },
  {
   "cell_type": "markdown",
   "metadata": {},
   "source": [
    "5.1 Lesson: The Monty Hall Game"
   ]
  },
  {
   "cell_type": "code",
   "execution_count": 2,
   "metadata": {},
   "outputs": [],
   "source": [
    "# three doors, one car, two goats.\n",
    "car = 1/3\n",
    "goat = 2/3\n",
    "\n",
    "# after choosing, you are showed a goat, you can change door\n",
    "# keep the original door, or change?\n",
    "\n",
    "\n",
    "# instead of 3 doors, let's say we have n dooors\n",
    "n = 10\n",
    "car = 1/n\n",
    "goat = (n-1)/n\n",
    "# swap\n",
    "win_if_swap = 1/(n-2)\n",
    "win_after_swap = (n-1)/(n-2) * 1/n\n",
    "# since (n-1)/(n-2) > 1, it's always good swapping"
   ]
  },
  {
   "cell_type": "markdown",
   "metadata": {},
   "source": [
    "Conditional probability\n",
    "\n",
    "Probability of a result at the second step depends of what happened at the first step"
   ]
  },
  {
   "cell_type": "code",
   "execution_count": 3,
   "metadata": {},
   "outputs": [
    {
     "name": "stdout",
     "output_type": "stream",
     "text": [
      "True\n",
      "0.225\n",
      "0.225\n"
     ]
    }
   ],
   "source": [
    "# Monty Hall first step: choose a door\n",
    "k = 2\n",
    "n = 10\n",
    "\n",
    "pa = k/n # car\n",
    "pb = (n-k)/n # goat\n",
    "print(pa + pb == 1)\n",
    "\n",
    "# not switching, probability stays k/n. What if we switch?\n",
    "pw_assuming_a = (k-1)/(n-2) * k/n\n",
    "pw_assuming_b = (k/(n-2))*((n-k)/n)\n",
    "pw = pw_assuming_a + pw_assuming_b\n",
    "print(pw)\n",
    "pw = k/n * (n-1)/(n-2) # the second factor is always > 1 -> switching is good\n",
    "print(pw)\n"
   ]
  },
  {
   "cell_type": "markdown",
   "metadata": {},
   "source": [
    "Practice"
   ]
  },
  {
   "cell_type": "code",
   "execution_count": 4,
   "metadata": {},
   "outputs": [
    {
     "name": "stdout",
     "output_type": "stream",
     "text": [
      "0.2 0.8\n"
     ]
    },
    {
     "data": {
      "text/plain": [
       "(0.875, 0.75, 0.175, 0.6)"
      ]
     },
     "execution_count": 4,
     "metadata": {},
     "output_type": "execute_result"
    }
   ],
   "source": [
    "# a = car, b = goat\n",
    "pa = k/n\n",
    "pb = (n-k)/n\n",
    "print(pa, pb)\n",
    "\n",
    "# losing if initially car and then swap\n",
    "pl_assuming_a = ((n-2)-(k-1))/(n-2)\n",
    "pl_assuming_a = (n-k-1)/(n-2)\n",
    "\n",
    "# losing if initially goat and then swap\n",
    "pl_assuming_b = ((n-2) - k)/(n-2)\n",
    "pl_assuming_b = (n-k-2)/(n-2)\n",
    "\n",
    "# losing and initially selecting car\n",
    "pl_a = pa * pl_assuming_a\n",
    "pl_a = k/n * (n-k-1)/(n-2)\n",
    "pl_a = k * (n-k-1)/(n*(n-2))\n",
    "\n",
    "# losing and initially selecting goat\n",
    "pl_b = pb * pl_assuming_b\n",
    "pl_b = (n-k)/n * (n-k-2)/(n-2)\n",
    "pl_b = (n-k)*(n-k-2)/(n*(n-2))\n",
    "\n",
    "pl_assuming_a, pl_assuming_b, pl_a, pl_b"
   ]
  },
  {
   "cell_type": "code",
   "execution_count": 5,
   "metadata": {},
   "outputs": [
    {
     "data": {
      "text/plain": [
       "0.775"
      ]
     },
     "execution_count": 5,
     "metadata": {},
     "output_type": "execute_result"
    }
   ],
   "source": [
    "# probability of losing if always switch\n",
    "pl = pl_a + pl_b\n",
    "pl = k * (n-k-1)/(n*(n-2)) + (n-k)*(n-k-2)/(n*(n-2))\n",
    "pl = (n**2 -2*n -k*(n-1)) / (n*(n-2))\n",
    "pl"
   ]
  },
  {
   "cell_type": "markdown",
   "metadata": {},
   "source": [
    "5.2 Lesson: Conditional Probability: Set-Up and Examples\n",
    "\n",
    "Probability of W: P(W) = P(A) x P(W assuming A) + P(B) x P(W assuming B)"
   ]
  },
  {
   "cell_type": "markdown",
   "metadata": {},
   "source": [
    "Practice"
   ]
  },
  {
   "cell_type": "code",
   "execution_count": 6,
   "metadata": {},
   "outputs": [
    {
     "data": {
      "text/plain": [
       "(0.23529411764705882, 0.14479638009049775)"
      ]
     },
     "execution_count": 6,
     "metadata": {},
     "output_type": "execute_result"
    }
   ],
   "source": [
    "# playing two-card poker:\n",
    "\n",
    "# odds of getting a mini-flush\n",
    "pmf = 12/51\n",
    "\n",
    "# odds of getting a mini-straight\n",
    "pms = 12 * 4 * 4 / binom(52, 2)\n",
    "\n",
    "pmf, pms"
   ]
  },
  {
   "cell_type": "code",
   "execution_count": 7,
   "metadata": {},
   "outputs": [
    {
     "data": {
      "text/plain": [
       "(0.15384615384615385, 0.15384615384615385, 0.25)"
      ]
     },
     "execution_count": 7,
     "metadata": {},
     "output_type": "execute_result"
    }
   ],
   "source": [
    "# odds that you have a mini-straight, assuming you have a mini-flush\n",
    "pms_f_ = 12 / binom(13, 2)\n",
    "pms_f = 2 / 13\n",
    "\n",
    "# odds that you have a mini-flush, assuming you have a mini-straight\n",
    "pmf_s = 1/4\n",
    "\n",
    "pms_f, pms_f_, pmf_s"
   ]
  },
  {
   "cell_type": "code",
   "execution_count": 8,
   "metadata": {},
   "outputs": [
    {
     "name": "stdout",
     "output_type": "stream",
     "text": [
      "Positively correlation between flush and straight? True\n"
     ]
    }
   ],
   "source": [
    "# correlation\n",
    "print('Positively correlation between flush and straight?', pms_f > pms)"
   ]
  },
  {
   "cell_type": "markdown",
   "metadata": {},
   "source": [
    "5.3 Lesson: Conditional Probability: Elections\n",
    "\n",
    "Bayes' law\n",
    "\n",
    "P(L assuming N) x P(N) = P(N assuming L) x P(L)"
   ]
  },
  {
   "cell_type": "markdown",
   "metadata": {},
   "source": [
    "2/5 human are dirt = P(D assuming H)\n",
    "\n",
    "9/10 zombies are dirt = P(D assuming Z)\n",
    "\n",
    "1/5 adults are zombies\n",
    "\n",
    "4/5 adults are human\n",
    "\n",
    "a guy is dirt, chance of being a zombie?\n",
    "\n",
    "\n",
    "asked for P(Z assuming D)\n",
    "\n",
    "Bayes: P(Z assuming D) = P(D and Z) / P(Z)\n",
    "\n",
    "P(D assuming Z) = 9/10\n",
    "\n",
    "P(Z) = 1/5\n",
    "\n",
    "P(H) = 4/5\n",
    "\n",
    "P(D and Z) = 1/5 * 9/10 = 9/50\n",
    "\n",
    "P(D) = P(D and Z) + P(D and H)\n",
    "\n",
    "P(D) = 9/50 + P(H) * P(D assuming H)\n",
    "\n",
    "P(D) = 9/50 + 4/5 * 2/5 = 1/2\n",
    "\n",
    "From Bayes: P(Z assuming D) = P(D and Z) / P(D)"
   ]
  },
  {
   "cell_type": "code",
   "execution_count": 9,
   "metadata": {},
   "outputs": [
    {
     "data": {
      "text/plain": [
       "True"
      ]
     },
     "execution_count": 9,
     "metadata": {},
     "output_type": "execute_result"
    }
   ],
   "source": [
    "9/50 * 2 == 9 / 25"
   ]
  },
  {
   "cell_type": "markdown",
   "metadata": {},
   "source": [
    "Patient positive to a test with 99% reliability, only 1% of population is sick.\n",
    "\n",
    "On which probability is he really sick?\n",
    "\n",
    "P(Sick assuming Pos) x P(Sick) = P(Pos assuming Sick) x P(Pos)\n",
    "\n",
    "P(Sick assuming Pos) = P(Pos assuming Sick) x P(Pos) / P(Sick) = _P(Pos and Sick) / P(Pos)_\n",
    "\n",
    "P(Pos assuming Sick) = 99 / 100\n",
    "\n",
    "P(Sick) = 1/100\n",
    "\n",
    "P(Pos and Sick) = 99/100 * 1/100 = 99/10000\n",
    "\n",
    "P(Pos assming Healty) = 1/100\n",
    "\n",
    "P(Healty) = 1 - P(Sick) = 99/100\n",
    "\n",
    "P(Pos and Healty) = 1/100 * 99/100 = 99/10000\n",
    "\n",
    "P(Pos) = P(Pos and Sick) + P(Pos and Healty) = 2 * 99/10000\n",
    "\n",
    "(§) 99/10000 / 2* 99/10000 = 1/2"
   ]
  },
  {
   "cell_type": "markdown",
   "metadata": {},
   "source": [
    "Evaluation"
   ]
  },
  {
   "cell_type": "code",
   "execution_count": 10,
   "metadata": {},
   "outputs": [
    {
     "data": {
      "text/plain": [
       "0.75"
      ]
     },
     "execution_count": 10,
     "metadata": {},
     "output_type": "execute_result"
    }
   ],
   "source": [
    "# 2 coins: 1 fair, 1 both sides are H\n",
    "# 1 flip: chance of H?\n",
    "\n",
    "# F = fair, T = trick\n",
    "PF = 1/2\n",
    "PT = 1/2\n",
    "PH_F = 1/2\n",
    "PH_T = 1\n",
    "\n",
    "PH = PF * PH_F + PT * PH_T\n",
    "PH"
   ]
  },
  {
   "cell_type": "code",
   "execution_count": 11,
   "metadata": {},
   "outputs": [
    {
     "data": {
      "text/plain": [
       "0.3333333333333333"
      ]
     },
     "execution_count": 11,
     "metadata": {},
     "output_type": "execute_result"
    }
   ],
   "source": [
    "# 2 coins: 1 fair, 1 both sides are H\n",
    "# 1 flip: get H, chance it was fair coin?\n",
    "\n",
    "outcomes_heads = 3\n",
    "outcomes_heads_assuming_fair = 1\n",
    "outcomes_heads_assuming_fair / outcomes_heads"
   ]
  },
  {
   "cell_type": "code",
   "execution_count": 12,
   "metadata": {},
   "outputs": [
    {
     "data": {
      "text/plain": [
       "(0.5, 0.375)"
      ]
     },
     "execution_count": 12,
     "metadata": {},
     "output_type": "execute_result"
    }
   ],
   "source": [
    "# 75% of households w/ annual income > 100,000 own SUV\n",
    "# 25% of < 100,000 own SUV\n",
    "# in the country 25% of household > 100,000\n",
    "# odds SUV driver has household income > 100,000?\n",
    "\n",
    "# P(L assuming N) x P(N) = P(N assuming L) x P(L)\n",
    "\n",
    "# P(Rich assuming SUV) x P(SUV) = P(SUV assuming Rich) x P(Rich)\n",
    "# P(Rich assuming SUV) = P(SUV assuming Rich) x P(Rich) / P(SUV) = P(SUV and Rich) / P(SUV)\n",
    "PS_R = 3/4\n",
    "PS_NR = 1/4\n",
    "PR = 1/4\n",
    "PNR = 3/4\n",
    "PS = PS_R * PR + PS_NR * PNR # 3/4 * 1/4 + 1/4 * 3/4 = 6/16 = 3/8 \n",
    "PR_S = PS / PS_R\n",
    "PR_S, PS"
   ]
  },
  {
   "cell_type": "code",
   "execution_count": 13,
   "metadata": {},
   "outputs": [
    {
     "name": "stdout",
     "output_type": "stream",
     "text": [
      "0.16666666666666666\n",
      "0.17176470588235293\n",
      "0.12\n"
     ]
    }
   ],
   "source": [
    "# three-card poker, deck 52 cards\n",
    "\n",
    "# odds of getting a pair?\n",
    "# it's about 1/6. So, shamelessly cheating:\n",
    "print(1/6)\n",
    "print(22776/132600)\n",
    "\n",
    "# your first two cards are of different denominations, odds of getting a pair?\n",
    "# 6 cards from 50 are ok\n",
    "print(6/50)"
   ]
  }
 ],
 "metadata": {
  "kernelspec": {
   "display_name": "Python 3",
   "language": "python",
   "name": "python3"
  },
  "language_info": {
   "codemirror_mode": {
    "name": "ipython",
    "version": 3
   },
   "file_extension": ".py",
   "mimetype": "text/x-python",
   "name": "python",
   "nbconvert_exporter": "python",
   "pygments_lexer": "ipython3",
   "version": "3.6.4"
  }
 },
 "nbformat": 4,
 "nbformat_minor": 2
}
