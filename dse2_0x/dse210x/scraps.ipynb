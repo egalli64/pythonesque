{
 "cells": [
  {
   "cell_type": "markdown",
   "metadata": {},
   "source": [
    "UCSanDiegoX: DSE210x\n",
    "\n",
    "Probability and Statistics in Data Science using Python"
   ]
  },
  {
   "cell_type": "code",
   "execution_count": null,
   "metadata": {},
   "outputs": [],
   "source": [
    "import math\n",
    "import itertools\n",
    "from scipy.special import binom"
   ]
  },
  {
   "cell_type": "markdown",
   "metadata": {},
   "source": [
    "Topic 3"
   ]
  },
  {
   "cell_type": "code",
   "execution_count": null,
   "metadata": {},
   "outputs": [],
   "source": [
    "# The NBA Final is a best-of-seven game series.\n",
    "# The team who first get 4 wins win the championship.\n",
    "# How many possible win sequences do we have?\n",
    "total = 0\n",
    "\n",
    "for i in range(4,8):\n",
    "    combinations = itertools.product(['A','B'], repeat = i)\n",
    "    for e in combinations:\n",
    "        if(e.count('A') == 4 and e[-1] == 'A') or (e.count('B') == 4 and e[-1] == 'B'):\n",
    "            total+=1\n",
    "print(total)"
   ]
  },
  {
   "cell_type": "code",
   "execution_count": null,
   "metadata": {},
   "outputs": [],
   "source": [
    "# How many positive divisors does 2016 have?\n",
    "divisors = 0\n",
    "for i in range(1, 2017):\n",
    "    if 2016 % i == 0:\n",
    "        divisors += 1\n",
    "print(divisors)\n",
    "\n",
    "# being 2016 = 2**5 * 3**2 * 7\n",
    "print(6 * 3 * 2)"
   ]
  },
  {
   "cell_type": "code",
   "execution_count": null,
   "metadata": {},
   "outputs": [],
   "source": [
    "# q1 union\n",
    "a = {-2, 0, 5, 'bob'}\n",
    "b = {-2, 0, 5, 10, 'jill'}\n",
    "print(a.union(b), a | b, len(a | b))"
   ]
  },
  {
   "cell_type": "code",
   "execution_count": null,
   "metadata": {},
   "outputs": [],
   "source": [
    "# q2 inclusion-exclusion\n",
    "print(a.intersection(b), (a & b))\n",
    "print(a.union(b) - a.intersection(b), (a | b) - (a & b))\n",
    "\n",
    "\n",
    "def inclusion_exclusion(A, B):\n",
    "    # a silly function where\n",
    "    # input: A and B are of type 'set'\n",
    "    # output: a tuple of four integers\n",
    "    return len(A), len(B), len(A&B), len(A|B)\n",
    "\n",
    "print(inclusion_exclusion(a, b))"
   ]
  },
  {
   "cell_type": "code",
   "execution_count": null,
   "metadata": {},
   "outputs": [],
   "source": [
    "# q3\n",
    "c = {-2, 0, 3, 5, 10}\n",
    "\n",
    "\n",
    "def union3(A, B, C):\n",
    "    # input: A, B and C are of type 'set'\n",
    "    # output: a tuple of the type (set, set_length)\n",
    "    D = (A | B | C)\n",
    "    return D, len(D)\n",
    "\n",
    "union3(a, b, c)"
   ]
  },
  {
   "cell_type": "code",
   "execution_count": null,
   "metadata": {},
   "outputs": [],
   "source": [
    "# q4\n",
    "def inclusion_exclusion3(A, B, C):\n",
    "    # input: A, B and C are of type 'set'\n",
    "    # output: a tuple of two integers\n",
    "    D = A & B & C\n",
    "    E = A | B | C\n",
    "    return len(D), len(E)\n",
    "\n",
    "inclusion_exclusion3(a, b, c)"
   ]
  },
  {
   "cell_type": "markdown",
   "metadata": {},
   "source": [
    "Topic 4: Combinatorics"
   ]
  },
  {
   "cell_type": "code",
   "execution_count": null,
   "metadata": {},
   "outputs": [],
   "source": [
    "# Permutations\n",
    "a = {1, 2, 3}\n",
    "\n",
    "print(\"The {} permutations of {}:\".format(math.factorial(len(a)), a))\n",
    "for x in itertools.permutations(a):\n",
    "    print(x)"
   ]
  },
  {
   "cell_type": "code",
   "execution_count": null,
   "metadata": {},
   "outputs": [],
   "source": [
    "# Partial Permutation\n",
    "a = {1, 2, 3, 4}\n",
    "k = 3\n",
    "\n",
    "print('n! / (n-k)! = {:.0f}'.format(math.factorial(len(a)) / math.factorial(len(a)-k)))\n",
    "print(\"{}-permutations of {}:\".format(k, a))\n",
    "for x in itertools.permutations(a, k):\n",
    "    print(x)"
   ]
  },
  {
   "cell_type": "code",
   "execution_count": null,
   "metadata": {},
   "outputs": [],
   "source": [
    "# Combinations\n",
    "a = {1, 2, 3, 4}\n",
    "k = 2\n",
    "\n",
    "print('n! / (k! * (n-k)!) = {:.0f}'\n",
    "      .format(math.factorial(len(a)) / (math.factorial(k) * math.factorial(len(a)-k))))\n",
    "\n",
    "print('{}-combinations of {}:'.format(k, a))\n",
    "for x in itertools.combinations(a, k):\n",
    "    print(x)"
   ]
  },
  {
   "cell_type": "code",
   "execution_count": null,
   "metadata": {},
   "outputs": [],
   "source": [
    "a = {'a', 'b', 'c', 'q'}\n",
    "k = 3\n",
    "\n",
    "print('{}-permutations of {}:'.format(k, a))\n",
    "for x in itertools.permutations(a, k):\n",
    "    print(''.join(x))\n",
    "\n",
    "print('{}-combinations of {}:'.format(k, a))\n",
    "for x in itertools.combinations(a, k):\n",
    "    print(''.join(x))"
   ]
  },
  {
   "cell_type": "code",
   "execution_count": null,
   "metadata": {},
   "outputs": [],
   "source": [
    "# (n (n-1))\n",
    "for x in itertools.combinations([1, 2, 3, 4, 5, 6], 1):\n",
    "    print(x)"
   ]
  },
  {
   "cell_type": "markdown",
   "metadata": {},
   "source": [
    "Given {1,2,3,4,5,6,7}\n",
    "\n",
    "Q: How many subsets? A: 2 ** 7\n",
    "\n",
    "Q: How many 3-subsets? A: 7! / (4! 3!) = 765 / 32 = 35\n",
    "\n",
    "Q: How many 3-subsets w/ 1 in it? A: 6! / 4! 2! = 65/2 = 15"
   ]
  },
  {
   "cell_type": "markdown",
   "metadata": {},
   "source": [
    "Topic 6: Conditional Probability"
   ]
  },
  {
   "cell_type": "code",
   "execution_count": null,
   "metadata": {},
   "outputs": [],
   "source": [
    "# Q3\n",
    "PC = 0.15\n",
    "PS_C = 0.75\n",
    "PS = 0.5\n",
    "\n",
    "# Bayes: P(C|S) = P(S|C) * P(C) / P(S)\n",
    "PC_S = PS_C * PC / PS\n",
    "PC_S"
   ]
  },
  {
   "cell_type": "code",
   "execution_count": null,
   "metadata": {},
   "outputs": [],
   "source": [
    "# PS1. Tossing three fair coins. Probability HHH?\n",
    "PHHH = (1/2) ** 3\n",
    "\n",
    "# given than first is H\n",
    "P_FH = (1/2) ** 2\n",
    "\n",
    "# one head\n",
    "# P(HHH|H) = P(H|HHH) * P(HHH) / P(H)\n",
    "P_1H = PHHH / (7/8)\n",
    "\n",
    "PHHH, P_FH, P_1H"
   ]
  },
  {
   "cell_type": "code",
   "execution_count": null,
   "metadata": {},
   "outputs": [],
   "source": [
    "# PS2. Three step interview. Chance of passing each of them is .9, .8, .7\n",
    "# Given a failure, which is the chance of failing step 2?\n",
    "# 1 2 3\n",
    "PF2 = .9 * .2\n",
    "PF = 1 - (.9 * .8 * .7)\n",
    "\n",
    "PF2_I_F = PF2\n",
    "\n",
    "PF2, PF, PF2_I_F/PF"
   ]
  },
  {
   "cell_type": "code",
   "execution_count": null,
   "metadata": {},
   "outputs": [],
   "source": [
    "# PS3. Ectopic Pregnancy\n",
    "# P(EP|S) = 2*P(EP|~S)\n",
    "# .32 smokers -> which is the percentage of smoking women having ectopica pregnancies?\n",
    "# P_S = .32\n",
    "# P(EP and S) = P(S) * P(EP|S) = 0.32·2x = 0.64x\n",
    "# P(S|EP) = P(EP and S) / P(EP) = 16 / 33"
   ]
  },
  {
   "cell_type": "markdown",
   "metadata": {},
   "source": [
    "Topic 7"
   ]
  },
  {
   "cell_type": "code",
   "execution_count": null,
   "metadata": {},
   "outputs": [],
   "source": [
    "# rewards for correctly answer Q1 = 200, Q2  = 100\n",
    "# chance of correctly answer Q1 = 60%, Q2 = 80%\n",
    "print('Q1 first:', 200 * .6 + 100 * .8 * .6)\n",
    "print('Q2 first:', 100 * .8 + 200 * .6 * .8)"
   ]
  }
 ],
 "metadata": {
  "kernelspec": {
   "display_name": "Python 3",
   "language": "python",
   "name": "python3"
  },
  "language_info": {
   "codemirror_mode": {
    "name": "ipython",
    "version": 3
   },
   "file_extension": ".py",
   "mimetype": "text/x-python",
   "name": "python",
   "nbconvert_exporter": "python",
   "pygments_lexer": "ipython3",
   "version": "3.6.4"
  }
 },
 "nbformat": 4,
 "nbformat_minor": 2
}
