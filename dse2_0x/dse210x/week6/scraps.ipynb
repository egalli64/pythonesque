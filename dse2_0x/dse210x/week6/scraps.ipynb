{
 "cells": [
  {
   "cell_type": "markdown",
   "metadata": {},
   "source": [
    "UCSanDiegoX: DSE210x\n",
    "\n",
    "Probability and Statistics in Data Science using Python\n",
    "\n",
    "Topic 6: Conditional Probability"
   ]
  },
  {
   "cell_type": "code",
   "execution_count": null,
   "metadata": {},
   "outputs": [],
   "source": [
    "# Q3\n",
    "PC = 0.15\n",
    "PS_C = 0.75\n",
    "PS = 0.5\n",
    "\n",
    "# Bayes: P(C|S) = P(S|C) * P(C) / P(S)\n",
    "PC_S = PS_C * PC / PS\n",
    "PC_S"
   ]
  },
  {
   "cell_type": "code",
   "execution_count": null,
   "metadata": {},
   "outputs": [],
   "source": [
    "# PS1. Tossing three fair coins. Probability HHH?\n",
    "PHHH = (1/2) ** 3\n",
    "\n",
    "# given than first is H\n",
    "P_FH = (1/2) ** 2\n",
    "\n",
    "# one head\n",
    "# P(HHH|H) = P(H|HHH) * P(HHH) / P(H)\n",
    "P_1H = PHHH / (7/8)\n",
    "\n",
    "PHHH, P_FH, P_1H"
   ]
  },
  {
   "cell_type": "code",
   "execution_count": null,
   "metadata": {},
   "outputs": [],
   "source": [
    "# PS2. Three step interview. Chance of passing each of them is .9, .8, .7\n",
    "# Given a failure, which is the chance of failing step 2?\n",
    "# 1 2 3\n",
    "PF2 = .9 * .2\n",
    "PF = 1 - (.9 * .8 * .7)\n",
    "\n",
    "PF2_I_F = PF2\n",
    "\n",
    "PF2, PF, PF2_I_F/PF"
   ]
  },
  {
   "cell_type": "code",
   "execution_count": null,
   "metadata": {},
   "outputs": [],
   "source": [
    "# PS3. Ectopic Pregnancy\n",
    "# P(EP|S) = 2*P(EP|~S)\n",
    "# .32 smokers -> which is the percentage of smoking women having ectopica pregnancies?\n",
    "# P_S = .32\n",
    "# P(EP and S) = P(S) * P(EP|S) = 0.32·2x = 0.64x\n",
    "# P(S|EP) = P(EP and S) / P(EP) = 16 / 33"
   ]
  }
 ],
 "metadata": {
  "kernelspec": {
   "display_name": "Python 3",
   "language": "python",
   "name": "python3"
  },
  "language_info": {
   "codemirror_mode": {
    "name": "ipython",
    "version": 3
   },
   "file_extension": ".py",
   "mimetype": "text/x-python",
   "name": "python",
   "nbconvert_exporter": "python",
   "pygments_lexer": "ipython3",
   "version": "3.6.4"
  }
 },
 "nbformat": 4,
 "nbformat_minor": 2
}
