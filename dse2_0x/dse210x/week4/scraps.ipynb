{
 "cells": [
  {
   "cell_type": "markdown",
   "metadata": {},
   "source": [
    "UCSanDiegoX: DSE210x\n",
    "\n",
    "Probability and Statistics in Data Science using Python\n",
    "\n",
    "Topic 4: Combinatorics"
   ]
  },
  {
   "cell_type": "code",
   "execution_count": null,
   "metadata": {},
   "outputs": [],
   "source": [
    "import math\n",
    "import itertools\n",
    "from scipy.special import binom"
   ]
  },
  {
   "cell_type": "markdown",
   "metadata": {},
   "source": [
    "Permutations"
   ]
  },
  {
   "cell_type": "code",
   "execution_count": null,
   "metadata": {},
   "outputs": [],
   "source": [
    "a = {1, 2, 3}\n",
    "\n",
    "print(\"The {} permutations of {}:\".format(math.factorial(len(a)), a))\n",
    "for x in itertools.permutations(a):\n",
    "    print(x)"
   ]
  },
  {
   "cell_type": "markdown",
   "metadata": {},
   "source": [
    "Partial Permutation"
   ]
  },
  {
   "cell_type": "code",
   "execution_count": null,
   "metadata": {},
   "outputs": [],
   "source": [
    "a = {1, 2, 3, 4}\n",
    "k = 3\n",
    "\n",
    "print('n! / (n-k)! = {:.0f}'.format(math.factorial(len(a)) / math.factorial(len(a)-k)))\n",
    "print(\"{}-permutations of {}:\".format(k, a))\n",
    "for x in itertools.permutations(a, k):\n",
    "    print(x)"
   ]
  },
  {
   "cell_type": "markdown",
   "metadata": {},
   "source": [
    "Combinations"
   ]
  },
  {
   "cell_type": "code",
   "execution_count": null,
   "metadata": {},
   "outputs": [],
   "source": [
    "a = {1, 2, 3, 4}\n",
    "k = 2\n",
    "\n",
    "print('n! / (k! * (n-k)!) = {:.0f}'\n",
    "      .format(math.factorial(len(a)) / (math.factorial(k) * math.factorial(len(a)-k))))\n",
    "\n",
    "print('{}-combinations of {}:'.format(k, a))\n",
    "for x in itertools.combinations(a, k):\n",
    "    print(x)"
   ]
  },
  {
   "cell_type": "code",
   "execution_count": null,
   "metadata": {},
   "outputs": [],
   "source": [
    "a = {'a', 'b', 'c', 'q'}\n",
    "k = 3\n",
    "\n",
    "print('{}-permutations of {}:'.format(k, a))\n",
    "for x in itertools.permutations(a, k):\n",
    "    print(''.join(x))\n",
    "\n",
    "print('{}-combinations of {}:'.format(k, a))\n",
    "for x in itertools.combinations(a, k):\n",
    "    print(''.join(x))"
   ]
  },
  {
   "cell_type": "code",
   "execution_count": null,
   "metadata": {},
   "outputs": [],
   "source": [
    "# (n (n-1))\n",
    "for x in itertools.combinations([1, 2, 3, 4, 5, 6], 1):\n",
    "    print(x)"
   ]
  },
  {
   "cell_type": "markdown",
   "metadata": {},
   "source": [
    "Given {1,2,3,4,5,6,7}\n",
    "\n",
    "Q: How many subsets?\n",
    "A: 2 ** 7\n",
    "\n",
    "Q: How many 3-subsets?\n",
    "A: 7! / (4! * 3!) = 7*6*5 / 3*2 = 35\n",
    "\n",
    "Q: How many 3-subsets w/ 1 in it?\n",
    "A: 6! / 4! * 2! = 6*5/2 = 15"
   ]
  }
 ],
 "metadata": {
  "kernelspec": {
   "display_name": "Python 3",
   "language": "python",
   "name": "python3"
  },
  "language_info": {
   "codemirror_mode": {
    "name": "ipython",
    "version": 3
   },
   "file_extension": ".py",
   "mimetype": "text/x-python",
   "name": "python",
   "nbconvert_exporter": "python",
   "pygments_lexer": "ipython3",
   "version": "3.6.4"
  }
 },
 "nbformat": 4,
 "nbformat_minor": 2
}
