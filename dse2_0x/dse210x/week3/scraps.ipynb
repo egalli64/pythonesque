{
 "cells": [
  {
   "cell_type": "code",
   "execution_count": null,
   "metadata": {},
   "outputs": [],
   "source": [
    "# The NBA Final is a best-of-seven game series.\n",
    "# The team who first get 4 wins win the championship.\n",
    "# How many possible win sequences do we have?\n",
    "from itertools import product\n",
    "\n",
    "total = 0\n",
    "\n",
    "for i in range(4,8):\n",
    "    combinations = product(['A','B'], repeat = i)\n",
    "    for e in combinations:\n",
    "        if(e.count('A') == 4 and e[-1] == 'A') or (e.count('B') == 4 and e[-1] == 'B'):\n",
    "            total+=1\n",
    "print(total)"
   ]
  },
  {
   "cell_type": "code",
   "execution_count": null,
   "metadata": {},
   "outputs": [],
   "source": [
    "# How many positive divisors does 2016 have?\n",
    "divisors = 0\n",
    "for i in range(1, 2017):\n",
    "    if 2016 % i == 0:\n",
    "        divisors += 1\n",
    "print(divisors)\n",
    "\n",
    "# being 2016 = 2**5 * 3**2 * 7\n",
    "print(6 * 3 * 2)"
   ]
  },
  {
   "cell_type": "code",
   "execution_count": null,
   "metadata": {},
   "outputs": [],
   "source": [
    "# q1 union\n",
    "a = {-2, 0, 5, 'bob'}\n",
    "b = {-2, 0, 5, 10, 'jill'}\n",
    "print(a.union(b), a | b, len(a | b))"
   ]
  },
  {
   "cell_type": "code",
   "execution_count": null,
   "metadata": {},
   "outputs": [],
   "source": [
    "# q2 inclusion-exclusion\n",
    "print(a.intersection(b), (a & b))\n",
    "print(a.union(b) - a.intersection(b), (a | b) - (a & b))\n",
    "\n",
    "\n",
    "def inclusion_exclusion(A, B):\n",
    "    # a silly function where\n",
    "    # input: A and B are of type 'set'\n",
    "    # output: a tuple of four integers\n",
    "    return len(A), len(B), len(A&B), len(A|B)\n",
    "\n",
    "print(inclusion_exclusion(a, b))"
   ]
  },
  {
   "cell_type": "code",
   "execution_count": null,
   "metadata": {},
   "outputs": [],
   "source": [
    "# q3\n",
    "c = {-2, 0, 3, 5, 10}\n",
    "\n",
    "\n",
    "def union3(A, B, C):\n",
    "    # input: A, B and C are of type 'set'\n",
    "    # output: a tuple of the type (set, set_length)\n",
    "    D = (A | B | C)\n",
    "    return D, len(D)\n",
    "\n",
    "union3(a, b, c)"
   ]
  },
  {
   "cell_type": "code",
   "execution_count": null,
   "metadata": {},
   "outputs": [],
   "source": [
    "# q4\n",
    "def inclusion_exclusion3(A, B, C):\n",
    "    # input: A, B and C are of type 'set'\n",
    "    # output: a tuple of two integers\n",
    "    D = A & B & C\n",
    "    E = A | B | C\n",
    "    return len(D), len(E)\n",
    "\n",
    "inclusion_exclusion3(a, b, c)"
   ]
  }
 ],
 "metadata": {
  "kernelspec": {
   "display_name": "Python 3",
   "language": "python",
   "name": "python3"
  },
  "language_info": {
   "codemirror_mode": {
    "name": "ipython",
    "version": 3
   },
   "file_extension": ".py",
   "mimetype": "text/x-python",
   "name": "python",
   "nbconvert_exporter": "python",
   "pygments_lexer": "ipython3",
   "version": "3.6.4"
  }
 },
 "nbformat": 4,
 "nbformat_minor": 2
}
