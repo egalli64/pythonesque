{
 "cells": [
  {
   "cell_type": "markdown",
   "metadata": {},
   "source": [
    "UCSanDiegoX: DSE200x Python for Data Science\n",
    "\n",
    "Week 8 - Working with Text and Databases\n",
    "\n",
    "Twitter - Working with Text  "
   ]
  },
  {
   "cell_type": "code",
   "execution_count": 1,
   "metadata": {},
   "outputs": [],
   "source": [
    "import pickle"
   ]
  },
  {
   "cell_type": "code",
   "execution_count": 2,
   "metadata": {},
   "outputs": [],
   "source": [
    "# Twitter={}\n",
    "# Twitter['Consumer Key'] = '...'\n",
    "# Twitter['Consumer Secret'] = '...'\n",
    "# Twitter['Access Token'] = '...'\n",
    "# Twitter['Access Token Secret'] = '...'\n",
    "# with open('secret_twitter_credentials.pkl','wb') as f:\n",
    "#     pickle.dump(Twitter, f)\n",
    "\n",
    "Twitter=pickle.load(open('secret_twitter_credentials.pkl','rb'))"
   ]
  },
  {
   "cell_type": "markdown",
   "metadata": {},
   "source": [
    "Example 1. Authorizing an application to access Twitter account data"
   ]
  },
  {
   "cell_type": "code",
   "execution_count": 3,
   "metadata": {},
   "outputs": [],
   "source": [
    "import twitter\n",
    "import json"
   ]
  },
  {
   "cell_type": "code",
   "execution_count": 4,
   "metadata": {},
   "outputs": [],
   "source": [
    "# create an authentication object and use it to access the Twitter API\n",
    "auth = twitter.oauth.OAuth(Twitter['Access Token'],\n",
    "                           Twitter['Access Token Secret'],\n",
    "                           Twitter['Consumer Key'],\n",
    "                           Twitter['Consumer Secret'])\n",
    "\n",
    "twitter_api = twitter.Twitter(auth=auth)"
   ]
  },
  {
   "cell_type": "markdown",
   "metadata": {},
   "source": [
    "Example 2. Retrieving trends"
   ]
  },
  {
   "cell_type": "code",
   "execution_count": 5,
   "metadata": {},
   "outputs": [],
   "source": [
    "WORLD_WOE_ID = 1\n",
    "US_WOE_ID = 23424977  # USA\n",
    "LOCAL_WOE_ID = 2487889  # San Diego\n",
    "\n",
    "world_trends = twitter_api.trends.place(_id=WORLD_WOE_ID)\n",
    "us_trends = twitter_api.trends.place(_id=US_WOE_ID)\n",
    "local_trends = twitter_api.trends.place(_id=LOCAL_WOE_ID)\n",
    "\n",
    "# print(world_trends[:2])"
   ]
  },
  {
   "cell_type": "code",
   "execution_count": 6,
   "metadata": {},
   "outputs": [
    {
     "name": "stdout",
     "output_type": "stream",
     "text": [
      "<class 'twitter.api.TwitterListResponse'>\n",
      "['trends', 'as_of', 'created_at', 'locations']\n",
      "{'name': 'DeMarcus Cousins', 'url': 'http://twitter.com/search?q=%22DeMarcus+Cousins%22', 'promoted_content': None, 'query': '%22DeMarcus+Cousins%22', 'tweet_volume': 350266}\n",
      "{'name': '#MusicMonday', 'url': 'http://twitter.com/search?q=%23MusicMonday', 'promoted_content': None, 'query': '%23MusicMonday', 'tweet_volume': 11982}\n"
     ]
    }
   ],
   "source": [
    "trends=local_trends\n",
    "print(type(trends))\n",
    "print(list(trends[0].keys()))\n",
    "print(trends[0]['trends'][0])\n",
    "print(trends[0]['trends'][-1])"
   ]
  },
  {
   "cell_type": "markdown",
   "metadata": {},
   "source": [
    "Example 3. Displaying API responses as pretty-printed JSON"
   ]
  },
  {
   "cell_type": "code",
   "execution_count": 7,
   "metadata": {},
   "outputs": [
    {
     "name": "stdout",
     "output_type": "stream",
     "text": [
      "{\n",
      " \"name\": \"#secondcivilwarletters\",\n",
      " \"url\": \"http://twitter.com/search?q=%23secondcivilwarletters\",\n",
      " \"promoted_content\": null,\n",
      " \"query\": \"%23secondcivilwarletters\",\n",
      " \"tweet_volume\": 11503\n",
      "}\n"
     ]
    }
   ],
   "source": [
    "print((json.dumps(us_trends[0]['trends'][0], indent=1)))"
   ]
  },
  {
   "cell_type": "markdown",
   "metadata": {},
   "source": [
    "Example 4. Computing the intersection of two sets of trends"
   ]
  },
  {
   "cell_type": "code",
   "execution_count": 8,
   "metadata": {},
   "outputs": [
    {
     "name": "stdout",
     "output_type": "stream",
     "text": [
      "('----------', 'world')\n",
      "#3TemmuzDünyaKızÇocuklarıGünü,#MardiConseil,Geoffroy Roux de Bézieux,Najib Razak,#ENGCOL,#SWESUI,#ソフトクリームの日,Sacyr,#paro,#لاتكتب_شي,#Zschäpe,乱舞レベル,후미카,Ağrı Valisi,#FED2018,#enflasyon,#İnsanlarDiyorum,#CampusTF1,Kılıçdaroğlu'na,Küçük Leyla,미레이,#secondcivilwarletters,#بقلبي_لك_كلام,#Wikipedia,#وقتك_ضايع_علي_ايش,SBMPTN,#3luglio,#g_bd,#SomosEventos,#BuÜlkede,#ZIMvAUS,#LGBTActionPlan,all50,#3Temmuz2011,#ChooseDay,Selayar,#SSMB25onApril5th,Lahore,#علمت_اختك_القياده_او_باقي,UDEF,#جدد_علاقتك_مع_الله,#السكن_علينا_ودام_عزك_ياوطن,#FelizMartes,#MumbaiRains,#TuesdayThoughts,#غرد_لحبك_الاول,#اكتب_خاطره_او_بيت_شعر,#KemalSunal,#DecretoDignità,Valdemoro\n",
      "('----------', 'us')\n",
      "#Wimbledon,#ENGCOL,4th of July,Julius Randle,Matt Kemp,#FOX59Morning,#MusicMonday,México,#BasketballWives,#MorningRushATL,Center City,Pelicans,#MexicoVsBrasil,Josh Hart,#secondcivilwarletters,#MyRandomWeirdness,Warriors,See It Now,#Zagreb2018,#IMC2018,#FortnitePlayground,#TodosConLayún,#TheProposal,Neymar,#SuperDebate,EPA's Pruitt,#MyBirthdayBrings,#TheBachelorette,Rachel Dolezal,#ZIMvAUS,#LHHATL,#MondayMotivation,#WorldUFODay,#CoronaOpenJBay,Belgium World Cup,#BRAMEX,Alan Dershowitz,Brazil,Archbishop Philip Wilson,Trae Young,#RejectedNamesForFireworks,Lonzo,#NameSenatorWarrensDog,Japan,#TuesdayThoughts,Javale McGee,#couture\n",
      "('----------', 'san diego')\n",
      "#Wimbledon,DeMarcus Cousins,#ENGCOL,4th of July,Julius Randle,Matt Kemp,#FOX59Morning,#MusicMonday,México,#BasketballWives,#MorningRushATL,#FreeOurFuture,Center City,Pelicans,#MexicoVsBrasil,Josh Hart,#secondcivilwarletters,#MyRandomWeirdness,See It Now,#Zagreb2018,#IMC2018,#TodosConLayún,#TheProposal,Neymar,#SuperDebate,EPA's Pruitt,#MyBirthdayBrings,#TheBachelorette,Rachel Dolezal,#ZIMvAUS,Anthony Davis,#MondayMotivation,#LHHATL,#WorldUFODay,#CoronaOpenJBay,Belgium World Cup,#BRAMEX,Alan Dershowitz,Lakers,Brazil,Archbishop Philip Wilson,Trae Young,#RejectedNamesForFireworks,Lonzo,#NameSenatorWarrensDog,Japan,#TuesdayThoughts,Javale McGee,#couture\n"
     ]
    }
   ],
   "source": [
    "trends_set = {}\n",
    "trends_set['world'] = set([trend['name'] \n",
    "                        for trend in world_trends[0]['trends']])\n",
    "\n",
    "trends_set['us'] = set([trend['name'] \n",
    "                     for trend in us_trends[0]['trends']]) \n",
    "\n",
    "trends_set['san diego'] = set([trend['name'] \n",
    "                     for trend in local_trends[0]['trends']])\n",
    "\n",
    "for loc in ['world','us','san diego']:\n",
    "    print(('-'*10,loc))\n",
    "    print((','.join(trends_set[loc])))"
   ]
  },
  {
   "cell_type": "code",
   "execution_count": 9,
   "metadata": {},
   "outputs": [
    {
     "name": "stdout",
     "output_type": "stream",
     "text": [
      "('==========', 'intersection of world and us')\n",
      "{'#ENGCOL', '#secondcivilwarletters', '#ZIMvAUS', '#TuesdayThoughts'}\n",
      "('==========', 'intersection of us and san-diego')\n",
      "{'#Wimbledon', '#ENGCOL', '4th of July', 'Julius Randle', 'Matt Kemp', '#FOX59Morning', '#MusicMonday', 'México', '#BasketballWives', '#MorningRushATL', 'Center City', 'Pelicans', '#MexicoVsBrasil', 'Josh Hart', '#secondcivilwarletters', '#MyRandomWeirdness', 'See It Now', '#Zagreb2018', '#IMC2018', '#TodosConLayún', '#TheProposal', 'Neymar', '#SuperDebate', \"EPA's Pruitt\", '#MyBirthdayBrings', '#TheBachelorette', 'Rachel Dolezal', '#ZIMvAUS', '#LHHATL', '#MondayMotivation', '#WorldUFODay', '#CoronaOpenJBay', 'Belgium World Cup', '#BRAMEX', 'Alan Dershowitz', 'Brazil', 'Archbishop Philip Wilson', 'Trae Young', '#RejectedNamesForFireworks', 'Lonzo', '#NameSenatorWarrensDog', 'Japan', '#TuesdayThoughts', 'Javale McGee', '#couture'}\n"
     ]
    }
   ],
   "source": [
    "print(( '='*10,'intersection of world and us'))\n",
    "print((trends_set['world'].intersection(trends_set['us'])))\n",
    "\n",
    "print(('='*10,'intersection of us and san-diego'))\n",
    "print((trends_set['san diego'].intersection(trends_set['us'])))"
   ]
  },
  {
   "cell_type": "markdown",
   "metadata": {},
   "source": [
    "Example 5. Collecting search results"
   ]
  },
  {
   "cell_type": "code",
   "execution_count": 10,
   "metadata": {},
   "outputs": [
    {
     "name": "stdout",
     "output_type": "stream",
     "text": [
      "100\n",
      "RT @Thabangdignity4: I bet you didn't watch this version of black panther #MTVAwards #BlackTwitter\n",
      "https://t.co/U5SpcK1BO8\n"
     ]
    }
   ],
   "source": [
    "q = '#MTVAwards' \n",
    "\n",
    "number = 100\n",
    "\n",
    "# See https://dev.twitter.com/docs/api/1.1/get/search/tweets\n",
    "\n",
    "search_results = twitter_api.search.tweets(q=q, count=number)\n",
    "\n",
    "statuses = search_results['statuses']\n",
    "\n",
    "print(len(statuses))\n",
    "print(statuses[0]['text'])"
   ]
  },
  {
   "cell_type": "code",
   "execution_count": 11,
   "metadata": {},
   "outputs": [
    {
     "name": "stdout",
     "output_type": "stream",
     "text": [
      "74\n"
     ]
    }
   ],
   "source": [
    "all_text = []\n",
    "filtered_statuses = []\n",
    "for s in statuses:\n",
    "    if s[\"text\"] not in all_text:\n",
    "        filtered_statuses.append(s)\n",
    "        all_text.append(s[\"text\"])\n",
    "statuses = filtered_statuses\n",
    "print(len(statuses))"
   ]
  },
  {
   "cell_type": "code",
   "execution_count": 12,
   "metadata": {},
   "outputs": [],
   "source": [
    "# [s['text'] for s in search_results['statuses']]"
   ]
  },
  {
   "cell_type": "code",
   "execution_count": 13,
   "metadata": {},
   "outputs": [
    {
     "name": "stdout",
     "output_type": "stream",
     "text": [
      "RT @Thabangdignity4: I bet you didn't watch this version of black panther #MTVAwards #BlackTwitter\n",
      "https://t.co/U5SpcK1BO8\n"
     ]
    }
   ],
   "source": [
    "# Show one sample search result by slicing the list...\n",
    "print(statuses[0]['text'])"
   ]
  },
  {
   "cell_type": "code",
   "execution_count": 14,
   "metadata": {},
   "outputs": [
    {
     "name": "stdout",
     "output_type": "stream",
     "text": [
      "4\n",
      "False\n"
     ]
    }
   ],
   "source": [
    "# The result of the list comprehension is a list with only one element that\n",
    "# can be accessed by its index and set to the variable t\n",
    "t = statuses[0]\n",
    "#[ status for status in statuses \n",
    "#          if status['id'] == 316948241264549888 ][0]\n",
    "\n",
    "# Explore the variable t to get familiarized with the data structure...\n",
    "\n",
    "print(t['retweet_count'])\n",
    "print(t['retweeted'])"
   ]
  },
  {
   "cell_type": "markdown",
   "metadata": {},
   "source": [
    "Example 6. Extracting text, screen names, and hashtags from tweets"
   ]
  },
  {
   "cell_type": "code",
   "execution_count": 15,
   "metadata": {},
   "outputs": [],
   "source": [
    "status_texts = [ status['text'] \n",
    "                 for status in statuses ]\n",
    "\n",
    "screen_names = [ user_mention['screen_name'] \n",
    "                 for status in statuses\n",
    "                     for user_mention in status['entities']['user_mentions'] ]\n",
    "\n",
    "hashtags = [ hashtag['text'] \n",
    "             for status in statuses\n",
    "                 for hashtag in status['entities']['hashtags'] ]\n",
    "\n",
    "# Compute a collection of all words from all tweets\n",
    "words = [w for t in status_texts for w in t.split()]"
   ]
  },
  {
   "cell_type": "code",
   "execution_count": 16,
   "metadata": {},
   "outputs": [
    {
     "name": "stdout",
     "output_type": "stream",
     "text": [
      "[\n",
      " \"RT @Thabangdignity4: I bet you didn't watch this version of black panther #MTVAwards #BlackTwitter\\nhttps://t.co/U5SpcK1BO8\",\n",
      " \"RT @TeenMom: \\u201cSo everyone\\u2019s lying?\\u201d \\ud83e\\udd14 Chelsea is feeling frustrated in this sneak peek from tomorrow night\\u2019s new #TeenMom2 at a special tim\\u2026\",\n",
      " \"RT @ladygaga: So happy that #GagaFiveFootTwo won Best Music Documentary at the #MTVAwards! Thank u Little Monsters &amp; @MTV!! \\ud83d\\ude18 https://t.co/\\u2026\"\n",
      "]\n",
      "[\n",
      " \"Thabangdignity4\",\n",
      " \"TeenMom\",\n",
      " \"ladygaga\"\n",
      "]\n",
      "[\n",
      " \"MTVAwards\",\n",
      " \"BlackTwitter\",\n",
      " \"TeenMom2\"\n",
      "]\n",
      "[\n",
      " \"RT\",\n",
      " \"@Thabangdignity4:\",\n",
      " \"I\"\n",
      "]\n"
     ]
    }
   ],
   "source": [
    "# Explore the first items for each...\n",
    "\n",
    "print(json.dumps(status_texts[:3], indent=1))\n",
    "print(json.dumps(screen_names[:3], indent=1)) \n",
    "print(json.dumps(hashtags[:3], indent=1))\n",
    "print(json.dumps(words[:3], indent=1))"
   ]
  },
  {
   "cell_type": "markdown",
   "metadata": {},
   "source": [
    "Example 7. Creating a basic frequency distribution from the words in tweets"
   ]
  },
  {
   "cell_type": "code",
   "execution_count": 17,
   "metadata": {},
   "outputs": [
    {
     "name": "stdout",
     "output_type": "stream",
     "text": [
      "[('RT', 70), ('#MTVAwards', 41), ('the', 36), ('at', 29), ('to', 17), ('@MTV:', 14), ('a', 13), ('and', 13), ('for', 13), ('you', 12)]\n",
      "\n",
      "[('MTV', 23), ('tjclemons1', 7), ('jackgrazerbr', 7), ('MTVAwards', 6), ('TeenMom', 5), ('KeiynanLonsdale', 5), ('notnickrob', 4), ('ladygaga', 3), ('nickjonas', 3), ('MTVLA', 3)]\n",
      "\n",
      "[('MTVAwards', 52), ('TeenMom2', 5), ('SpaceForce', 4), ('Trump', 4), ('StarWars', 4), ('SoloStarWars', 4), ('Solo', 4), ('Solomovie', 4), ('HanSolo', 4), ('StarTrek', 4)]\n",
      "\n"
     ]
    }
   ],
   "source": [
    "from collections import Counter\n",
    "\n",
    "for item in [words, screen_names, hashtags]:\n",
    "    c = Counter(item)\n",
    "    print(c.most_common()[:10]) # top 10\n",
    "    print()"
   ]
  },
  {
   "cell_type": "markdown",
   "metadata": {},
   "source": [
    "Example 8. Create a prettyprint function to display tuples in a nice tabular format"
   ]
  },
  {
   "cell_type": "code",
   "execution_count": 18,
   "metadata": {},
   "outputs": [],
   "source": [
    "def prettyprint_counts(label, list_of_tuples):\n",
    "    print(\"\\n{:^20} | {:^6}\".format(label, \"Count\"))\n",
    "    print(\"*\"*40)\n",
    "    for k,v in list_of_tuples:\n",
    "        print(\"{:20} | {:>6}\".format(k,v))"
   ]
  },
  {
   "cell_type": "code",
   "execution_count": 19,
   "metadata": {},
   "outputs": [
    {
     "name": "stdout",
     "output_type": "stream",
     "text": [
      "\n",
      "        Word         | Count \n",
      "****************************************\n",
      "RT                   |     70\n",
      "#MTVAwards           |     41\n",
      "the                  |     36\n",
      "\n",
      "    Screen Name      | Count \n",
      "****************************************\n",
      "MTV                  |     23\n",
      "tjclemons1           |      7\n",
      "jackgrazerbr         |      7\n",
      "\n",
      "      Hashtag        | Count \n",
      "****************************************\n",
      "MTVAwards            |     52\n",
      "TeenMom2             |      5\n",
      "SpaceForce           |      4\n"
     ]
    }
   ],
   "source": [
    "for label, data in (('Word', words), ('Screen Name', screen_names), ('Hashtag', hashtags)):\n",
    "    c = Counter(data)\n",
    "    prettyprint_counts(label, c.most_common()[:3])"
   ]
  },
  {
   "cell_type": "markdown",
   "metadata": {},
   "source": [
    "Example 9. Finding the most popular retweets"
   ]
  },
  {
   "cell_type": "code",
   "execution_count": 20,
   "metadata": {},
   "outputs": [],
   "source": [
    "retweets = [\n",
    "            # Store out a tuple of these three values ...\n",
    "            (status['retweet_count'], \n",
    "             status['retweeted_status']['user']['screen_name'],\n",
    "             status['text'].replace(\"\\n\",\"\\\\\")) \n",
    "            \n",
    "            # ... for each status ...\n",
    "            for status in statuses \n",
    "            # ... so long as the status meets this condition.\n",
    "                if 'retweeted_status' in status\n",
    "           ]"
   ]
  },
  {
   "cell_type": "code",
   "execution_count": 21,
   "metadata": {},
   "outputs": [],
   "source": [
    "row_template = \"{:^7} | {:^15} | {:50}\"\n",
    "def prettyprint_tweets(list_of_tuples):\n",
    "    print()\n",
    "    print(row_template.format(\"Count\", \"Screen Name\", \"Text\"))\n",
    "    print(\"*\"*60)\n",
    "    for count, screen_name, text in list_of_tuples:\n",
    "        print(row_template.format(count, screen_name, text[:50]))\n",
    "        if len(text) > 50:\n",
    "            print(row_template.format(\"\", \"\", text[50:100]))\n",
    "            if len(text) > 100:\n",
    "                print(row_template.format(\"\", \"\", text[100:]))"
   ]
  },
  {
   "cell_type": "code",
   "execution_count": 22,
   "metadata": {},
   "outputs": [
    {
     "name": "stdout",
     "output_type": "stream",
     "text": [
      "\n",
      " Count  |   Screen Name   | Text                                              \n",
      "************************************************************\n",
      " 15991  |    adamcbest    | RT @adamcbest: This was an uplifting moment right \n",
      "        |                 | when America really needed it. Chadwick Boseman ga\n",
      "        |                 | ve the Best Hero Award he won for Black…          \n",
      " 14980  |    getFANDOM    | RT @getFANDOM: Chris Pratt with all of the wisdom \n",
      "        |                 | #MTVAwards https://t.co/eu5cXU7WcQ                \n",
      " 12106  |       MTV       | RT @MTV: This is too precious for words. #MTVAward\n",
      "        |                 | s https://t.co/Xu7BpoZL84                         \n"
     ]
    }
   ],
   "source": [
    "# Slice off the first ones from the sorted results and display each item in the tuple\n",
    "prettyprint_tweets(sorted(retweets, reverse=True)[:3])"
   ]
  }
 ],
 "metadata": {
  "kernelspec": {
   "display_name": "Python 3",
   "language": "python",
   "name": "python3"
  },
  "language_info": {
   "codemirror_mode": {
    "name": "ipython",
    "version": 3
   },
   "file_extension": ".py",
   "mimetype": "text/x-python",
   "name": "python",
   "nbconvert_exporter": "python",
   "pygments_lexer": "ipython3",
   "version": "3.6.4"
  }
 },
 "nbformat": 4,
 "nbformat_minor": 2
}
