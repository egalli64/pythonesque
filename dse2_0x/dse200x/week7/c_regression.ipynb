{
 "cells": [
  {
   "cell_type": "markdown",
   "metadata": {},
   "source": [
    "UCSanDiegoX: DSE200x Python for Data Science\n",
    "\n",
    "Week 7 - Introduction to Machine Learning"
   ]
  },
  {
   "cell_type": "code",
   "execution_count": 1,
   "metadata": {},
   "outputs": [],
   "source": [
    "import sqlite3\n",
    "import pandas as pd \n",
    "from sklearn.tree import DecisionTreeRegressor\n",
    "from sklearn.linear_model import LinearRegression\n",
    "from sklearn.model_selection import train_test_split\n",
    "from sklearn.metrics import mean_squared_error\n",
    "from math import sqrt"
   ]
  },
  {
   "cell_type": "markdown",
   "metadata": {},
   "source": [
    " Regresssion with scikit-learn\n",
    " \n",
    " using database.sqlite from https://www.kaggle.com/hugomathien/soccer"
   ]
  },
  {
   "cell_type": "code",
   "execution_count": 2,
   "metadata": {},
   "outputs": [
    {
     "name": "stdout",
     "output_type": "stream",
     "text": [
      "(183978, 42)\n",
      "Index(['id', 'player_fifa_api_id', 'player_api_id', 'date', 'overall_rating',\n",
      "       'potential', 'preferred_foot', 'attacking_work_rate',\n",
      "       'defensive_work_rate', 'crossing', 'finishing', 'heading_accuracy',\n",
      "       'short_passing', 'volleys', 'dribbling', 'curve', 'free_kick_accuracy',\n",
      "       'long_passing', 'ball_control', 'acceleration', 'sprint_speed',\n",
      "       'agility', 'reactions', 'balance', 'shot_power', 'jumping', 'stamina',\n",
      "       'strength', 'long_shots', 'aggression', 'interceptions', 'positioning',\n",
      "       'vision', 'penalties', 'marking', 'standing_tackle', 'sliding_tackle',\n",
      "       'gk_diving', 'gk_handling', 'gk_kicking', 'gk_positioning',\n",
      "       'gk_reflexes'],\n",
      "      dtype='object')\n"
     ]
    }
   ],
   "source": [
    "# get player attributes\n",
    "cnx = sqlite3.connect('database.sqlite')\n",
    "df = pd.read_sql_query(\"SELECT * FROM Player_Attributes\", cnx)\n",
    "\n",
    "print(df.shape)\n",
    "print(df.columns)"
   ]
  },
  {
   "cell_type": "code",
   "execution_count": 3,
   "metadata": {},
   "outputs": [
    {
     "name": "stdout",
     "output_type": "stream",
     "text": [
      "potential             66.0\n",
      "crossing              49.0\n",
      "finishing             44.0\n",
      "heading_accuracy      71.0\n",
      "short_passing         61.0\n",
      "volleys               44.0\n",
      "dribbling             51.0\n",
      "curve                 45.0\n",
      "free_kick_accuracy    39.0\n",
      "long_passing          64.0\n",
      "ball_control          49.0\n",
      "acceleration          60.0\n",
      "sprint_speed          64.0\n",
      "agility               59.0\n",
      "reactions             47.0\n",
      "balance               65.0\n",
      "shot_power            55.0\n",
      "jumping               58.0\n",
      "stamina               54.0\n",
      "strength              76.0\n",
      "long_shots            35.0\n",
      "aggression            63.0\n",
      "interceptions         41.0\n",
      "positioning           45.0\n",
      "vision                54.0\n",
      "penalties             48.0\n",
      "marking               65.0\n",
      "standing_tackle       66.0\n",
      "sliding_tackle        69.0\n",
      "gk_diving              6.0\n",
      "gk_handling           11.0\n",
      "gk_kicking            10.0\n",
      "gk_positioning         8.0\n",
      "gk_reflexes            8.0\n",
      "Name: 2, dtype: float64\n",
      "   overall_rating\n",
      "1            67.0\n",
      "2            62.0\n"
     ]
    }
   ],
   "source": [
    "# interesting features used as input\n",
    "features = [\n",
    "       'potential', 'crossing', 'finishing', 'heading_accuracy',\n",
    "       'short_passing', 'volleys', 'dribbling', 'curve', 'free_kick_accuracy',\n",
    "       'long_passing', 'ball_control', 'acceleration', 'sprint_speed',\n",
    "       'agility', 'reactions', 'balance', 'shot_power', 'jumping', 'stamina',\n",
    "       'strength', 'long_shots', 'aggression', 'interceptions', 'positioning',\n",
    "       'vision', 'penalties', 'marking', 'standing_tackle', 'sliding_tackle',\n",
    "       'gk_diving', 'gk_handling', 'gk_kicking', 'gk_positioning',\n",
    "       'gk_reflexes']\n",
    "\n",
    "# Prediction Target \n",
    "target = ['overall_rating']\n",
    "\n",
    "# drop rows w/ missing values\n",
    "df = df.dropna()\n",
    "\n",
    "X = df[features]\n",
    "y = df[target]\n",
    "\n",
    "# a record\n",
    "print(X.iloc[2])\n",
    "# a couple of ratings\n",
    "print(y.iloc[1:3])"
   ]
  },
  {
   "cell_type": "code",
   "execution_count": 4,
   "metadata": {},
   "outputs": [],
   "source": [
    "# Split the Dataset into Training and Test Datasets\n",
    "X_train, X_test, y_train, y_test = train_test_split(X, y, test_size=0.33, random_state=324)"
   ]
  },
  {
   "cell_type": "code",
   "execution_count": 5,
   "metadata": {},
   "outputs": [
    {
     "name": "stdout",
     "output_type": "stream",
     "text": [
      "[[66.51284879]\n",
      " [79.77234615]]\n",
      "       overall_rating\n",
      "count    59517.000000\n",
      "mean        68.635818\n",
      "std          7.041297\n",
      "min         33.000000\n",
      "25%         64.000000\n",
      "50%         69.000000\n",
      "75%         73.000000\n",
      "max         94.000000\n"
     ]
    }
   ],
   "source": [
    "# Linear Regression: Fit a model to the training set \n",
    "regressor = LinearRegression()\n",
    "regressor.fit(X_train, y_train)\n",
    "\n",
    "# Perform Prediction using Linear Regression Model\n",
    "y_prediction = regressor.predict(X_test)\n",
    "print(y_prediction[0:2])\n",
    "\n",
    "print(y_test.describe())"
   ]
  },
  {
   "cell_type": "code",
   "execution_count": 6,
   "metadata": {},
   "outputs": [
    {
     "data": {
      "text/plain": [
       "2.805303046855209"
      ]
     },
     "execution_count": 6,
     "metadata": {},
     "output_type": "execute_result"
    }
   ],
   "source": [
    "# Evaluate Linear Regression Accuracy using Root Mean Square Error (RMSE)\n",
    "sqrt(mean_squared_error(y_true = y_test, y_pred = y_prediction))"
   ]
  },
  {
   "cell_type": "markdown",
   "metadata": {},
   "source": [
    "Try again w/ more complex regressor"
   ]
  },
  {
   "cell_type": "code",
   "execution_count": 7,
   "metadata": {},
   "outputs": [
    {
     "data": {
      "text/plain": [
       "DecisionTreeRegressor(criterion='mse', max_depth=20, max_features=None,\n",
       "           max_leaf_nodes=None, min_impurity_decrease=0.0,\n",
       "           min_impurity_split=None, min_samples_leaf=1,\n",
       "           min_samples_split=2, min_weight_fraction_leaf=0.0,\n",
       "           presort=False, random_state=None, splitter='best')"
      ]
     },
     "execution_count": 7,
     "metadata": {},
     "output_type": "execute_result"
    }
   ],
   "source": [
    "# Decision Tree Regressor: Fit a new regression model to the training set\n",
    "regressor = DecisionTreeRegressor(max_depth=20)\n",
    "regressor.fit(X_train, y_train)"
   ]
  },
  {
   "cell_type": "code",
   "execution_count": 8,
   "metadata": {},
   "outputs": [
    {
     "name": "stdout",
     "output_type": "stream",
     "text": [
      "[62. 84.]\n"
     ]
    }
   ],
   "source": [
    "# Perform Prediction using Decision Tree Regressor\n",
    "y_prediction = regressor.predict(X_test)\n",
    "print(y_prediction[0:2])"
   ]
  },
  {
   "cell_type": "code",
   "execution_count": 9,
   "metadata": {},
   "outputs": [
    {
     "data": {
      "text/plain": [
       "1.4520557633553135"
      ]
     },
     "execution_count": 9,
     "metadata": {},
     "output_type": "execute_result"
    }
   ],
   "source": [
    "# Evaluate Decision Tree Regression Accuracy using Root Mean Square Error (RMSE)\n",
    "sqrt(mean_squared_error(y_true = y_test, y_pred = y_prediction))"
   ]
  }
 ],
 "metadata": {
  "kernelspec": {
   "display_name": "Python 3",
   "language": "python",
   "name": "python3"
  },
  "language_info": {
   "codemirror_mode": {
    "name": "ipython",
    "version": 3
   },
   "file_extension": ".py",
   "mimetype": "text/x-python",
   "name": "python",
   "nbconvert_exporter": "python",
   "pygments_lexer": "ipython3",
   "version": "3.6.4"
  }
 },
 "nbformat": 4,
 "nbformat_minor": 2
}
