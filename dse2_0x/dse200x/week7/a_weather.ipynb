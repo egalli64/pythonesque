{
 "cells": [
  {
   "cell_type": "markdown",
   "metadata": {},
   "source": [
    "UCSanDiegoX: DSE200x Python for Data Science\n",
    "\n",
    "Week 7 - Introduction to Machine Learning"
   ]
  },
  {
   "cell_type": "code",
   "execution_count": 1,
   "metadata": {},
   "outputs": [],
   "source": [
    "import pandas as pd\n",
    "from sklearn.metrics import accuracy_score\n",
    "from sklearn.model_selection import train_test_split\n",
    "from sklearn.tree import DecisionTreeClassifier"
   ]
  },
  {
   "cell_type": "markdown",
   "metadata": {},
   "source": [
    "Classification of Weather Data using scikit-learn "
   ]
  },
  {
   "cell_type": "code",
   "execution_count": 2,
   "metadata": {},
   "outputs": [
    {
     "name": "stdout",
     "output_type": "stream",
     "text": [
      "Index(['number', 'air_pressure_9am', 'air_temp_9am', 'avg_wind_direction_9am',\n",
      "       'avg_wind_speed_9am', 'max_wind_direction_9am', 'max_wind_speed_9am',\n",
      "       'rain_accumulation_9am', 'rain_duration_9am', 'relative_humidity_9am',\n",
      "       'relative_humidity_3pm'],\n",
      "      dtype='object')\n",
      "   number  air_pressure_9am  air_temp_9am  avg_wind_direction_9am  \\\n",
      "0       0        918.060000     74.822000              271.100000   \n",
      "1       1        917.347688     71.403843              101.935179   \n",
      "2       2        923.040000     60.638000               51.000000   \n",
      "3       3        920.502751     70.138895              198.832133   \n",
      "4       4        921.160000     44.294000              277.800000   \n",
      "\n",
      "   avg_wind_speed_9am  max_wind_direction_9am  max_wind_speed_9am  \\\n",
      "0            2.080354              295.400000            2.863283   \n",
      "1            2.443009              140.471548            3.533324   \n",
      "2           17.067852               63.700000           22.100967   \n",
      "3            4.337363              211.203341            5.190045   \n",
      "4            1.856660              136.500000            2.863283   \n",
      "\n",
      "   rain_accumulation_9am  rain_duration_9am  relative_humidity_9am  \\\n",
      "0                    0.0                0.0              42.420000   \n",
      "1                    0.0                0.0              24.328697   \n",
      "2                    0.0               20.0               8.900000   \n",
      "3                    0.0                0.0              12.189102   \n",
      "4                    8.9            14730.0              92.410000   \n",
      "\n",
      "   relative_humidity_3pm  \n",
      "0              36.160000  \n",
      "1              19.426597  \n",
      "2              14.460000  \n",
      "3              12.742547  \n",
      "4              76.740000  \n",
      "(1095, 11) 31\n"
     ]
    }
   ],
   "source": [
    "data = pd.read_csv('./weather/daily_weather.csv')\n",
    "\n",
    "print(data.columns)\n",
    "print(data.head())\n",
    "\n",
    "# count the rows having an undefined value in it\n",
    "print(data.shape, data[data.isnull().any(axis=1)].shape[0])"
   ]
  },
  {
   "cell_type": "markdown",
   "metadata": {},
   "source": [
    "Data Cleaning"
   ]
  },
  {
   "cell_type": "code",
   "execution_count": 3,
   "metadata": {},
   "outputs": [],
   "source": [
    "# not interested in sample id\n",
    "del data['number']"
   ]
  },
  {
   "cell_type": "code",
   "execution_count": 4,
   "metadata": {},
   "outputs": [
    {
     "name": "stdout",
     "output_type": "stream",
     "text": [
      "Rows before cleanup 1095\n",
      "Rows after cleanup 1064\n"
     ]
    }
   ],
   "source": [
    "print('Rows before cleanup', data.shape[0])\n",
    "data = data.dropna()\n",
    "print('Rows after cleanup', data.shape[0])"
   ]
  },
  {
   "cell_type": "markdown",
   "metadata": {},
   "source": [
    "Task: predict weather in the afternoon given data in the morning"
   ]
  },
  {
   "cell_type": "code",
   "execution_count": 5,
   "metadata": {},
   "outputs": [
    {
     "name": "stdout",
     "output_type": "stream",
     "text": [
      "0    1\n",
      "1    0\n",
      "2    0\n",
      "3    0\n",
      "4    1\n",
      "Name: high_humidity_label, dtype: int32\n"
     ]
    }
   ],
   "source": [
    "clean_data = data.copy()\n",
    "clean_data['high_humidity_label'] = (clean_data['relative_humidity_3pm'] > 24.99) * 1\n",
    "print(clean_data['high_humidity_label'].head())"
   ]
  },
  {
   "cell_type": "code",
   "execution_count": 6,
   "metadata": {},
   "outputs": [
    {
     "name": "stdout",
     "output_type": "stream",
     "text": [
      "0    36.160000\n",
      "1    19.426597\n",
      "2    14.460000\n",
      "3    12.742547\n",
      "4    76.740000\n",
      "Name: relative_humidity_3pm, dtype: float64\n",
      "   high_humidity_label\n",
      "0                    1\n",
      "1                    0\n",
      "2                    0\n",
      "3                    0\n",
      "4                    1\n"
     ]
    }
   ],
   "source": [
    "# target is named 'y'\n",
    "y=clean_data[['high_humidity_label']].copy()\n",
    "print(clean_data['relative_humidity_3pm'].head())\n",
    "print(y.head())"
   ]
  },
  {
   "cell_type": "code",
   "execution_count": 7,
   "metadata": {},
   "outputs": [
    {
     "name": "stdout",
     "output_type": "stream",
     "text": [
      "Index(['air_pressure_9am', 'air_temp_9am', 'avg_wind_direction_9am',\n",
      "       'avg_wind_speed_9am', 'max_wind_direction_9am', 'max_wind_speed_9am',\n",
      "       'rain_accumulation_9am', 'rain_duration_9am'],\n",
      "      dtype='object')\n",
      "Index(['high_humidity_label'], dtype='object')\n"
     ]
    }
   ],
   "source": [
    "# Use 9am Sensor Signals as Features to Predict Humidity at 3pm\n",
    "morning_features = [\n",
    "    'air_pressure_9am','air_temp_9am','avg_wind_direction_9am','avg_wind_speed_9am',\n",
    "    'max_wind_direction_9am','max_wind_speed_9am','rain_accumulation_9am', 'rain_duration_9am']\n",
    "X = clean_data[morning_features].copy()\n",
    "print(X.columns)\n",
    "print(y.columns)"
   ]
  },
  {
   "cell_type": "markdown",
   "metadata": {},
   "source": [
    "Perform Test and Train split "
   ]
  },
  {
   "cell_type": "code",
   "execution_count": 8,
   "metadata": {},
   "outputs": [],
   "source": [
    "# from SKLearn model selection\n",
    "X_train, X_test, y_train, y_test = train_test_split(X, y, test_size=0.33, random_state=324)"
   ]
  },
  {
   "cell_type": "code",
   "execution_count": 9,
   "metadata": {},
   "outputs": [],
   "source": [
    "# print(type(X_train), type(X_test), type(y_train), type(y_test))\n",
    "#X_train.head()\n",
    "#y_train.describe()"
   ]
  },
  {
   "cell_type": "code",
   "execution_count": 10,
   "metadata": {},
   "outputs": [
    {
     "data": {
      "text/plain": [
       "DecisionTreeClassifier(class_weight=None, criterion='gini', max_depth=None,\n",
       "            max_features=None, max_leaf_nodes=10,\n",
       "            min_impurity_decrease=0.0, min_impurity_split=None,\n",
       "            min_samples_leaf=1, min_samples_split=2,\n",
       "            min_weight_fraction_leaf=0.0, presort=False, random_state=0,\n",
       "            splitter='best')"
      ]
     },
     "execution_count": 10,
     "metadata": {},
     "output_type": "execute_result"
    }
   ],
   "source": [
    "# Fit on Train Set\n",
    "humidity_classifier = DecisionTreeClassifier(max_leaf_nodes=10, random_state=0)\n",
    "humidity_classifier.fit(X_train, y_train)"
   ]
  },
  {
   "cell_type": "code",
   "execution_count": 11,
   "metadata": {},
   "outputs": [
    {
     "name": "stdout",
     "output_type": "stream",
     "text": [
      "[0 0 1 1 1 1 0 0 0 1]\n",
      "456     0\n",
      "845     0\n",
      "693     1\n",
      "259     1\n",
      "723     1\n",
      "224     1\n",
      "300     1\n",
      "442     0\n",
      "585     1\n",
      "1057    1\n",
      "Name: high_humidity_label, dtype: int32\n",
      "Accuracy: 0.8153409090909091\n"
     ]
    }
   ],
   "source": [
    "# Predict on Test Set\n",
    "predictions = humidity_classifier.predict(X_test)\n",
    "print(predictions[:10])\n",
    "print(y_test['high_humidity_label'][:10])\n",
    "\n",
    "# Measure Accuracy of the Classifier \n",
    "print('Accuracy:', accuracy_score(y_true = y_test, y_pred = predictions))"
   ]
  }
 ],
 "metadata": {
  "kernelspec": {
   "display_name": "Python 3",
   "language": "python",
   "name": "python3"
  },
  "language_info": {
   "codemirror_mode": {
    "name": "ipython",
    "version": 3
   },
   "file_extension": ".py",
   "mimetype": "text/x-python",
   "name": "python",
   "nbconvert_exporter": "python",
   "pygments_lexer": "ipython3",
   "version": "3.6.4"
  }
 },
 "nbformat": 4,
 "nbformat_minor": 2
}
